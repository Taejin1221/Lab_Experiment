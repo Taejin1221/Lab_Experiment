{
  "nbformat": 4,
  "nbformat_minor": 0,
  "metadata": {
    "accelerator": "GPU",
    "colab": {
      "name": "GAN.ipynb",
      "provenance": [],
      "collapsed_sections": [],
      "toc_visible": true,
      "mount_file_id": "198tNlaQSPc1fM1Lkt96_MCOlLiP09_SY",
      "authorship_tag": "ABX9TyOoI0LvmhPIElrcWwMkytkR",
      "include_colab_link": true
    },
    "kernelspec": {
      "display_name": "Python 3",
      "name": "python3"
    }
  },
  "cells": [
    {
      "cell_type": "markdown",
      "metadata": {
        "id": "view-in-github",
        "colab_type": "text"
      },
      "source": [
        "<a href=\"https://colab.research.google.com/github/Taejin1221/Lab_Experiment/blob/main/GPS_Augmentation/GAN_5.ipynb\" target=\"_parent\"><img src=\"https://colab.research.google.com/assets/colab-badge.svg\" alt=\"Open In Colab\"/></a>"
      ]
    },
    {
      "cell_type": "markdown",
      "metadata": {
        "id": "2ir0MzpcMsuH"
      },
      "source": [
        "# Import Modules"
      ]
    },
    {
      "cell_type": "code",
      "metadata": {
        "id": "C8ArzIVRLo_5"
      },
      "source": [
        "import glob, time, cv2, os\n",
        "import numpy as np\n",
        "from IPython import display\n",
        "import matplotlib.pyplot as plt"
      ],
      "execution_count": null,
      "outputs": []
    },
    {
      "cell_type": "code",
      "metadata": {
        "id": "gzcOKcYOBJMq"
      },
      "source": [
        "CURR_DIR = '/content'\n",
        "\n",
        "X_DATA_DIR =  'train_x_data'\n",
        "Y_DATA_DIR = 'train_y_data'\n",
        "TEST_DIR = 'test_data'\n",
        "\n",
        "DRIVE_DIR = 'drive/MyDrive'\n",
        "RESULT_DIR = 'Results_GAN'"
      ],
      "execution_count": null,
      "outputs": []
    },
    {
      "cell_type": "code",
      "metadata": {
        "id": "IOGio1_EBKL3"
      },
      "source": [
        "IMG_SIZE = 128\n",
        "REPEAT_NUM = 1_000"
      ],
      "execution_count": null,
      "outputs": []
    },
    {
      "cell_type": "markdown",
      "metadata": {
        "id": "1KjYfu9MMih-"
      },
      "source": [
        "# Make Data"
      ]
    },
    {
      "cell_type": "code",
      "metadata": {
        "id": "4EPR2-XV7NGg"
      },
      "source": [
        "x_data = np.linspace( -10, 10, 50 )\n",
        "\n",
        "y_data1 = x_data\n",
        "y_data2 = -(x_data)\n",
        "y_data3 = x_data ** 2\n",
        "y_data4 = x_data ** 3\n",
        "\n",
        "Y_data = [ y_data1, y_data2, y_data3, y_data4 ]"
      ],
      "execution_count": null,
      "outputs": []
    },
    {
      "cell_type": "code",
      "metadata": {
        "id": "7cGIJqsmIWlL"
      },
      "source": [
        "file_list = os.listdir(  )\n",
        "\n",
        "if ( X_DATA_DIR not in file_list ):\n",
        "    os.mkdir( X_DATA_DIR )\n",
        "\n",
        "if ( Y_DATA_DIR not in file_list ):\n",
        "    os.mkdir( Y_DATA_DIR )\n",
        "\n",
        "if ( TEST_DIR not in file_list ):\n",
        "    os.mkdir( TEST_DIR )"
      ],
      "execution_count": null,
      "outputs": []
    },
    {
      "cell_type": "code",
      "metadata": {
        "id": "xHgpwaaYmx2a"
      },
      "source": [
        "X_DATA_DIR = os.path.join( CURR_DIR, X_DATA_DIR )\r\n",
        "Y_DATA_DIR = os.path.join( CURR_DIR, Y_DATA_DIR )\r\n",
        "TEST_DIR = os.path.join( CURR_DIR, TEST_DIR )"
      ],
      "execution_count": null,
      "outputs": []
    },
    {
      "cell_type": "code",
      "metadata": {
        "colab": {
          "base_uri": "https://localhost:8080/",
          "height": 85
        },
        "id": "JOBgcczT7PgW",
        "outputId": "2fc68d40-0f1f-48a1-ee64-fce6049538be"
      },
      "source": [
        "n = len( Y_data )\n",
        "\n",
        "figSize = ( IMG_SIZE / 100, IMG_SIZE / 100 )\n",
        "\n",
        "os.chdir( X_DATA_DIR )\n",
        "for i in range( n ):\n",
        "    plt.figure( figsize = figSize, dpi = 100 )\n",
        "\n",
        "    plt.plot( x_data, Y_data[i], 'k.' )\n",
        "    plt.axis( [ -10, 10, -50, 50 ] )\n",
        "    plt.axis( 'off' )\n",
        "\n",
        "    plt.savefig( 'graph_x_{:0d}.png'.format( i )  )\n",
        "    plt.clf()\n",
        "    plt.close()\n",
        "\n",
        "os.chdir( Y_DATA_DIR )\n",
        "for i in range( n ):\n",
        "    plt.figure( figsize = figSize, dpi = 100 )\n",
        "\n",
        "    plt.plot( x_data, Y_data[i], 'k-' )\n",
        "    plt.axis( [ -10, 10, -50, 50 ] )\n",
        "    plt.axis( 'off' )\n",
        "\n",
        "    plt.savefig( 'graph_y_{:0d}.png'.format( i )  )\n",
        "    plt.clf()\n",
        "    plt.close"
      ],
      "execution_count": null,
      "outputs": [
        {
          "output_type": "display_data",
          "data": {
            "text/plain": [
              "<Figure size 128x128 with 0 Axes>"
            ]
          },
          "metadata": {
            "tags": []
          }
        },
        {
          "output_type": "display_data",
          "data": {
            "text/plain": [
              "<Figure size 128x128 with 0 Axes>"
            ]
          },
          "metadata": {
            "tags": []
          }
        },
        {
          "output_type": "display_data",
          "data": {
            "text/plain": [
              "<Figure size 128x128 with 0 Axes>"
            ]
          },
          "metadata": {
            "tags": []
          }
        },
        {
          "output_type": "display_data",
          "data": {
            "text/plain": [
              "<Figure size 128x128 with 0 Axes>"
            ]
          },
          "metadata": {
            "tags": []
          }
        }
      ]
    },
    {
      "cell_type": "code",
      "metadata": {
        "colab": {
          "base_uri": "https://localhost:8080/",
          "height": 85
        },
        "id": "nCaLyVaZ7Ri6",
        "outputId": "b882ce0b-d1ae-439c-9aaf-d3e5e50586aa"
      },
      "source": [
        "dataSize = len( x_data )\n",
        "os.chdir( TEST_DIR )\n",
        "\n",
        "# y = x Data\n",
        "plt.figure( figsize = figSize, dpi = 100 )\n",
        "\n",
        "plt.plot( [ -2, 0, 2 ], [ -2, 0, 2 ], 'k.' )\n",
        "plt.axis( 'off' )\n",
        "\n",
        "plt.savefig( f'graph_test_0.png'  )\n",
        "plt.clf()\n",
        "\n",
        "# y = -x Data\n",
        "plt.figure( figsize = figSize, dpi = 100 )\n",
        "\n",
        "plt.plot( [ -2, 0, 2 ], [ 2, 0, -2 ], 'k.' )\n",
        "plt.axis( 'off' )\n",
        "\n",
        "plt.savefig( f'graph_test_1.png'  )\n",
        "plt.clf()\n",
        "\n",
        "# y = x^2 Data\n",
        "plt.figure( figsize = figSize, dpi = 100 )\n",
        "\n",
        "plt.plot( [ -2, 0, 2 ], [ 4, 0, 4 ], 'k.' )\n",
        "plt.axis( 'off' )\n",
        "\n",
        "plt.savefig( f'graph_test_2.png'  )\n",
        "plt.clf()\n",
        "\n",
        "# y = x^3 Data\n",
        "plt.figure( figsize = figSize, dpi = 100 )\n",
        "\n",
        "plt.plot( [ -2, 0, 2 ], [ -8, 0, 8 ], 'k.' )\n",
        "plt.axis( 'off' )\n",
        "\n",
        "plt.savefig( f'graph_test_3.png'  )\n",
        "plt.clf()\n"
      ],
      "execution_count": null,
      "outputs": [
        {
          "output_type": "display_data",
          "data": {
            "text/plain": [
              "<Figure size 128x128 with 0 Axes>"
            ]
          },
          "metadata": {
            "tags": []
          }
        },
        {
          "output_type": "display_data",
          "data": {
            "text/plain": [
              "<Figure size 128x128 with 0 Axes>"
            ]
          },
          "metadata": {
            "tags": []
          }
        },
        {
          "output_type": "display_data",
          "data": {
            "text/plain": [
              "<Figure size 128x128 with 0 Axes>"
            ]
          },
          "metadata": {
            "tags": []
          }
        },
        {
          "output_type": "display_data",
          "data": {
            "text/plain": [
              "<Figure size 128x128 with 0 Axes>"
            ]
          },
          "metadata": {
            "tags": []
          }
        }
      ]
    },
    {
      "cell_type": "markdown",
      "metadata": {
        "id": "xzp0v_erBDaC"
      },
      "source": [
        "# Load Data"
      ]
    },
    {
      "cell_type": "code",
      "metadata": {
        "id": "ed5IUDLeMdSc"
      },
      "source": [
        "x_data, y_data = [ ], [ ]\n",
        "x_test = [ ]\n",
        "\n",
        "os.chdir( X_DATA_DIR )\n",
        "files = glob.glob( '*png' )\n",
        "for file in files:\n",
        "    x_data.append( 255 - cv2.imread( file, 0 ) )\n",
        "    for _ in range( REPEAT_NUM ):\n",
        "        x_data.append( x_data[-1] )\n",
        "\n",
        "os.chdir( Y_DATA_DIR )\n",
        "files = glob.glob( '*png' )\n",
        "for file in files:\n",
        "    y_data.append( 255 - cv2.imread( file, 0 ) )\n",
        "    for _ in range( REPEAT_NUM ):\n",
        "        y_data.append( y_data[-1] )\n",
        "\n",
        "os.chdir( TEST_DIR )\n",
        "files = glob.glob( '*png' )\n",
        "for file in files:\n",
        "    x_test.append( 255 - cv2.imread( file, 0 ) )"
      ],
      "execution_count": null,
      "outputs": []
    },
    {
      "cell_type": "code",
      "metadata": {
        "colab": {
          "base_uri": "https://localhost:8080/",
          "height": 145
        },
        "id": "3ggCCceoMaeY",
        "outputId": "3651686b-40de-4458-e936-3836232e4c02"
      },
      "source": [
        "from google.colab.patches import cv2_imshow\n",
        "\n",
        "cv2_imshow( x_data[0] )"
      ],
      "execution_count": null,
      "outputs": [
        {
          "output_type": "display_data",
          "data": {
            "image/png": "[encoded data removed]",
            "text/plain": [
              "<PIL.Image.Image image mode=L size=128x128 at 0x7F0756AC1E48>"
            ]
          },
          "metadata": {
            "tags": []
          }
        }
      ]
    },
    {
      "cell_type": "code",
      "metadata": {
        "id": "EfrEfsPJ_asf"
      },
      "source": [
        "x_data = np.array( x_data ).astype( 'float32' )\n",
        "y_data = np.array( y_data ).astype( 'float32' )\n",
        "x_test = np.array( x_test ).astype( 'float32' )\n",
        "\n",
        "x_data = ( x_data - 127.5 ) / 127.5\n",
        "y_data = ( y_data - 127.5 ) / 127.5\n",
        "x_test = ( x_test - 127.5 ) / 127.5\n",
        "\n",
        "x_data = np.reshape( x_data, ( len( x_data ), IMG_SIZE, IMG_SIZE, 1 ) )\n",
        "y_data = np.reshape( y_data, ( len( y_data ), IMG_SIZE, IMG_SIZE, 1 ) )\n",
        "x_test = np.reshape( x_test, ( len( x_test ), IMG_SIZE, IMG_SIZE, 1 ) )"
      ],
      "execution_count": null,
      "outputs": []
    },
    {
      "cell_type": "code",
      "metadata": {
        "colab": {
          "base_uri": "https://localhost:8080/"
        },
        "id": "V6KDeGudBwUr",
        "outputId": "e013f1a6-60d6-4075-938a-7fc3ea0a6607"
      },
      "source": [
        "x_data.shape"
      ],
      "execution_count": null,
      "outputs": [
        {
          "output_type": "execute_result",
          "data": {
            "text/plain": [
              "(4004, 128, 128, 1)"
            ]
          },
          "metadata": {
            "tags": []
          },
          "execution_count": 12
        }
      ]
    },
    {
      "cell_type": "markdown",
      "metadata": {
        "id": "fo4B8Nd-NBKZ"
      },
      "source": [
        "# Build Models"
      ]
    },
    {
      "cell_type": "code",
      "metadata": {
        "id": "Av8962le7keX"
      },
      "source": [
        "import tensorflow as tf\n",
        "from tensorflow import keras\n",
        "from tensorflow.keras import layers"
      ],
      "execution_count": null,
      "outputs": []
    },
    {
      "cell_type": "code",
      "metadata": {
        "id": "Etp3cQtV_o4C"
      },
      "source": [
        "BUFFER_SIZE = 4_000\n",
        "BATCH_SIZE = 200\n",
        "train_dataset = tf.data.Dataset.from_tensor_slices(x_data).shuffle(BUFFER_SIZE).batch(BATCH_SIZE)"
      ],
      "execution_count": null,
      "outputs": []
    },
    {
      "cell_type": "markdown",
      "metadata": {
        "id": "BclHsCvaND9x"
      },
      "source": [
        "## Build Generator Model"
      ]
    },
    {
      "cell_type": "code",
      "metadata": {
        "id": "iK8p37IYMd9z"
      },
      "source": [
        "generator = keras.Sequential( name = 'generator' )\n",
        "\n",
        "generator.add( layers.Input( [ IMG_SIZE, IMG_SIZE, 1 ] ) )\n",
        "\n",
        "# output shape ( 256, 256, 16 )\n",
        "generator.add( layers.Conv2DTranspose( 16, ( 5, 5 ), padding = 'same', use_bias = False ) )\n",
        "generator.add( layers.BatchNormalization( ) )\n",
        "generator.add( layers.LeakyReLU( ) )\n",
        "\n",
        "# output shape ( 256, 256, 32 )\n",
        "generator.add( layers.Conv2DTranspose( 32, ( 5, 5 ), padding = 'same', use_bias = False ) )\n",
        "generator.add( layers.BatchNormalization( ) )\n",
        "generator.add( layers.LeakyReLU( ) )\n",
        "\n",
        " # output shape ( 256, 256, 64 )\n",
        "generator.add( layers.Conv2DTranspose( 64, ( 5, 5 ), padding = 'same', use_bias = False ) )\n",
        "generator.add( layers.BatchNormalization( ) )\n",
        "generator.add( layers.LeakyReLU( ) )\n",
        "\n",
        "# # output shape ( 256, 256, 128 )\n",
        "generator.add( layers.Conv2DTranspose( 128, ( 5, 5 ), padding = 'same', use_bias = False ) )\n",
        "generator.add( layers.BatchNormalization( ) )\n",
        "generator.add( layers.LeakyReLU( ) )\n",
        "\n",
        "# output shape ( 256, 256, 1 )\n",
        "generator.add( layers.Conv2DTranspose( 1, ( 5, 5 ), padding = 'same', use_bias = False, activation = 'tanh' ) )"
      ],
      "execution_count": null,
      "outputs": []
    },
    {
      "cell_type": "code",
      "metadata": {
        "id": "scITGONbOf_N"
      },
      "source": [
        "# generator.compile( )\n",
        "# generator.summary()"
      ],
      "execution_count": null,
      "outputs": []
    },
    {
      "cell_type": "code",
      "metadata": {
        "colab": {
          "base_uri": "https://localhost:8080/",
          "height": 285
        },
        "id": "FWA0TGM7FIDj",
        "outputId": "b2c8fe3c-0d33-44fd-dc57-0080d1c20e84"
      },
      "source": [
        "noise = tf.random.normal( [ 1, IMG_SIZE, IMG_SIZE, 1 ] )\n",
        "generated_image = generator( noise, training = False )\n",
        "\n",
        "plt.imshow( generated_image[ 0, :, :, 0 ], cmap = 'gray' )"
      ],
      "execution_count": null,
      "outputs": [
        {
          "output_type": "execute_result",
          "data": {
            "text/plain": [
              "<matplotlib.image.AxesImage at 0x7f06c4796e80>"
            ]
          },
          "metadata": {
            "tags": []
          },
          "execution_count": 17
        },
        {
          "output_type": "display_data",
          "data": {
            "image/png": "[encoded data removed]",
            "text/plain": [
              "<Figure size 432x288 with 1 Axes>"
            ]
          },
          "metadata": {
            "tags": []
          }
        }
      ]
    },
    {
      "cell_type": "code",
      "metadata": {
        "colab": {
          "base_uri": "https://localhost:8080/"
        },
        "id": "-89zYlDHObUY",
        "outputId": "07b21958-0c61-4015-b49c-d8bf6b3b2e9a"
      },
      "source": [
        "generated_image.shape"
      ],
      "execution_count": null,
      "outputs": [
        {
          "output_type": "execute_result",
          "data": {
            "text/plain": [
              "TensorShape([1, 128, 128, 1])"
            ]
          },
          "metadata": {
            "tags": []
          },
          "execution_count": 18
        }
      ]
    },
    {
      "cell_type": "markdown",
      "metadata": {
        "id": "5lsNI6l7NHS_"
      },
      "source": [
        "## Build Discriminator Model"
      ]
    },
    {
      "cell_type": "code",
      "metadata": {
        "id": "59HyNNqKNJa3"
      },
      "source": [
        "discriminator = keras.Sequential( name = 'discriminator' )\n",
        "\n",
        "discriminator.add( layers.Conv2D( 16, ( 5, 5 ), strides = ( 2, 2 ), padding = 'same',\n",
        "                                 input_shape = [ IMG_SIZE, IMG_SIZE, 1 ] ) )\n",
        "discriminator.add( layers.LeakyReLU( ) )\n",
        "discriminator.add( layers.Dropout( 0.3 ) )\n",
        "\n",
        "discriminator.add( layers.Conv2D( 32, ( 5, 5 ), strides = ( 2, 2 ), padding = 'same' ) )\n",
        "discriminator.add( layers.LeakyReLU( ) )\n",
        "discriminator.add( layers.Dropout( 0.3 ) )\n",
        "\n",
        "discriminator.add( layers.Conv2D( 64, ( 5, 5 ), strides = ( 2, 2 ), padding = 'same' ) )\n",
        "discriminator.add( layers.LeakyReLU( ) )\n",
        "discriminator.add( layers.Dropout( 0.3 ) )\n",
        "\n",
        "discriminator.add( layers.Flatten( ) )\n",
        "discriminator.add( layers.Dense( 1 ) )"
      ],
      "execution_count": null,
      "outputs": []
    },
    {
      "cell_type": "code",
      "metadata": {
        "colab": {
          "base_uri": "https://localhost:8080/"
        },
        "id": "1EI_1S-8Hfiu",
        "outputId": "005336ca-892c-4bb0-a32b-b42373aa0025"
      },
      "source": [
        "decision = discriminator( generated_image )\n",
        "print( decision )"
      ],
      "execution_count": null,
      "outputs": [
        {
          "output_type": "stream",
          "text": [
            "tf.Tensor([[-5.204254e-05]], shape=(1, 1), dtype=float32)\n"
          ],
          "name": "stdout"
        }
      ]
    },
    {
      "cell_type": "markdown",
      "metadata": {
        "id": "aFnEebFfJF1f"
      },
      "source": [
        "# Train the models"
      ]
    },
    {
      "cell_type": "markdown",
      "metadata": {
        "id": "HB-qjfM9JZXy"
      },
      "source": [
        "## Define loss and optimizers"
      ]
    },
    {
      "cell_type": "code",
      "metadata": {
        "id": "nCI0SIKBHlCr"
      },
      "source": [
        "cross_entropy = keras.losses.BinaryCrossentropy( from_logits = True )"
      ],
      "execution_count": null,
      "outputs": []
    },
    {
      "cell_type": "code",
      "metadata": {
        "id": "DgUSGNCNITO-"
      },
      "source": [
        "def discriminator_loss( real_output, fake_output ):\n",
        "    real_loss = cross_entropy( tf.ones_like( real_output ), real_output )\n",
        "    fake_loss = cross_entropy( tf.zeros_like( fake_output ), fake_output )\n",
        "\n",
        "    total_loss = real_loss + fake_loss\n",
        "    \n",
        "    return total_loss\n",
        "\n",
        "def generator_loss( fake_output ):\n",
        "    return cross_entropy( tf.ones_like( fake_output ), fake_output )"
      ],
      "execution_count": null,
      "outputs": []
    },
    {
      "cell_type": "code",
      "metadata": {
        "id": "pCGCUVSkI57q"
      },
      "source": [
        "generator_optimizer = tf.keras.optimizers.Adam( 1e-4 )\n",
        "discriminator_optimizer = tf.keras.optimizers.Adam( 1e-4 )"
      ],
      "execution_count": null,
      "outputs": []
    },
    {
      "cell_type": "markdown",
      "metadata": {
        "id": "ePMCxm0GJcAJ"
      },
      "source": [
        "## Define Hyperparameter"
      ]
    },
    {
      "cell_type": "code",
      "metadata": {
        "id": "MC6cFLL8JDM1"
      },
      "source": [
        "EPOCHS = 1_000"
      ],
      "execution_count": null,
      "outputs": []
    },
    {
      "cell_type": "markdown",
      "metadata": {
        "id": "89WGTyVzKgP-"
      },
      "source": [
        "## Define Train Function"
      ]
    },
    {
      "cell_type": "code",
      "metadata": {
        "id": "8UNXBqzV3LBc"
      },
      "source": [
        "def generate_and_save_images( epochs ):\n",
        "    predictions = generator( x_test, training = False )\n",
        "\n",
        "    n = len( x_test )\n",
        "    fig, ax = plt.subplots( 1, n, True, True, figsize = ( 16, 12 ) )\n",
        "    for i in range( n ):\n",
        "        ax[i].imshow( tf.reshape( predictions[i], ( IMG_SIZE, IMG_SIZE ) ) )\n",
        "\n",
        "    plt.savefig( 'Result_at_epoch_{:04d}.png'.format( epochs ) )\n",
        "    plt.show()"
      ],
      "execution_count": null,
      "outputs": []
    },
    {
      "cell_type": "code",
      "metadata": {
        "id": "tqQpnzlkKf2H"
      },
      "source": [
        "@tf.function\n",
        "def train_step( images ):\n",
        "    noise = tf.random.normal( [ BATCH_SIZE, IMG_SIZE, IMG_SIZE, 1 ] )\n",
        "\n",
        "    with tf.GradientTape( ) as gen_tape, tf.GradientTape( ) as disc_tape:\n",
        "      generated_images = generator( noise, training = True )\n",
        "\n",
        "      real_output = discriminator( images, training = True )\n",
        "      fake_output = discriminator( generated_images, training = True )\n",
        "\n",
        "      gen_loss = generator_loss( fake_output )\n",
        "      disc_loss = discriminator_loss( real_output, fake_output )\n",
        "\n",
        "    gradients_of_generator = gen_tape.gradient( gen_loss, generator.trainable_variables )\n",
        "    gradients_of_discriminator = disc_tape.gradient( disc_loss, discriminator.trainable_variables )\n",
        "\n",
        "    generator_optimizer.apply_gradients( zip( gradients_of_generator, generator.trainable_variables ) )\n",
        "    discriminator_optimizer.apply_gradients( zip( gradients_of_discriminator, discriminator.trainable_variables ) )\n",
        "\n",
        "def train( dataset, epochs ):\n",
        "    plt.gray()\n",
        "    os.chdir( os.path.join( CURR_DIR, DRIVE_DIR ) )\n",
        "    if ( RESULT_DIR not in os.listdir() ):\n",
        "        os.mkdir( RESULT_DIR )\n",
        "    os.chdir( RESULT_DIR )\n",
        "\n",
        "    for epoch in range( epochs ):\n",
        "        start = time.time( )\n",
        "\n",
        "        for image_batch in dataset:\n",
        "            train_step( image_batch )\n",
        "\n",
        "        if ( epoch % 50 == 0 ):\n",
        "            display.clear_output(wait=True)\n",
        "            generate_and_save_images( epoch )\n",
        "\n",
        "        print( 'Time for epoch {:02d} is {:.4f} sec'.format( epoch + 1, time.time( ) - start ) )"
      ],
      "execution_count": null,
      "outputs": []
    },
    {
      "cell_type": "code",
      "metadata": {
        "colab": {
          "background_save": true,
          "base_uri": "https://localhost:8080/"
        },
        "id": "LA0NIrgo6xbk",
        "outputId": "9415fd74-1680-46eb-9342-a957669789f4"
      },
      "source": [
        "train( train_dataset, EPOCHS )"
      ],
      "execution_count": null,
      "outputs": [
        {
          "output_type": "display_data",
          "data": {
            "image/png": "[encoded data removed]",
            "text/plain": [
              "<Figure size 1152x864 with 4 Axes>"
            ]
          },
          "metadata": {
            "tags": []
          }
        },
        {
          "output_type": "stream",
          "text": [
            "Time for epoch 951 is 33.3332 sec\n",
            "Time for epoch 952 is 29.9531 sec\n",
            "Time for epoch 953 is 31.2210 sec\n",
            "Time for epoch 954 is 31.2287 sec\n",
            "Time for epoch 955 is 31.2758 sec\n",
            "Time for epoch 956 is 31.2841 sec\n",
            "Time for epoch 957 is 31.2970 sec\n",
            "Time for epoch 958 is 31.2949 sec\n",
            "Time for epoch 959 is 31.3099 sec\n",
            "Time for epoch 960 is 31.3277 sec\n",
            "Time for epoch 961 is 31.2648 sec\n",
            "Time for epoch 962 is 31.2207 sec\n",
            "Time for epoch 963 is 31.1446 sec\n",
            "Time for epoch 964 is 31.1521 sec\n",
            "Time for epoch 965 is 31.1844 sec\n",
            "Time for epoch 966 is 31.2452 sec\n",
            "Time for epoch 967 is 31.2718 sec\n",
            "Time for epoch 968 is 31.2943 sec\n",
            "Time for epoch 969 is 31.2766 sec\n",
            "Time for epoch 970 is 31.2384 sec\n",
            "Time for epoch 971 is 31.2207 sec\n",
            "Time for epoch 972 is 31.2148 sec\n",
            "Time for epoch 973 is 31.2494 sec\n",
            "Time for epoch 974 is 31.2647 sec\n",
            "Time for epoch 975 is 31.2427 sec\n",
            "Time for epoch 976 is 31.2640 sec\n",
            "Time for epoch 977 is 31.2335 sec\n",
            "Time for epoch 978 is 31.2648 sec\n",
            "Time for epoch 979 is 31.2774 sec\n",
            "Time for epoch 980 is 31.2417 sec\n",
            "Time for epoch 981 is 31.2682 sec\n",
            "Time for epoch 982 is 31.2507 sec\n",
            "Time for epoch 983 is 31.2690 sec\n",
            "Time for epoch 984 is 31.2931 sec\n",
            "Time for epoch 985 is 31.2146 sec\n",
            "Time for epoch 986 is 31.1776 sec\n",
            "Time for epoch 987 is 31.1743 sec\n",
            "Time for epoch 988 is 31.2038 sec\n",
            "Time for epoch 989 is 31.1935 sec\n",
            "Time for epoch 990 is 31.2187 sec\n",
            "Time for epoch 991 is 31.2313 sec\n",
            "Time for epoch 992 is 31.2291 sec\n",
            "Time for epoch 993 is 31.2116 sec\n",
            "Time for epoch 994 is 31.2589 sec\n",
            "Time for epoch 995 is 31.3015 sec\n",
            "Time for epoch 996 is 31.2789 sec\n",
            "Time for epoch 997 is 31.2690 sec\n",
            "Time for epoch 998 is 31.2226 sec\n",
            "Time for epoch 999 is 31.1646 sec\n",
            "Time for epoch 1000 is 31.1542 sec\n"
          ],
          "name": "stdout"
        }
      ]
    },
    {
      "cell_type": "markdown",
      "metadata": {
        "id": "uT2iXgY-CXp7"
      },
      "source": [
        "# Test Model"
      ]
    },
    {
      "cell_type": "code",
      "metadata": {
        "colab": {
          "background_save": true
        },
        "id": "FOhm27aMCWm7",
        "outputId": "985714d3-3a40-4b71-e426-14d4f58d87a8"
      },
      "source": [
        "predicted_images = generator( seed )\n",
        "\n",
        "n = len( x_test )\n",
        "fig, ax = plt.subplots( 2, n, True, True, figsize = ( 16, 12 ) )\n",
        "for i in range( n ):\n",
        "    ax[0][i].imshow( x_test.reshape( IMG_SIZE, IMG_SIZE ) )\n",
        "    ax[1][i].imshow( tf.reshape( predicted_images[i], ( IMG_SIZE, IMG_SIZE ) ) )\n",
        "plt.savefig( 'Result_Final.png' )"
      ],
      "execution_count": null,
      "outputs": [
        {
          "output_type": "error",
          "ename": "NameError",
          "evalue": "ignored",
          "traceback": [
            "\u001b[0;31m---------------------------------------------------------------------------\u001b[0m",
            "\u001b[0;31mNameError\u001b[0m                                 Traceback (most recent call last)",
            "\u001b[0;32m<ipython-input-28-9af6831405d1>\u001b[0m in \u001b[0;36m<module>\u001b[0;34m()\u001b[0m\n\u001b[0;32m----> 1\u001b[0;31m \u001b[0mpredicted_images\u001b[0m \u001b[0;34m=\u001b[0m \u001b[0mgenerator\u001b[0m\u001b[0;34m(\u001b[0m \u001b[0mseed\u001b[0m \u001b[0;34m)\u001b[0m\u001b[0;34m\u001b[0m\u001b[0;34m\u001b[0m\u001b[0m\n\u001b[0m\u001b[1;32m      2\u001b[0m \u001b[0;34m\u001b[0m\u001b[0m\n\u001b[1;32m      3\u001b[0m \u001b[0mn\u001b[0m \u001b[0;34m=\u001b[0m \u001b[0mlen\u001b[0m\u001b[0;34m(\u001b[0m \u001b[0mx_test\u001b[0m \u001b[0;34m)\u001b[0m\u001b[0;34m\u001b[0m\u001b[0;34m\u001b[0m\u001b[0m\n\u001b[1;32m      4\u001b[0m \u001b[0mfig\u001b[0m\u001b[0;34m,\u001b[0m \u001b[0max\u001b[0m \u001b[0;34m=\u001b[0m \u001b[0mplt\u001b[0m\u001b[0;34m.\u001b[0m\u001b[0msubplots\u001b[0m\u001b[0;34m(\u001b[0m \u001b[0;36m2\u001b[0m\u001b[0;34m,\u001b[0m \u001b[0mn\u001b[0m\u001b[0;34m,\u001b[0m \u001b[0;32mTrue\u001b[0m\u001b[0;34m,\u001b[0m \u001b[0;32mTrue\u001b[0m\u001b[0;34m,\u001b[0m \u001b[0mfigsize\u001b[0m \u001b[0;34m=\u001b[0m \u001b[0;34m(\u001b[0m \u001b[0;36m16\u001b[0m\u001b[0;34m,\u001b[0m \u001b[0;36m12\u001b[0m \u001b[0;34m)\u001b[0m \u001b[0;34m)\u001b[0m\u001b[0;34m\u001b[0m\u001b[0;34m\u001b[0m\u001b[0m\n\u001b[1;32m      5\u001b[0m \u001b[0;32mfor\u001b[0m \u001b[0mi\u001b[0m \u001b[0;32min\u001b[0m \u001b[0mrange\u001b[0m\u001b[0;34m(\u001b[0m \u001b[0mn\u001b[0m \u001b[0;34m)\u001b[0m\u001b[0;34m:\u001b[0m\u001b[0;34m\u001b[0m\u001b[0;34m\u001b[0m\u001b[0m\n",
            "\u001b[0;31mNameError\u001b[0m: name 'seed' is not defined"
          ]
        }
      ]
    }
  ]
}