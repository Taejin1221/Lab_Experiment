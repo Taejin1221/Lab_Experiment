{
  "nbformat": 4,
  "nbformat_minor": 0,
  "metadata": {
    "colab": {
      "name": "GAN_MNIST.ipynb",
      "provenance": [],
      "collapsed_sections": [],
      "toc_visible": true,
      "mount_file_id": "1CS-HYoddRKvNMuUFOd-lem0PHNofYdNr",
      "authorship_tag": "ABX9TyM7Xh0OpWHL/pyViULud+Cj",
      "include_colab_link": true
    },
    "kernelspec": {
      "name": "python3",
      "display_name": "Python 3"
    },
    "accelerator": "GPU"
  },
  "cells": [
    {
      "cell_type": "markdown",
      "metadata": {
        "id": "view-in-github",
        "colab_type": "text"
      },
      "source": [
        "<a href=\"https://colab.research.google.com/github/Taejin1221/Lab_Experiment/blob/main/GPS_Augmentation/GAN_4.ipynb\" target=\"_parent\"><img src=\"https://colab.research.google.com/assets/colab-badge.svg\" alt=\"Open In Colab\"/></a>"
      ]
    },
    {
      "cell_type": "markdown",
      "metadata": {
        "id": "2ir0MzpcMsuH"
      },
      "source": [
        "# Import Modules"
      ]
    },
    {
      "cell_type": "code",
      "metadata": {
        "id": "C8ArzIVRLo_5"
      },
      "source": [
        "import glob, time, cv2, os\n",
        "import numpy as np\n",
        "from IPython import display\n",
        "import matplotlib.pyplot as plt"
      ],
      "execution_count": 21,
      "outputs": []
    },
    {
      "cell_type": "code",
      "metadata": {
        "id": "gzcOKcYOBJMq"
      },
      "source": [
        "CURR_DIR = '/content'\n",
        "\n",
        "DRIVE_DIR = 'drive/MyDrive'\n",
        "RESULT_DIR = 'Results'"
      ],
      "execution_count": 22,
      "outputs": []
    },
    {
      "cell_type": "code",
      "metadata": {
        "id": "IOGio1_EBKL3"
      },
      "source": [
        "IMG_SIZE = 28"
      ],
      "execution_count": 23,
      "outputs": []
    },
    {
      "cell_type": "markdown",
      "metadata": {
        "id": "fo4B8Nd-NBKZ"
      },
      "source": [
        "# Build Models"
      ]
    },
    {
      "cell_type": "code",
      "metadata": {
        "id": "Av8962le7keX"
      },
      "source": [
        "import tensorflow as tf\n",
        "from tensorflow import keras\n",
        "from tensorflow.keras import layers"
      ],
      "execution_count": 24,
      "outputs": []
    },
    {
      "cell_type": "code",
      "metadata": {
        "id": "6OpXqG6ali5t"
      },
      "source": [
        "(x_data, y_data), (x_test, y_test) = keras.datasets.mnist.load_data()\n",
        "x_data = x_data.reshape( x_data.shape[0], IMG_SIZE, IMG_SIZE, 1 ).astype('float32')\n",
        "x_test = x_test.reshape( x_test.shape[0], IMG_SIZE, IMG_SIZE, 1 ).astype( 'float32' )\n",
        "\n",
        "x_data = ( x_data - 127.5 ) / 127.5\n",
        "x_test = ( x_test - 127.5 ) / 127.5"
      ],
      "execution_count": 25,
      "outputs": []
    },
    {
      "cell_type": "code",
      "metadata": {
        "id": "Etp3cQtV_o4C"
      },
      "source": [
        "BUFFER_SIZE = 60_000\n",
        "BATCH_SIZE = 256\n",
        "train_dataset = tf.data.Dataset.from_tensor_slices(x_data).shuffle(BUFFER_SIZE).batch(BATCH_SIZE)"
      ],
      "execution_count": 26,
      "outputs": []
    },
    {
      "cell_type": "markdown",
      "metadata": {
        "id": "BclHsCvaND9x"
      },
      "source": [
        "## Build Generator Model"
      ]
    },
    {
      "cell_type": "code",
      "metadata": {
        "id": "iK8p37IYMd9z"
      },
      "source": [
        "generator = keras.Sequential( name = 'generator' )\n",
        "\n",
        "generator.add( layers.Input( [ IMG_SIZE, IMG_SIZE, 1 ] ) )\n",
        "\n",
        "# output shape ( 28, 28, 16 )\n",
        "generator.add( layers.Conv2DTranspose( 16, ( 5, 5 ), padding = 'same', use_bias = False ) )\n",
        "generator.add( layers.BatchNormalization( ) )\n",
        "generator.add( layers.LeakyReLU( ) )\n",
        "\n",
        "# output shape ( 28, 28, 32 )\n",
        "generator.add( layers.Conv2DTranspose( 32, ( 5, 5 ), padding = 'same', use_bias = False ) )\n",
        "generator.add( layers.BatchNormalization( ) )\n",
        "generator.add( layers.LeakyReLU( ) )\n",
        "\n",
        " # output shape ( 128, 128, 64 )\n",
        "generator.add( layers.Conv2DTranspose( 64, ( 5, 5 ), padding = 'same', use_bias = False ) )\n",
        "generator.add( layers.BatchNormalization( ) )\n",
        "generator.add( layers.LeakyReLU( ) )\n",
        "\n",
        "# output shape ( 32, 32, 1 )\n",
        "generator.add( layers.Conv2DTranspose( 1, ( 5, 5 ), padding = 'same', use_bias = False, activation = 'tanh' ) )"
      ],
      "execution_count": 27,
      "outputs": []
    },
    {
      "cell_type": "code",
      "metadata": {
        "id": "scITGONbOf_N"
      },
      "source": [
        "# generator.compile( )\n",
        "# generator.summary()"
      ],
      "execution_count": 28,
      "outputs": []
    },
    {
      "cell_type": "code",
      "metadata": {
        "colab": {
          "base_uri": "https://localhost:8080/",
          "height": 282
        },
        "id": "FWA0TGM7FIDj",
        "outputId": "ad104bf5-1086-4c43-b158-ebbe469872c7"
      },
      "source": [
        "noise = tf.random.normal( [ 1, IMG_SIZE, IMG_SIZE, 1 ] )\n",
        "generated_image = generator( noise, training = False )\n",
        "\n",
        "plt.imshow( generated_image[ 0, :, :, 0 ], cmap = 'gray' )"
      ],
      "execution_count": 29,
      "outputs": [
        {
          "output_type": "execute_result",
          "data": {
            "text/plain": [
              "<matplotlib.image.AxesImage at 0x7efed7f97e48>"
            ]
          },
          "metadata": {
            "tags": []
          },
          "execution_count": 29
        },
        {
          "output_type": "display_data",
          "data": {
            "image/png": "[encoded data removed]",
            "text/plain": [
              "<Figure size 432x288 with 1 Axes>"
            ]
          },
          "metadata": {
            "tags": [],
            "needs_background": "light"
          }
        }
      ]
    },
    {
      "cell_type": "code",
      "metadata": {
        "colab": {
          "base_uri": "https://localhost:8080/"
        },
        "id": "-89zYlDHObUY",
        "outputId": "a1b96815-8672-4769-813d-d26f3ba3fe1b"
      },
      "source": [
        "generated_image.shape"
      ],
      "execution_count": 30,
      "outputs": [
        {
          "output_type": "execute_result",
          "data": {
            "text/plain": [
              "TensorShape([1, 28, 28, 1])"
            ]
          },
          "metadata": {
            "tags": []
          },
          "execution_count": 30
        }
      ]
    },
    {
      "cell_type": "markdown",
      "metadata": {
        "id": "5lsNI6l7NHS_"
      },
      "source": [
        "## Build Discriminator Model"
      ]
    },
    {
      "cell_type": "code",
      "metadata": {
        "id": "59HyNNqKNJa3"
      },
      "source": [
        "discriminator = keras.Sequential( name = 'discriminator' )\n",
        "\n",
        "discriminator.add( layers.Conv2D( 16, ( 5, 5 ), strides = ( 2, 2 ), padding = 'same',\n",
        "                                 input_shape = [ IMG_SIZE, IMG_SIZE, 1 ] ) )\n",
        "discriminator.add( layers.LeakyReLU( ) )\n",
        "discriminator.add( layers.Dropout( 0.3 ) )\n",
        "\n",
        "discriminator.add( layers.Conv2D( 32, ( 5, 5 ), strides = ( 2, 2 ), padding = 'same' ) )\n",
        "discriminator.add( layers.LeakyReLU( ) )\n",
        "discriminator.add( layers.Dropout( 0.3 ) )\n",
        "\n",
        "discriminator.add( layers.Flatten( ) )\n",
        "discriminator.add( layers.Dense( 1 ) )"
      ],
      "execution_count": 31,
      "outputs": []
    },
    {
      "cell_type": "code",
      "metadata": {
        "colab": {
          "base_uri": "https://localhost:8080/"
        },
        "id": "1EI_1S-8Hfiu",
        "outputId": "a098d54b-e031-4063-b8be-a421a61f457e"
      },
      "source": [
        "decision = discriminator( generated_image )\n",
        "print( decision )"
      ],
      "execution_count": 32,
      "outputs": [
        {
          "output_type": "stream",
          "text": [
            "tf.Tensor([[0.00670436]], shape=(1, 1), dtype=float32)\n"
          ],
          "name": "stdout"
        }
      ]
    },
    {
      "cell_type": "markdown",
      "metadata": {
        "id": "aFnEebFfJF1f"
      },
      "source": [
        "# Train the models"
      ]
    },
    {
      "cell_type": "markdown",
      "metadata": {
        "id": "HB-qjfM9JZXy"
      },
      "source": [
        "## Define loss and optimizers"
      ]
    },
    {
      "cell_type": "code",
      "metadata": {
        "id": "nCI0SIKBHlCr"
      },
      "source": [
        "cross_entropy = keras.losses.BinaryCrossentropy( from_logits = True )"
      ],
      "execution_count": 33,
      "outputs": []
    },
    {
      "cell_type": "code",
      "metadata": {
        "id": "DgUSGNCNITO-"
      },
      "source": [
        "def discriminator_loss( real_output, fake_output ):\n",
        "    real_loss = cross_entropy( tf.ones_like( real_output ), real_output )\n",
        "    fake_loss = cross_entropy( tf.zeros_like( fake_output ), fake_output )\n",
        "\n",
        "    total_loss = real_loss + fake_loss\n",
        "    \n",
        "    return total_loss\n",
        "\n",
        "def generator_loss( fake_output ):\n",
        "    return cross_entropy( tf.ones_like( fake_output ), fake_output )"
      ],
      "execution_count": 34,
      "outputs": []
    },
    {
      "cell_type": "code",
      "metadata": {
        "id": "pCGCUVSkI57q"
      },
      "source": [
        "generator_optimizer = tf.keras.optimizers.Adam( 1e-4 )\n",
        "discriminator_optimizer = tf.keras.optimizers.Adam( 1e-4 )"
      ],
      "execution_count": 35,
      "outputs": []
    },
    {
      "cell_type": "markdown",
      "metadata": {
        "id": "ePMCxm0GJcAJ"
      },
      "source": [
        "## Define Hyperparameter"
      ]
    },
    {
      "cell_type": "code",
      "metadata": {
        "id": "MC6cFLL8JDM1"
      },
      "source": [
        "EPOCHS = 1000\n",
        "example_row = 4\n",
        "example_col = 4\n",
        "num_examples_to_generate = 16"
      ],
      "execution_count": 36,
      "outputs": []
    },
    {
      "cell_type": "markdown",
      "metadata": {
        "id": "89WGTyVzKgP-"
      },
      "source": [
        "## Define Train Function"
      ]
    },
    {
      "cell_type": "code",
      "metadata": {
        "id": "4xFaNGv4BEja"
      },
      "source": [
        "seed = tf.random.normal( [ num_examples_to_generate, IMG_SIZE, IMG_SIZE, 1 ] )"
      ],
      "execution_count": 37,
      "outputs": []
    },
    {
      "cell_type": "code",
      "metadata": {
        "id": "8UNXBqzV3LBc"
      },
      "source": [
        "def generate_and_save_images( epochs ):\n",
        "    predictions = generator( seed, training = False )\n",
        "\n",
        "    n = num_examples_to_generate\n",
        "    fig, ax = plt.subplots( example_row, example_col, True, True, figsize = ( 16, 12 ) )\n",
        "    for i in range( n ):\n",
        "        ax[i // example_row][i % example_col].imshow( tf.reshape( predictions[i], ( IMG_SIZE, IMG_SIZE ) ) )\n",
        "\n",
        "    plt.savefig( 'Result_at_epoch_{:04d}.png'.format( epochs ) )\n",
        "    plt.show()"
      ],
      "execution_count": 38,
      "outputs": []
    },
    {
      "cell_type": "code",
      "metadata": {
        "id": "tqQpnzlkKf2H"
      },
      "source": [
        "@tf.function\n",
        "def train_step( images ):\n",
        "    noise = tf.random.normal( [ BATCH_SIZE, IMG_SIZE, IMG_SIZE, 1 ] )\n",
        "\n",
        "    with tf.GradientTape( ) as gen_tape, tf.GradientTape( ) as disc_tape:\n",
        "      generated_images = generator( noise, training = True )\n",
        "\n",
        "      real_output = discriminator( images, training = True )\n",
        "      fake_output = discriminator( generated_images, training = True )\n",
        "\n",
        "      gen_loss = generator_loss( fake_output )\n",
        "      disc_loss = discriminator_loss( real_output, fake_output )\n",
        "\n",
        "    gradients_of_generator = gen_tape.gradient( gen_loss, generator.trainable_variables )\n",
        "    gradients_of_discriminator = disc_tape.gradient( disc_loss, discriminator.trainable_variables )\n",
        "\n",
        "    generator_optimizer.apply_gradients( zip( gradients_of_generator, generator.trainable_variables ) )\n",
        "    discriminator_optimizer.apply_gradients( zip( gradients_of_discriminator, discriminator.trainable_variables ) )\n",
        "\n",
        "def train( dataset, epochs ):\n",
        "    plt.gray()\n",
        "    os.chdir( os.path.join( CURR_DIR, DRIVE_DIR ) )\n",
        "    if ( RESULT_DIR not in os.listdir() ):\n",
        "        os.mkdir( RESULT_DIR )\n",
        "    os.chdir( RESULT_DIR )\n",
        "\n",
        "    for epoch in range( epochs ):\n",
        "        start = time.time( )\n",
        "\n",
        "        for image_batch in dataset:\n",
        "            train_step( image_batch )\n",
        "\n",
        "        if ( epoch % 50 == 0 ):\n",
        "            display.clear_output(wait=True)\n",
        "            generate_and_save_images( epoch )\n",
        "\n",
        "        print( 'Time for epoch {:02d} is {:.4f} sec'.format( epoch + 1, time.time( ) - start ) )"
      ],
      "execution_count": 39,
      "outputs": []
    },
    {
      "cell_type": "code",
      "metadata": {
        "colab": {
          "base_uri": "https://localhost:8080/",
          "height": 1000
        },
        "id": "LA0NIrgo6xbk",
        "outputId": "bfa995fc-0a63-42ed-b6e8-9a49c19b462d"
      },
      "source": [
        "train( train_dataset, EPOCHS )"
      ],
      "execution_count": 40,
      "outputs": [
        {
          "output_type": "display_data",
          "data": {
            "image/png": "[encoded data removed]",
            "text/plain": [
              "<Figure size 1152x864 with 16 Axes>"
            ]
          },
          "metadata": {
            "tags": [],
            "needs_background": "light"
          }
        },
        {
          "output_type": "stream",
          "text": [
            "Time for epoch 951 is 8.1672 sec\n",
            "Time for epoch 952 is 5.1235 sec\n",
            "Time for epoch 953 is 5.1106 sec\n",
            "Time for epoch 954 is 5.1095 sec\n",
            "Time for epoch 955 is 5.1226 sec\n",
            "Time for epoch 956 is 5.1380 sec\n",
            "Time for epoch 957 is 5.1391 sec\n",
            "Time for epoch 958 is 5.1333 sec\n",
            "Time for epoch 959 is 5.1345 sec\n",
            "Time for epoch 960 is 5.1188 sec\n",
            "Time for epoch 961 is 5.1285 sec\n",
            "Time for epoch 962 is 5.1188 sec\n",
            "Time for epoch 963 is 5.1124 sec\n",
            "Time for epoch 964 is 5.1064 sec\n",
            "Time for epoch 965 is 5.1256 sec\n",
            "Time for epoch 966 is 5.1072 sec\n",
            "Time for epoch 967 is 5.1376 sec\n",
            "Time for epoch 968 is 5.1102 sec\n",
            "Time for epoch 969 is 5.1216 sec\n",
            "Time for epoch 970 is 5.1093 sec\n",
            "Time for epoch 971 is 5.1038 sec\n",
            "Time for epoch 972 is 5.1170 sec\n",
            "Time for epoch 973 is 5.1303 sec\n",
            "Time for epoch 974 is 5.1240 sec\n",
            "Time for epoch 975 is 5.1183 sec\n",
            "Time for epoch 976 is 5.1490 sec\n",
            "Time for epoch 977 is 5.1254 sec\n",
            "Time for epoch 978 is 5.1292 sec\n",
            "Time for epoch 979 is 5.1158 sec\n",
            "Time for epoch 980 is 5.1214 sec\n",
            "Time for epoch 981 is 5.1138 sec\n",
            "Time for epoch 982 is 5.1123 sec\n",
            "Time for epoch 983 is 5.1107 sec\n",
            "Time for epoch 984 is 5.1146 sec\n",
            "Time for epoch 985 is 5.1010 sec\n",
            "Time for epoch 986 is 5.1058 sec\n",
            "Time for epoch 987 is 5.1128 sec\n",
            "Time for epoch 988 is 5.1104 sec\n",
            "Time for epoch 989 is 5.1121 sec\n",
            "Time for epoch 990 is 5.1149 sec\n",
            "Time for epoch 991 is 5.1038 sec\n",
            "Time for epoch 992 is 5.1129 sec\n",
            "Time for epoch 993 is 5.1208 sec\n",
            "Time for epoch 994 is 5.1203 sec\n",
            "Time for epoch 995 is 5.1177 sec\n",
            "Time for epoch 996 is 5.1552 sec\n",
            "Time for epoch 997 is 5.1357 sec\n",
            "Time for epoch 998 is 5.1314 sec\n",
            "Time for epoch 999 is 5.1310 sec\n",
            "Time for epoch 1000 is 5.1278 sec\n"
          ],
          "name": "stdout"
        }
      ]
    },
    {
      "cell_type": "markdown",
      "metadata": {
        "id": "uT2iXgY-CXp7"
      },
      "source": [
        "# Test Model"
      ]
    },
    {
      "cell_type": "code",
      "metadata": {
        "id": "FOhm27aMCWm7",
        "colab": {
          "base_uri": "https://localhost:8080/",
          "height": 702
        },
        "outputId": "6ac7f028-071d-419b-a61a-5333f7799e17"
      },
      "source": [
        "predicted_images = generator( seed )\n",
        "\n",
        "n = num_examples_to_generate\n",
        "fig, ax = plt.subplots( example_row, example_col, True, True, figsize = ( 16, 12 ) )\n",
        "for i in range( n ):\n",
        "    ax[i // example_row][i % example_col].imshow( tf.reshape( predicted_images[i], ( IMG_SIZE, IMG_SIZE ) ) )\n",
        "plt.savefig( 'Result_Final.png' )"
      ],
      "execution_count": 41,
      "outputs": [
        {
          "output_type": "display_data",
          "data": {
            "image/png": "[encoded data removed]",
            "text/plain": [
              "<Figure size 1152x864 with 16 Axes>"
            ]
          },
          "metadata": {
            "tags": [],
            "needs_background": "light"
          }
        }
      ]
    }
  ]
}