{
  "nbformat": 4,
  "nbformat_minor": 0,
  "metadata": {
    "colab": {
      "name": "CIFAR10_BasicCNN.ipynb",
      "provenance": [],
      "collapsed_sections": [],
      "toc_visible": true,
      "mount_file_id": "1uXTd8s1dMybWsFBGQFBlJbED9uRYAm7_",
      "authorship_tag": "ABX9TyNvJlxrstSYe1uZWbCZeKJd",
      "include_colab_link": true
    },
    "kernelspec": {
      "name": "python3",
      "display_name": "Python 3"
    },
    "language_info": {
      "name": "python"
    },
    "accelerator": "GPU"
  },
  "cells": [
    {
      "cell_type": "markdown",
      "metadata": {
        "id": "view-in-github",
        "colab_type": "text"
      },
      "source": [
        "<a href=\"https://colab.research.google.com/github/Taejin1221/Lab_Experiment/blob/main/CIFAR10/CIFAR10_BasicCNN_1.ipynb\" target=\"_parent\"><img src=\"https://colab.research.google.com/assets/colab-badge.svg\" alt=\"Open In Colab\"/></a>"
      ]
    },
    {
      "cell_type": "markdown",
      "metadata": {
        "id": "SizR1vLaR4NQ"
      },
      "source": [
        "# Import Modules"
      ]
    },
    {
      "cell_type": "code",
      "metadata": {
        "id": "RVjTrMSEGKxR"
      },
      "source": [
        "import tensorflow as tf\n",
        "from tensorflow import keras\n",
        "from tensorflow.keras import layers\n",
        "\n",
        "import os, sys\n",
        "import numpy as np\n",
        "\n",
        "%matplotlib inline\n",
        "from matplotlib import pyplot as plt"
      ],
      "execution_count": 1,
      "outputs": []
    },
    {
      "cell_type": "markdown",
      "metadata": {
        "id": "AkskQ1ypR6nF"
      },
      "source": [
        "# Set Contants"
      ]
    },
    {
      "cell_type": "code",
      "metadata": {
        "id": "SbF8NhF9LN6Z"
      },
      "source": [
        "NUM_CLASS = 10\n",
        "WIDTH, HEIGHT = 32, 32\n",
        "CHANNEL = 3\n",
        "\n",
        "MODEL_NAME = 'Basic_CNN'\n",
        "LEARNING_RATE = 1e-3\n",
        "BATCH_SIZE = 512\n",
        "EPOCHS = 30\n",
        "\n",
        "EXPERIMENT_DATA = {\n",
        "    'name' : MODEL_NAME,\n",
        "    'number' : '1',\n",
        "    'date' : '05-15-2021',\n",
        "    'description' : 'This is experiment that categorize images using CIFAR10 data\\n' + 'HypterParameter\\n' + f'LR: {LEARNING_RATE}\\n' + f'Batch: {BATCH_SIZE}\\n' + f'Epochs: {EPOCHS}\\n'\n",
        "}\n",
        "\n",
        "ROOT_DIR = os.path.join('/content', 'drive','MyDrive','University','PiLab','Experiment' )\n",
        "RESULT_DIR = os.path.join( ROOT_DIR, 'Results' )\n",
        "MODEL_DIR = os.path.join( RESULT_DIR, MODEL_NAME )"
      ],
      "execution_count": 2,
      "outputs": []
    },
    {
      "cell_type": "markdown",
      "metadata": {
        "id": "HWmhtwWER-2f"
      },
      "source": [
        "# Load and Preprocess Data"
      ]
    },
    {
      "cell_type": "code",
      "metadata": {
        "id": "HuBYdrNsJJ7u"
      },
      "source": [
        "(X_train, Y_train), (X_test, Y_test) = keras.datasets.cifar10.load_data()\n",
        "X_train, X_test = X_train.astype( 'float32' ) / 255., X_test.astype( 'float32' ) / 255.\n",
        "Y_train, Y_test = keras.utils.to_categorical( Y_train, NUM_CLASS ), keras.utils.to_categorical( Y_test, NUM_CLASS )"
      ],
      "execution_count": 3,
      "outputs": []
    },
    {
      "cell_type": "code",
      "metadata": {
        "colab": {
          "base_uri": "https://localhost:8080/"
        },
        "id": "_bHmrAaQJmjg",
        "outputId": "438ca33f-9c3a-4034-883a-238c12720ebd"
      },
      "source": [
        "print( X_train.shape, X_test.shape )\n",
        "print( Y_test.shape, Y_test.shape )"
      ],
      "execution_count": 4,
      "outputs": [
        {
          "output_type": "stream",
          "text": [
            "(50000, 32, 32, 3) (10000, 32, 32, 3)\n",
            "(10000, 10) (10000, 10)\n"
          ],
          "name": "stdout"
        }
      ]
    },
    {
      "cell_type": "markdown",
      "metadata": {
        "id": "kF0rFXxcGUnx"
      },
      "source": [
        "# Construct Model"
      ]
    },
    {
      "cell_type": "code",
      "metadata": {
        "id": "QzahdVNdLjXA"
      },
      "source": [
        "INPUT_SHAPE = ( -1, X_train.shape)"
      ],
      "execution_count": 5,
      "outputs": []
    },
    {
      "cell_type": "code",
      "metadata": {
        "id": "C3ISB8MYGS-2"
      },
      "source": [
        "input = layers.Input( ( HEIGHT, WIDTH, CHANNEL ), name = 'input'  )\n",
        "\n",
        "x = layers.Conv2D( 8, kernel_size = ( 3, 3 ), padding = 'same', activation='relu' )( input )\n",
        "x = layers.MaxPool2D( pool_size = ( 3, 3 ), strides = ( 2, 2 ), padding = 'same' )( x )\n",
        "x = layers.Dropout( 0.3 )( x )\n",
        "\n",
        "x = layers.Conv2D( 16, kernel_size = ( 3, 3 ), padding = 'same', activation='relu' )( x )\n",
        "x = layers.MaxPool2D( pool_size = ( 3, 3 ), strides = ( 2, 2 ), padding = 'same' )( x )\n",
        "x = layers.Dropout( 0.3 )( x )\n",
        "\n",
        "x = layers.Conv2D( 32, kernel_size = ( 3, 3 ), padding = 'same', activation='relu' )( x )\n",
        "x = layers.MaxPool2D( pool_size = ( 3, 3 ), strides = ( 2, 2 ), padding = 'same' )( x )\n",
        "x = layers.Dropout( 0.3 )( x )\n",
        "\n",
        "x = layers.Conv2D( 64, kernel_size = ( 3, 3 ), padding = 'same', activation='relu' )( x )\n",
        "x = layers.MaxPool2D( pool_size = ( 3, 3 ), strides = ( 2, 2 ), padding = 'same' )( x )\n",
        "x = layers.Dropout( 0.3 )( x )\n",
        "\n",
        "x = layers.Conv2D( 128, kernel_size = ( 3, 3 ), padding = 'same', activation='relu' )( x )\n",
        "x = layers.MaxPool2D( pool_size = ( 3, 3 ), strides = ( 2, 2 ), padding = 'same' )( x )\n",
        "x = layers.Dropout( 0.3 )( x )\n",
        "\n",
        "feature_map_shape = x.shape\n",
        "flatten_size = feature_map_shape[1] * feature_map_shape[2] * feature_map_shape[3]\n",
        "\n",
        "x = layers.Flatten( )( x )\n",
        "x = layers.Dense( flatten_size, activation = 'relu' )( x )\n",
        "x = layers.Dropout( 0.5 )( x )\n",
        "\n",
        "output = layers.Dense( NUM_CLASS, activation='softmax' )( x )"
      ],
      "execution_count": 6,
      "outputs": []
    },
    {
      "cell_type": "code",
      "metadata": {
        "colab": {
          "base_uri": "https://localhost:8080/"
        },
        "id": "5qdJzT2EPPdA",
        "outputId": "cbf79cd0-3c81-4753-c00a-2743c4b4943a"
      },
      "source": [
        "basic_cnn_model = keras.Model( input, output, name = MODEL_NAME )\n",
        "basic_cnn_model.summary( )"
      ],
      "execution_count": 7,
      "outputs": [
        {
          "output_type": "stream",
          "text": [
            "Model: \"Basic_CNN\"\n",
            "_________________________________________________________________\n",
            "Layer (type)                 Output Shape              Param #   \n",
            "=================================================================\n",
            "input (InputLayer)           [(None, 32, 32, 3)]       0         \n",
            "_________________________________________________________________\n",
            "conv2d (Conv2D)              (None, 32, 32, 8)         224       \n",
            "_________________________________________________________________\n",
            "max_pooling2d (MaxPooling2D) (None, 16, 16, 8)         0         \n",
            "_________________________________________________________________\n",
            "dropout (Dropout)            (None, 16, 16, 8)         0         \n",
            "_________________________________________________________________\n",
            "conv2d_1 (Conv2D)            (None, 16, 16, 16)        1168      \n",
            "_________________________________________________________________\n",
            "max_pooling2d_1 (MaxPooling2 (None, 8, 8, 16)          0         \n",
            "_________________________________________________________________\n",
            "dropout_1 (Dropout)          (None, 8, 8, 16)          0         \n",
            "_________________________________________________________________\n",
            "conv2d_2 (Conv2D)            (None, 8, 8, 32)          4640      \n",
            "_________________________________________________________________\n",
            "max_pooling2d_2 (MaxPooling2 (None, 4, 4, 32)          0         \n",
            "_________________________________________________________________\n",
            "dropout_2 (Dropout)          (None, 4, 4, 32)          0         \n",
            "_________________________________________________________________\n",
            "conv2d_3 (Conv2D)            (None, 4, 4, 64)          18496     \n",
            "_________________________________________________________________\n",
            "max_pooling2d_3 (MaxPooling2 (None, 2, 2, 64)          0         \n",
            "_________________________________________________________________\n",
            "dropout_3 (Dropout)          (None, 2, 2, 64)          0         \n",
            "_________________________________________________________________\n",
            "conv2d_4 (Conv2D)            (None, 2, 2, 128)         73856     \n",
            "_________________________________________________________________\n",
            "max_pooling2d_4 (MaxPooling2 (None, 1, 1, 128)         0         \n",
            "_________________________________________________________________\n",
            "dropout_4 (Dropout)          (None, 1, 1, 128)         0         \n",
            "_________________________________________________________________\n",
            "flatten (Flatten)            (None, 128)               0         \n",
            "_________________________________________________________________\n",
            "dense (Dense)                (None, 128)               16512     \n",
            "_________________________________________________________________\n",
            "dropout_5 (Dropout)          (None, 128)               0         \n",
            "_________________________________________________________________\n",
            "dense_1 (Dense)              (None, 10)                1290      \n",
            "=================================================================\n",
            "Total params: 116,186\n",
            "Trainable params: 116,186\n",
            "Non-trainable params: 0\n",
            "_________________________________________________________________\n"
          ],
          "name": "stdout"
        }
      ]
    },
    {
      "cell_type": "markdown",
      "metadata": {
        "id": "WikZgukKSFOf"
      },
      "source": [
        "# Train Model"
      ]
    },
    {
      "cell_type": "code",
      "metadata": {
        "id": "ZNpMEmovPn1m"
      },
      "source": [
        "basic_cnn_model.compile( optimizer = keras.optimizers.Adam( LEARNING_RATE ), loss = 'categorical_crossentropy', metrics = [ 'accuracy' ] )"
      ],
      "execution_count": 8,
      "outputs": []
    },
    {
      "cell_type": "code",
      "metadata": {
        "id": "yv9iE2NdQciW"
      },
      "source": [
        "history = basic_cnn_model.fit( X_train, Y_train, batch_size = BATCH_SIZE, epochs = EPOCHS, validation_split = 0.2, verbose = 0 )"
      ],
      "execution_count": 9,
      "outputs": []
    },
    {
      "cell_type": "markdown",
      "metadata": {
        "id": "83rKi9vESG2r"
      },
      "source": [
        "# Test Model"
      ]
    },
    {
      "cell_type": "code",
      "metadata": {
        "id": "Tjfl7RXBTqhl"
      },
      "source": [
        "os.chdir( RESULT_DIR )\n",
        "\n",
        "new_result_dir = f\"{EXPERIMENT_DATA['name']}_{EXPERIMENT_DATA['number']}_{EXPERIMENT_DATA['date']}\"\n",
        "if ( new_result_dir not in os.listdir( ) ):\n",
        "    os.mkdir( new_result_dir )\n",
        "os.chdir( new_result_dir )\n",
        "\n",
        "with open( 'Description.txt', 'w' ) as f:\n",
        "    f.write( EXPERIMENT_DATA['description'] )"
      ],
      "execution_count": 10,
      "outputs": []
    },
    {
      "cell_type": "code",
      "metadata": {
        "colab": {
          "base_uri": "https://localhost:8080/"
        },
        "id": "eeMGB5vFRSn_",
        "outputId": "5e08543e-22a4-4704-ffe2-1ec81776faa0"
      },
      "source": [
        "evaluation = basic_cnn_model.evaluate( X_test, Y_test )\n",
        "print( f'loss: {evaluation[0]:.2f}, acc: {evaluation[1]*100:.2f}%' )\n",
        "with open( 'Accuracy.txt', 'w' ) as f:\n",
        "    f.write( f'loss: {evaluation[0]:.2f}, acc: {evaluation[1]*100:.2f}%' )"
      ],
      "execution_count": 13,
      "outputs": [
        {
          "output_type": "stream",
          "text": [
            "313/313 [==============================] - 1s 4ms/step - loss: 1.3603 - accuracy: 0.5109\n",
            "loss: 1.36, acc: 51.09%\n"
          ],
          "name": "stdout"
        }
      ]
    },
    {
      "cell_type": "code",
      "metadata": {
        "id": "Mp50vYW3VSCg"
      },
      "source": [
        "stdout = sys.stdout\n",
        "with open( 'Model_Info.txt', 'w' ) as f:\n",
        "    sys.stdout = f\n",
        "    basic_cnn_model.summary()\n",
        "sys.stdout = stdout"
      ],
      "execution_count": 14,
      "outputs": []
    },
    {
      "cell_type": "code",
      "metadata": {
        "id": "KaWRzWVcRXiN"
      },
      "source": [
        "basic_cnn_model.save( MODEL_NAME + '.h5')"
      ],
      "execution_count": 16,
      "outputs": []
    },
    {
      "cell_type": "code",
      "metadata": {
        "colab": {
          "base_uri": "https://localhost:8080/",
          "height": 295
        },
        "id": "14fWdMWZRagz",
        "outputId": "2552920a-8ea4-462f-e2dd-399cffa7fac2"
      },
      "source": [
        "plt.plot( history.history['accuracy'] )\n",
        "plt.plot( history.history['val_accuracy'])\n",
        "plt.xlabel( 'epochs' )\n",
        "plt.ylabel( 'accuracy' )\n",
        "plt.legend( ['accuracy', 'val_acc'] )\n",
        "plt.title( MODEL_NAME )\n",
        "\n",
        "plt.savefig( 'Result.png')\n",
        "plt.show()"
      ],
      "execution_count": 18,
      "outputs": [
        {
          "output_type": "display_data",
          "data": {
            "image/png": "[encoded data removed]",
            "text/plain": [
              "<Figure size 432x288 with 1 Axes>"
            ]
          },
          "metadata": {
            "tags": [],
            "needs_background": "light"
          }
        }
      ]
    }
  ]
}