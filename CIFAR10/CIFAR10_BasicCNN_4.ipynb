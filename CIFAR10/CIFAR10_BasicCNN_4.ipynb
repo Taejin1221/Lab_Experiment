{
  "nbformat": 4,
  "nbformat_minor": 0,
  "metadata": {
    "colab": {
      "name": "CIFAR10_BasicCNN.ipynb",
      "provenance": [],
      "collapsed_sections": [],
      "mount_file_id": "1uXTd8s1dMybWsFBGQFBlJbED9uRYAm7_",
      "authorship_tag": "ABX9TyPRHpW2eHYebw2k6fhoTagJ",
      "include_colab_link": true
    },
    "kernelspec": {
      "name": "python3",
      "display_name": "Python 3"
    },
    "language_info": {
      "name": "python"
    },
    "accelerator": "GPU"
  },
  "cells": [
    {
      "cell_type": "markdown",
      "metadata": {
        "id": "view-in-github",
        "colab_type": "text"
      },
      "source": [
        "<a href=\"https://colab.research.google.com/github/Taejin1221/Lab_Experiment/blob/main/CIFAR10/CIFAR10_BasicCNN_4.ipynb\" target=\"_parent\"><img src=\"https://colab.research.google.com/assets/colab-badge.svg\" alt=\"Open In Colab\"/></a>"
      ]
    },
    {
      "cell_type": "markdown",
      "metadata": {
        "id": "SizR1vLaR4NQ"
      },
      "source": [
        "# Import Modules"
      ]
    },
    {
      "cell_type": "code",
      "metadata": {
        "id": "RVjTrMSEGKxR"
      },
      "source": [
        "import tensorflow as tf\n",
        "from tensorflow import keras\n",
        "from tensorflow.keras import layers\n",
        "\n",
        "import os, sys\n",
        "import numpy as np\n",
        "\n",
        "%matplotlib inline\n",
        "from matplotlib import pyplot as plt"
      ],
      "execution_count": 1,
      "outputs": []
    },
    {
      "cell_type": "markdown",
      "metadata": {
        "id": "AkskQ1ypR6nF"
      },
      "source": [
        "# Set Contants"
      ]
    },
    {
      "cell_type": "code",
      "metadata": {
        "id": "SbF8NhF9LN6Z"
      },
      "source": [
        "NUM_CLASS = 10\n",
        "WIDTH, HEIGHT = 32, 32\n",
        "CHANNEL = 3\n",
        "\n",
        "MODEL_NAME = 'Basic_CNN'\n",
        "LEARNING_RATE = 1e-3\n",
        "BATCH_SIZE = 512\n",
        "EPOCHS = 300\n",
        "\n",
        "EXPERIMENT_DATA = {\n",
        "    'name' : MODEL_NAME,\n",
        "    'number' : '4',\n",
        "    'date' : '05-20-2021',\n",
        "    'description' : 'This is experiment that categorize images using CIFAR10 data\\n\\n' +\n",
        "        'HyperParameter\\n' +\n",
        "        f'LR: {LEARNING_RATE}\\n' +\n",
        "        f'Batch: {BATCH_SIZE}\\n' +\n",
        "        f'Epochs: {EPOCHS}\\n'\n",
        "}\n",
        "\n",
        "ROOT_DIR = os.path.join('/content', 'drive','MyDrive','University','PiLab','Experiment' )\n",
        "RESULT_DIR = os.path.join( ROOT_DIR, 'Results' )\n",
        "MODEL_DIR = os.path.join( RESULT_DIR, MODEL_NAME )"
      ],
      "execution_count": 2,
      "outputs": []
    },
    {
      "cell_type": "markdown",
      "metadata": {
        "id": "HWmhtwWER-2f"
      },
      "source": [
        "# Load and Preprocess Data"
      ]
    },
    {
      "cell_type": "code",
      "metadata": {
        "id": "HuBYdrNsJJ7u",
        "colab": {
          "base_uri": "https://localhost:8080/"
        },
        "outputId": "4cdb163e-fb1f-4001-9172-32cb645766ac"
      },
      "source": [
        "(X_train, Y_train), (X_test, Y_test) = keras.datasets.cifar10.load_data()\n",
        "X_train, X_test = X_train.astype( 'float32' ) / 255., X_test.astype( 'float32' ) / 255.\n",
        "Y_train, Y_test = keras.utils.to_categorical( Y_train, NUM_CLASS ), keras.utils.to_categorical( Y_test, NUM_CLASS )"
      ],
      "execution_count": 3,
      "outputs": [
        {
          "output_type": "stream",
          "text": [
            "Downloading data from https://www.cs.toronto.edu/~kriz/cifar-10-python.tar.gz\n",
            "170500096/170498071 [==============================] - 6s 0us/step\n"
          ],
          "name": "stdout"
        }
      ]
    },
    {
      "cell_type": "code",
      "metadata": {
        "colab": {
          "base_uri": "https://localhost:8080/"
        },
        "id": "_bHmrAaQJmjg",
        "outputId": "6ed1ebfc-5f26-4b01-81b9-deee96415b0d"
      },
      "source": [
        "print( X_train.shape, X_test.shape )\n",
        "print( Y_test.shape, Y_test.shape )"
      ],
      "execution_count": 4,
      "outputs": [
        {
          "output_type": "stream",
          "text": [
            "(50000, 32, 32, 3) (10000, 32, 32, 3)\n",
            "(10000, 10) (10000, 10)\n"
          ],
          "name": "stdout"
        }
      ]
    },
    {
      "cell_type": "markdown",
      "metadata": {
        "id": "kF0rFXxcGUnx"
      },
      "source": [
        "# Construct Model"
      ]
    },
    {
      "cell_type": "code",
      "metadata": {
        "id": "QzahdVNdLjXA"
      },
      "source": [
        "INPUT_SHAPE = ( -1, X_train.shape)"
      ],
      "execution_count": 5,
      "outputs": []
    },
    {
      "cell_type": "code",
      "metadata": {
        "id": "C3ISB8MYGS-2"
      },
      "source": [
        "input = layers.Input( ( HEIGHT, WIDTH, CHANNEL ), name = 'input'  )\n",
        "\n",
        "x = layers.Conv2D( 32, kernel_size = ( 3, 3 ), padding = 'same', activation='relu' )( input )\n",
        "x = layers.MaxPool2D( pool_size = ( 3, 3 ), strides = ( 2, 2 ), padding = 'same' )( x )\n",
        "x = layers.Dropout( 0.3 )( x )\n",
        "\n",
        "x = layers.Conv2D( 64, kernel_size = ( 3, 3 ), padding = 'same', activation='relu' )( x )\n",
        "x = layers.MaxPool2D( pool_size = ( 3, 3 ), strides = ( 2, 2 ), padding = 'same' )( x )\n",
        "x = layers.Dropout( 0.3 )( x )\n",
        "\n",
        "x = layers.Conv2D( 128, kernel_size = ( 3, 3 ), padding = 'same', activation='relu' )( x )\n",
        "x = layers.MaxPool2D( pool_size = ( 3, 3 ), strides = ( 2, 2 ), padding = 'same' )( x )\n",
        "x = layers.Dropout( 0.3 )( x )\n",
        "\n",
        "feature_map_shape = x.shape\n",
        "flatten_size = feature_map_shape[1] * feature_map_shape[2] * feature_map_shape[3]\n",
        "\n",
        "x = layers.Flatten( )( x )\n",
        "x = layers.Dense( flatten_size, activation = 'relu' )( x )\n",
        "x = layers.Dropout( 0.5 )( x )\n",
        "\n",
        "output = layers.Dense( NUM_CLASS, activation='softmax' )( x )"
      ],
      "execution_count": 6,
      "outputs": []
    },
    {
      "cell_type": "code",
      "metadata": {
        "colab": {
          "base_uri": "https://localhost:8080/"
        },
        "id": "5qdJzT2EPPdA",
        "outputId": "e415b9b8-d595-44ba-b097-9fc992fa3cad"
      },
      "source": [
        "basic_cnn_model = keras.Model( input, output, name = MODEL_NAME )\n",
        "basic_cnn_model.summary( )"
      ],
      "execution_count": 7,
      "outputs": [
        {
          "output_type": "stream",
          "text": [
            "Model: \"Basic_CNN\"\n",
            "_________________________________________________________________\n",
            "Layer (type)                 Output Shape              Param #   \n",
            "=================================================================\n",
            "input (InputLayer)           [(None, 32, 32, 3)]       0         \n",
            "_________________________________________________________________\n",
            "conv2d (Conv2D)              (None, 32, 32, 32)        896       \n",
            "_________________________________________________________________\n",
            "max_pooling2d (MaxPooling2D) (None, 16, 16, 32)        0         \n",
            "_________________________________________________________________\n",
            "dropout (Dropout)            (None, 16, 16, 32)        0         \n",
            "_________________________________________________________________\n",
            "conv2d_1 (Conv2D)            (None, 16, 16, 64)        18496     \n",
            "_________________________________________________________________\n",
            "max_pooling2d_1 (MaxPooling2 (None, 8, 8, 64)          0         \n",
            "_________________________________________________________________\n",
            "dropout_1 (Dropout)          (None, 8, 8, 64)          0         \n",
            "_________________________________________________________________\n",
            "conv2d_2 (Conv2D)            (None, 8, 8, 128)         73856     \n",
            "_________________________________________________________________\n",
            "max_pooling2d_2 (MaxPooling2 (None, 4, 4, 128)         0         \n",
            "_________________________________________________________________\n",
            "dropout_2 (Dropout)          (None, 4, 4, 128)         0         \n",
            "_________________________________________________________________\n",
            "flatten (Flatten)            (None, 2048)              0         \n",
            "_________________________________________________________________\n",
            "dense (Dense)                (None, 2048)              4196352   \n",
            "_________________________________________________________________\n",
            "dropout_3 (Dropout)          (None, 2048)              0         \n",
            "_________________________________________________________________\n",
            "dense_1 (Dense)              (None, 10)                20490     \n",
            "=================================================================\n",
            "Total params: 4,310,090\n",
            "Trainable params: 4,310,090\n",
            "Non-trainable params: 0\n",
            "_________________________________________________________________\n"
          ],
          "name": "stdout"
        }
      ]
    },
    {
      "cell_type": "markdown",
      "metadata": {
        "id": "WikZgukKSFOf"
      },
      "source": [
        "# Train Model"
      ]
    },
    {
      "cell_type": "code",
      "metadata": {
        "id": "ZNpMEmovPn1m"
      },
      "source": [
        "basic_cnn_model.compile( optimizer = keras.optimizers.Adam( LEARNING_RATE ), loss = 'categorical_crossentropy', metrics = [ 'accuracy' ] )"
      ],
      "execution_count": 8,
      "outputs": []
    },
    {
      "cell_type": "code",
      "metadata": {
        "id": "yv9iE2NdQciW"
      },
      "source": [
        "history = basic_cnn_model.fit( X_train, Y_train, batch_size = BATCH_SIZE, epochs = EPOCHS, validation_split = 0.2, verbose = 0 )"
      ],
      "execution_count": 9,
      "outputs": []
    },
    {
      "cell_type": "markdown",
      "metadata": {
        "id": "83rKi9vESG2r"
      },
      "source": [
        "# Test Model"
      ]
    },
    {
      "cell_type": "code",
      "metadata": {
        "id": "Tjfl7RXBTqhl"
      },
      "source": [
        "os.chdir( RESULT_DIR )\n",
        "\n",
        "new_result_dir = f\"{EXPERIMENT_DATA['name']}_{EXPERIMENT_DATA['number']}_{EXPERIMENT_DATA['date']}\"\n",
        "if ( new_result_dir not in os.listdir( ) ):\n",
        "    os.mkdir( new_result_dir )\n",
        "os.chdir( new_result_dir )\n",
        "\n",
        "with open( 'Description.txt', 'w' ) as f:\n",
        "    f.write( EXPERIMENT_DATA['description'] + '\\n' )"
      ],
      "execution_count": 10,
      "outputs": []
    },
    {
      "cell_type": "code",
      "metadata": {
        "colab": {
          "base_uri": "https://localhost:8080/"
        },
        "id": "eeMGB5vFRSn_",
        "outputId": "21b0cbc6-dc28-48d4-90ec-8e7e05ecf17e"
      },
      "source": [
        "evaluation = basic_cnn_model.evaluate( X_test, Y_test )\n",
        "print( f'loss: {evaluation[0]:.2f}, acc: {evaluation[1]*100:.2f}%' )\n",
        "with open( 'Description.txt', 'a' ) as f:\n",
        "    f.write( f'loss: {evaluation[0]:.2f}, acc: {evaluation[1]*100:.2f}%' )"
      ],
      "execution_count": 11,
      "outputs": [
        {
          "output_type": "stream",
          "text": [
            "313/313 [==============================] - 2s 5ms/step - loss: 0.8896 - accuracy: 0.7999\n",
            "loss: 0.89, acc: 79.99%\n"
          ],
          "name": "stdout"
        }
      ]
    },
    {
      "cell_type": "code",
      "metadata": {
        "id": "Mp50vYW3VSCg"
      },
      "source": [
        "stdout = sys.stdout\n",
        "with open( 'Model_Info.txt', 'w' ) as f:\n",
        "    sys.stdout = f\n",
        "    basic_cnn_model.summary()\n",
        "sys.stdout = stdout"
      ],
      "execution_count": 12,
      "outputs": []
    },
    {
      "cell_type": "code",
      "metadata": {
        "id": "KaWRzWVcRXiN"
      },
      "source": [
        "basic_cnn_model.save( MODEL_NAME + '.h5')"
      ],
      "execution_count": 13,
      "outputs": []
    },
    {
      "cell_type": "code",
      "metadata": {
        "colab": {
          "base_uri": "https://localhost:8080/",
          "height": 295
        },
        "id": "14fWdMWZRagz",
        "outputId": "054badce-faef-4ec7-c2ec-0df470ab300b"
      },
      "source": [
        "plt.plot( history.history['accuracy'] )\n",
        "plt.plot( history.history['val_accuracy'])\n",
        "plt.xlabel( 'epochs' )\n",
        "plt.ylabel( 'accuracy' )\n",
        "plt.legend( ['accuracy', 'val_acc'] )\n",
        "plt.title( MODEL_NAME )\n",
        "\n",
        "plt.savefig( 'Result.png' )\n",
        "plt.show()"
      ],
      "execution_count": 14,
      "outputs": [
        {
          "output_type": "display_data",
          "data": {
            "image/png": "[encoded data removed]",
            "text/plain": [
              "<Figure size 432x288 with 1 Axes>"
            ]
          },
          "metadata": {
            "tags": [],
            "needs_background": "light"
          }
        }
      ]
    }
  ]
}