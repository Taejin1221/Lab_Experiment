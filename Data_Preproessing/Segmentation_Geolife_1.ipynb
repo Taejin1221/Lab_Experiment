{
  "nbformat": 4,
  "nbformat_minor": 0,
  "metadata": {
    "colab": {
      "name": "Distribute_Geolife_Data.ipynb",
      "provenance": [],
      "collapsed_sections": [],
      "mount_file_id": "1M2zqm6985qQrPHItCJkDe-aGU_V76cCj",
      "authorship_tag": "ABX9TyOOQbwS+8ZmVODnZPyXM6Gj",
      "include_colab_link": true
    },
    "kernelspec": {
      "name": "python3",
      "display_name": "Python 3"
    }
  },
  "cells": [
    {
      "cell_type": "markdown",
      "metadata": {
        "id": "view-in-github",
        "colab_type": "text"
      },
      "source": [
        "<a href=\"https://colab.research.google.com/github/Taejin1221/Lab_Experiment/blob/main/Data_Preproessing/Segmentation_Geolife_1.ipynb\" target=\"_parent\"><img src=\"https://colab.research.google.com/assets/colab-badge.svg\" alt=\"Open In Colab\"/></a>"
      ]
    },
    {
      "cell_type": "code",
      "metadata": {
        "id": "IqhQtCuVF0a6"
      },
      "source": [
        "%matplotlib inline\n",
        "\n",
        "import glob, os\n",
        "import pandas as pd\n",
        "import numpy as np\n",
        "import matplotlib.pyplot as plt"
      ],
      "execution_count": null,
      "outputs": []
    },
    {
      "cell_type": "code",
      "metadata": {
        "id": "IySvTs4-GuwK"
      },
      "source": [
        "data_dir = 'drive/MyDrive/University/PiLab/Experiment/Data/Test/Geolife/'"
      ],
      "execution_count": null,
      "outputs": []
    },
    {
      "cell_type": "code",
      "metadata": {
        "id": "zaGua4lUtbeE"
      },
      "source": [
        "os.chdir( data_dir )"
      ],
      "execution_count": null,
      "outputs": []
    },
    {
      "cell_type": "code",
      "metadata": {
        "id": "Mjjvd50iGVCJ",
        "colab": {
          "base_uri": "https://localhost:8080/"
        },
        "outputId": "05136e5d-5425-4eb3-f261-8b79088377f6"
      },
      "source": [
        "trainFiles = glob.glob( '*plt' )\n",
        "n = len( trainFiles )\n",
        "\n",
        "trajectory_data = [ ]\n",
        "trajectory_distance = [ ]\n",
        "trajectory_mean = [ ]\n",
        "for i, file in enumerate(trainFiles):\n",
        "    csv_file = pd.read_csv( file, names = [ 'lat', 'long', 'zero', 'alti', 'date_number', 'date_string', 'time'  ] )[6:]\n",
        "    csv_file.index = range( 0, len( csv_file ) )\n",
        "    print(csv_file.head())\n",
        "\n",
        "    curr_data = [ [ float( csv_file['lat'][0] ), float( csv_file['long'][0] ) ] ]\n",
        "    curr_distance = [ ]\n",
        "    for lat, long in zip( csv_file['lat'][1:], csv_file['long'][1:] ):\n",
        "        curr_data.append( [ float(lat), float(long) ] )\n",
        "        curr_distance.append( np.linalg.norm( [ curr_data[-1][0] - curr_data[-2][0], curr_data[-1][1] - curr_data[-2][1] ] ) )\n",
        "\n",
        "    trajectory_data.append( np.array(curr_data) )\n",
        "    trajectory_distance.append( np.array( curr_distance ) )\n",
        "    trajectory_mean.append( np.mean( np.array( curr_distance ) ) )\n",
        "\n",
        "trajectory_mean = np.array( trajectory_mean, dtype = np.float32 )\n",
        "\n",
        "print( trajectory_mean )"
      ],
      "execution_count": null,
      "outputs": [
        {
          "output_type": "stream",
          "text": [
            "         lat        long  zero alti   date_number date_string      time\n",
            "0   40.01229  116.297072   0.0  492  39749.026690  2008-10-28  00:38:26\n",
            "1  40.012594  116.297269   0.0  490  39749.026748  2008-10-28  00:38:31\n",
            "2  40.012581  116.297263   0.0  490  39749.026806  2008-10-28  00:38:36\n",
            "3  40.012453  116.297177   0.0  490  39749.026863  2008-10-28  00:38:41\n",
            "4  40.012398  116.297133   0.0  490  39749.026921  2008-10-28  00:38:46\n",
            "         lat        long  zero alti   date_number date_string      time\n",
            "0  39.984702  116.318417   0.0  492  39744.120185  2008-10-23  02:53:04\n",
            "1  39.984683  116.318450   0.0  492  39744.120255  2008-10-23  02:53:10\n",
            "2  39.984686  116.318417   0.0  492  39744.120313  2008-10-23  02:53:15\n",
            "3  39.984688  116.318385   0.0  492  39744.120370  2008-10-23  02:53:20\n",
            "4  39.984655  116.318263   0.0  492  39744.120428  2008-10-23  02:53:25\n",
            "         lat        long  zero alti   date_number date_string      time\n",
            "0  40.008304  116.319876   0.0  492  39745.090266  2008-10-24  02:09:59\n",
            "1  40.008413  116.319962   0.0  491  39745.090324  2008-10-24  02:10:04\n",
            "2  40.007171  116.319458   0.0  -46  39745.090382  2008-10-24  02:10:09\n",
            "3  40.007209  116.319484   0.0  -48  39745.090440  2008-10-24  02:10:14\n",
            "4  40.007287  116.319590   0.0  -41  39745.090498  2008-10-24  02:10:19\n",
            "         lat        long  zero alti   date_number date_string      time\n",
            "0  39.907414  116.370017   0.0   92  39747.572303  2008-10-26  13:44:07\n",
            "1  39.907374  116.370074   0.0   93  39747.572361  2008-10-26  13:44:12\n",
            "2  39.907027  116.370360   0.0   91  39747.572419  2008-10-26  13:44:17\n",
            "3  39.907006  116.370415   0.0   89  39747.572477  2008-10-26  13:44:22\n",
            "4  39.907014  116.370454   0.0   91  39747.572535  2008-10-26  13:44:27\n",
            "         lat        long  zero alti   date_number date_string      time\n",
            "0  39.994622  116.326757   0.0  492  39748.496400  2008-10-27  11:54:49\n",
            "1  39.994622  116.326757   0.0  492  39748.496435  2008-10-27  11:54:52\n",
            "2  39.994614  116.326751   0.0  492  39748.496458  2008-10-27  11:54:54\n",
            "3  39.994602  116.326769   0.0  492  39748.496516  2008-10-27  11:54:59\n",
            "4  39.994599  116.326769   0.0  492  39748.496574  2008-10-27  11:55:04\n",
            "[5.8608126e-05 1.7258544e-04 5.4554108e-05 2.6736344e-04 3.6692576e-04]\n"
          ],
          "name": "stdout"
        }
      ]
    },
    {
      "cell_type": "code",
      "metadata": {
        "colab": {
          "base_uri": "https://localhost:8080/"
        },
        "id": "u0IJ6iUzO635",
        "outputId": "ed2f0662-9cbf-4752-ff07-6bf8b8c20282"
      },
      "source": [
        "print( len( trajectory_data ), len( trajectory_data[0] ), len( trajectory_data[0][0] ) )\n",
        "print( len( trajectory_data ), len( trajectory_data[1] ), len( trajectory_data[0][0] ) )"
      ],
      "execution_count": null,
      "outputs": [
        {
          "output_type": "stream",
          "text": [
            "5 1477 2\n",
            "5 908 2\n"
          ],
          "name": "stdout"
        }
      ]
    },
    {
      "cell_type": "code",
      "metadata": {
        "id": "AMziu_5-Qi_P"
      },
      "source": [
        "labels = [ ]\n",
        "label_num = [ ]\n",
        "for distances, mean in zip( trajectory_distance, trajectory_mean ):\n",
        "    max_label, curr_label = 0, [ 0 ]\n",
        "    for curr_distance in distances:\n",
        "        if ( mean < curr_distance ):\n",
        "            max_label += 1\n",
        "        curr_label.append( max_label )\n",
        "    labels.append( np.array( curr_label ) )\n",
        "    label_num.append( max_label )"
      ],
      "execution_count": null,
      "outputs": []
    },
    {
      "cell_type": "code",
      "metadata": {
        "colab": {
          "base_uri": "https://localhost:8080/"
        },
        "id": "OFAro-fzXWwE",
        "outputId": "89cb04b7-f0bb-404c-9a42-188b48b6de4b"
      },
      "source": [
        "print( label_num )"
      ],
      "execution_count": null,
      "outputs": [
        {
          "output_type": "stream",
          "text": [
            "[464, 228, 71, 102, 4]\n"
          ],
          "name": "stdout"
        }
      ]
    },
    {
      "cell_type": "markdown",
      "metadata": {
        "id": "usJOQbhDt-ug"
      },
      "source": [
        "# Visualization"
      ]
    },
    {
      "cell_type": "code",
      "metadata": {
        "id": "YIBhlrNLvUYS"
      },
      "source": [
        "colors = [ 'red', 'orange', 'yellow', 'green' ]"
      ],
      "execution_count": null,
      "outputs": []
    },
    {
      "cell_type": "code",
      "metadata": {
        "colab": {
          "base_uri": "https://localhost:8080/",
          "height": 289
        },
        "id": "wO2PZGWwtq6g",
        "outputId": "ceae97a6-eeed-457b-cab7-f55113d7dde6"
      },
      "source": [
        "result = trajectory_data[4]\n",
        "for j in range( 4 ):\n",
        "    plt.scatter( result[labels[4] == j, 0], result[labels[4] == j, 1], c = colors[j] )\n",
        "\n",
        "plt.savefig( 'Kmeans_Result.png', dpi = 100 )\n",
        "plt.show()"
      ],
      "execution_count": null,
      "outputs": [
        {
          "output_type": "display_data",
          "data": {
            "image/png": "[encoded data removed]",
            "text/plain": [
              "<Figure size 432x288 with 1 Axes>"
            ]
          },
          "metadata": {
            "tags": [],
            "needs_background": "light"
          }
        }
      ]
    }
  ]
}