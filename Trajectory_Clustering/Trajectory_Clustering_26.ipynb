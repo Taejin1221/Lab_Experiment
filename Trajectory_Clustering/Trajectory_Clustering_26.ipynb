{
  "nbformat": 4,
  "nbformat_minor": 5,
  "metadata": {
    "kernelspec": {
      "display_name": "Python 3",
      "language": "python",
      "name": "python3"
    },
    "language_info": {
      "codemirror_mode": {
        "name": "ipython",
        "version": 3
      },
      "file_extension": ".py",
      "mimetype": "text/x-python",
      "name": "python",
      "nbconvert_exporter": "python",
      "pygments_lexer": "ipython3",
      "version": "3.8.8"
    },
    "colab": {
      "name": "Trajectory_Clustering_26.ipynb",
      "provenance": [],
      "collapsed_sections": [],
      "include_colab_link": true
    }
  },
  "cells": [
    {
      "cell_type": "markdown",
      "metadata": {
        "id": "view-in-github",
        "colab_type": "text"
      },
      "source": [
        "<a href=\"https://colab.research.google.com/github/Taejin1221/Lab_Experiment/blob/main/Trajectory_Clustering/Trajectory_Clustering_26.ipynb\" target=\"_parent\"><img src=\"https://colab.research.google.com/assets/colab-badge.svg\" alt=\"Open In Colab\"/></a>"
      ]
    },
    {
      "cell_type": "markdown",
      "metadata": {
        "id": "4f560faa-4956-4fba-b929-add66c5750b6"
      },
      "source": [
        "# Load modules and Set constants"
      ],
      "id": "4f560faa-4956-4fba-b929-add66c5750b6"
    },
    {
      "cell_type": "code",
      "metadata": {
        "id": "535ff0e4-903d-42fd-a578-a189fda5fc73"
      },
      "source": [
        "import os, cv2, glob\n",
        "import numpy as np\n",
        "\n",
        "import matplotlib.pyplot as plt"
      ],
      "id": "535ff0e4-903d-42fd-a578-a189fda5fc73",
      "execution_count": 1,
      "outputs": []
    },
    {
      "cell_type": "code",
      "metadata": {
        "colab": {
          "base_uri": "https://localhost:8080/"
        },
        "id": "BQZbg-TyjyRw",
        "outputId": "efd73a05-25a8-465a-89a5-d9e56acc3a38"
      },
      "source": [
        "from google.colab import drive\n",
        "drive.mount('/content/drive')"
      ],
      "id": "BQZbg-TyjyRw",
      "execution_count": 2,
      "outputs": [
        {
          "output_type": "stream",
          "text": [
            "Drive already mounted at /content/drive; to attempt to forcibly remount, call drive.mount(\"/content/drive\", force_remount=True).\n"
          ],
          "name": "stdout"
        }
      ]
    },
    {
      "cell_type": "code",
      "metadata": {
        "id": "af6c1e33-ae07-4cde-b5ee-6d28ed48821c",
        "colab": {
          "base_uri": "https://localhost:8080/"
        },
        "outputId": "8551939e-33b4-4fb9-86a7-9fc215a16237"
      },
      "source": [
        "WIDTH, HEIGHT = 8, 8\n",
        "CONCAT_WIDTH, CONCAT_HEIGHT = WIDTH + WIDTH, HEIGHT\n",
        "\n",
        "EXPERIMENT_DATA = {\n",
        "    'name' : 'Trajectory_Clusetring',\n",
        "    'number' : '27',\n",
        "    'date' : '07-08-2021',\n",
        "    'description' : 'Clustering with DNN\\n' + 'Neuron number 64\\n'\n",
        "    }\n",
        "\n",
        "ROOT_DIR = os.path.join('/content')\n",
        "\n",
        "DATA_DIR = os.path.join(ROOT_DIR, 'Bitmap')\n",
        "\n",
        "EXPERIMENT_DIR = os.path.join(ROOT_DIR, 'drive', 'MyDrive', 'University', 'PiLab', 'Experiment')\n",
        "RESULT_DIR = os.path.join(EXPERIMENT_DIR, 'Results')\n",
        "\n",
        "os.chdir(RESULT_DIR)\n",
        "curr_result_name = f\"{EXPERIMENT_DATA['name']}_{EXPERIMENT_DATA['number']}_{EXPERIMENT_DATA['date']}_Data\"\n",
        "if (curr_result_name not in os.listdir()):\n",
        "    os.mkdir(curr_result_name)\n",
        "\n",
        "CURR_RESULT_DIR = os.path.join(RESULT_DIR, curr_result_name)\n",
        "os.chdir(CURR_RESULT_DIR)\n",
        "\n",
        "with open('Description.txt', 'w') as f:\n",
        "    f.write(EXPERIMENT_DATA['description'])\n",
        "\n",
        "print(f'ROOT_DIR:        {ROOT_DIR}')\n",
        "print(f'DATA_DIR:        {DATA_DIR}')\n",
        "print(f'EXPERIMENT_DIR:  {EXPERIMENT_DIR}')\n",
        "print(f'RESULT_DIR:      {RESULT_DIR}')\n",
        "print(f'CURR_RESULT_DIR: {CURR_RESULT_DIR}')"
      ],
      "id": "af6c1e33-ae07-4cde-b5ee-6d28ed48821c",
      "execution_count": 3,
      "outputs": [
        {
          "output_type": "stream",
          "text": [
            "ROOT_DIR:        /content\n",
            "DATA_DIR:        /content/Bitmap\n",
            "EXPERIMENT_DIR:  /content/drive/MyDrive/University/PiLab/Experiment\n",
            "RESULT_DIR:      /content/drive/MyDrive/University/PiLab/Experiment/Results\n",
            "CURR_RESULT_DIR: /content/drive/MyDrive/University/PiLab/Experiment/Results/Trajectory_Clusetring_27_07-08-2021_Data\n"
          ],
          "name": "stdout"
        }
      ]
    },
    {
      "cell_type": "markdown",
      "metadata": {
        "id": "9da2c293-b65e-4f92-85b1-20da8e7e7c2b"
      },
      "source": [
        "# Load Bitmaps"
      ],
      "id": "9da2c293-b65e-4f92-85b1-20da8e7e7c2b"
    },
    {
      "cell_type": "code",
      "metadata": {
        "id": "pxrGnHDkn9sn"
      },
      "source": [
        "import zipfile\n",
        "\n",
        "os.chdir(ROOT_DIR)\n",
        "zipfile.ZipFile(\"Bitmap.zip\").extractall()"
      ],
      "id": "pxrGnHDkn9sn",
      "execution_count": 4,
      "outputs": []
    },
    {
      "cell_type": "code",
      "metadata": {
        "id": "ad5a5d37-02c4-4f56-aeb8-9a2de7c98f46",
        "colab": {
          "base_uri": "https://localhost:8080/"
        },
        "outputId": "ac4c7d35-d42d-4ed3-f6c2-11a566c11c9a"
      },
      "source": [
        "os.chdir(DATA_DIR)\n",
        "print(sorted(glob.glob('*png'))[:10])"
      ],
      "id": "ad5a5d37-02c4-4f56-aeb8-9a2de7c98f46",
      "execution_count": 5,
      "outputs": [
        {
          "output_type": "stream",
          "text": [
            "['0th data.png', '1000000th data.png', '1000064th data.png', '1000128th data.png', '1000192th data.png', '1000256th data.png', '1000320th data.png', '100032th data.png', '1000384th data.png', '1000448th data.png']\n"
          ],
          "name": "stdout"
        }
      ]
    },
    {
      "cell_type": "code",
      "metadata": {
        "id": "90fe9270-3fd7-4c09-ac85-1dcf9120a4dd",
        "colab": {
          "base_uri": "https://localhost:8080/",
          "height": 114
        },
        "outputId": "aca0e024-d70a-42b6-d50d-30cd9b1711df"
      },
      "source": [
        "os.chdir(DATA_DIR)\n",
        "\n",
        "file_names = list(sorted(glob.glob('*png')))\n",
        "\n",
        "bitmap_data = [ ]\n",
        "for file in file_names:\n",
        "    bitmap_data.append(cv2.imread(file, cv2.IMREAD_GRAYSCALE))\n",
        "\n",
        "plt.gray()\n",
        "fig, ax = plt.subplots(1, 4, sharex = True, sharey = True, figsize = (8, 64))\n",
        "ax[0].imshow(bitmap_data[0])\n",
        "ax[1].imshow(bitmap_data[1])\n",
        "ax[2].imshow(bitmap_data[2])\n",
        "ax[3].imshow(cv2.hconcat([bitmap_data[0], bitmap_data[1]]))\n",
        "\n",
        "plt.show()"
      ],
      "id": "90fe9270-3fd7-4c09-ac85-1dcf9120a4dd",
      "execution_count": 6,
      "outputs": [
        {
          "output_type": "display_data",
          "data": {
            "text/plain": [
              "<Figure size 432x288 with 0 Axes>"
            ]
          },
          "metadata": {
            "tags": []
          }
        },
        {
          "output_type": "display_data",
          "data": {
            "image/png": "[encoded data removed]",
            "text/plain": [
              "<Figure size 576x4608 with 4 Axes>"
            ]
          },
          "metadata": {
            "tags": [],
            "needs_background": "light"
          }
        }
      ]
    },
    {
      "cell_type": "code",
      "metadata": {
        "colab": {
          "base_uri": "https://localhost:8080/"
        },
        "id": "fwaoQMoFxTGA",
        "outputId": "3ac819cb-795e-462b-c3e1-1aa11b606b62"
      },
      "source": [
        "len(bitmap_data)"
      ],
      "id": "fwaoQMoFxTGA",
      "execution_count": 7,
      "outputs": [
        {
          "output_type": "execute_result",
          "data": {
            "text/plain": [
              "18670"
            ]
          },
          "metadata": {
            "tags": []
          },
          "execution_count": 7
        }
      ]
    },
    {
      "cell_type": "markdown",
      "metadata": {
        "id": "UjNWvJlp0b37"
      },
      "source": [
        "# Create Dataset"
      ],
      "id": "UjNWvJlp0b37"
    },
    {
      "cell_type": "code",
      "metadata": {
        "id": "4MZa_foE0bT5"
      },
      "source": [
        "X_TRAIN_SIZE = 100\n",
        "X_TEST_SIZE = 10\n",
        "\n",
        "X_train, Y_train = [ ], [ ]\n",
        "for i in range(X_TRAIN_SIZE):\n",
        "    for j in range(X_TRAIN_SIZE):\n",
        "        X_train.append(cv2.hconcat([bitmap_data[i], bitmap_data[j]]))\n",
        "        if (i == j):\n",
        "            Y_train.append(1)\n",
        "        else:\n",
        "            Y_train.append(0)\n",
        "\n",
        "for i in range(X_TRAIN_SIZE + X_TEST_SIZE, X_TRAIN_SIZE + X_TEST_SIZE + 10_000):\n",
        "    X_train.append(cv2.hconcat([bitmap_data[i], bitmap_data[i]]))\n",
        "    Y_train.append(1)\n",
        "\n",
        "X_test, Y_test = [ ], [ ]\n",
        "for i in range(X_TRAIN_SIZE, X_TRAIN_SIZE + X_TEST_SIZE):\n",
        "    for j in range(X_TRAIN_SIZE, X_TRAIN_SIZE + X_TEST_SIZE):\n",
        "        X_test.append(cv2.hconcat([bitmap_data[i], bitmap_data[j]]))\n",
        "        if (i == j):\n",
        "            Y_test.append(1)\n",
        "        else:\n",
        "            Y_test.append(0)\n",
        "\n",
        "for i in range(X_TRAIN_SIZE + X_TEST_SIZE + 10_000, X_TRAIN_SIZE + X_TEST_SIZE + 10_000 + 100):\n",
        "    X_test.append(cv2.hconcat([bitmap_data[i], bitmap_data[i]]))\n",
        "    Y_test.append(1)"
      ],
      "id": "4MZa_foE0bT5",
      "execution_count": 8,
      "outputs": []
    },
    {
      "cell_type": "code",
      "metadata": {
        "id": "Kqx7Xyai2bSt"
      },
      "source": [
        "X_train = np.array(X_train).astype('float32') / 255.\n",
        "X_train = np.reshape(X_train, (-1, CONCAT_HEIGHT * CONCAT_WIDTH))\n",
        "\n",
        "X_test = np.array(X_test).astype('float32') / 255\n",
        "X_test = np.reshape(X_test, (-1, CONCAT_HEIGHT * CONCAT_WIDTH))\n",
        "\n",
        "Y_train = np.array(Y_train)\n",
        "Y_test = np.array(Y_test)"
      ],
      "id": "Kqx7Xyai2bSt",
      "execution_count": 9,
      "outputs": []
    },
    {
      "cell_type": "code",
      "metadata": {
        "colab": {
          "base_uri": "https://localhost:8080/"
        },
        "id": "E0OvKvnG4Y3p",
        "outputId": "36896f1f-0622-4567-dc3d-cb329263762a"
      },
      "source": [
        "print(X_train.shape, Y_train.shape)\n",
        "print(X_test.shape, Y_test.shape)"
      ],
      "id": "E0OvKvnG4Y3p",
      "execution_count": 10,
      "outputs": [
        {
          "output_type": "stream",
          "text": [
            "(20000, 128) (20000,)\n",
            "(200, 128) (200,)\n"
          ],
          "name": "stdout"
        }
      ]
    },
    {
      "cell_type": "markdown",
      "metadata": {
        "id": "863539bc-56b1-4575-a382-5dbd0aef863b"
      },
      "source": [
        "# Construct Network"
      ],
      "id": "863539bc-56b1-4575-a382-5dbd0aef863b"
    },
    {
      "cell_type": "code",
      "metadata": {
        "id": "473f7c0f-66e0-4fcb-aa94-6d5cc0f582bf"
      },
      "source": [
        "import tensorflow as tf\n",
        "from tensorflow import keras\n",
        "from tensorflow.keras import layers"
      ],
      "id": "473f7c0f-66e0-4fcb-aa94-6d5cc0f582bf",
      "execution_count": 11,
      "outputs": []
    },
    {
      "cell_type": "code",
      "metadata": {
        "id": "44rYOpdSu_12"
      },
      "source": [
        "NEURON_NUMBER = 64"
      ],
      "id": "44rYOpdSu_12",
      "execution_count": 12,
      "outputs": []
    },
    {
      "cell_type": "code",
      "metadata": {
        "id": "Q_PW1lf63eOu"
      },
      "source": [
        "model = keras.Sequential()\n",
        "model.add(layers.Dense(NEURON_NUMBER, 'relu', input_shape = (128, )))\n",
        "model.add(layers.Dropout(0.3))\n",
        "\n",
        "model.add(layers.Dense(NEURON_NUMBER, 'relu'))\n",
        "model.add(layers.Dropout(0.3))\n",
        "\n",
        "model.add(layers.Dense(NEURON_NUMBER, 'relu'))\n",
        "model.add(layers.Dropout(0.3))\n",
        "\n",
        "model.add(layers.Dense(NEURON_NUMBER, 'relu'))\n",
        "model.add(layers.Dropout(0.5))\n",
        "\n",
        "model.add(layers.Dense(1, activation = 'sigmoid'))"
      ],
      "id": "Q_PW1lf63eOu",
      "execution_count": 13,
      "outputs": []
    },
    {
      "cell_type": "code",
      "metadata": {
        "colab": {
          "base_uri": "https://localhost:8080/"
        },
        "id": "E6rNEEgZ6fi7",
        "outputId": "f46ec6af-c664-4137-ca54-606c1abec14f"
      },
      "source": [
        "model.summary()"
      ],
      "id": "E6rNEEgZ6fi7",
      "execution_count": 14,
      "outputs": [
        {
          "output_type": "stream",
          "text": [
            "Model: \"sequential\"\n",
            "_________________________________________________________________\n",
            "Layer (type)                 Output Shape              Param #   \n",
            "=================================================================\n",
            "dense (Dense)                (None, 64)                8256      \n",
            "_________________________________________________________________\n",
            "dropout (Dropout)            (None, 64)                0         \n",
            "_________________________________________________________________\n",
            "dense_1 (Dense)              (None, 64)                4160      \n",
            "_________________________________________________________________\n",
            "dropout_1 (Dropout)          (None, 64)                0         \n",
            "_________________________________________________________________\n",
            "dense_2 (Dense)              (None, 64)                4160      \n",
            "_________________________________________________________________\n",
            "dropout_2 (Dropout)          (None, 64)                0         \n",
            "_________________________________________________________________\n",
            "dense_3 (Dense)              (None, 64)                4160      \n",
            "_________________________________________________________________\n",
            "dropout_3 (Dropout)          (None, 64)                0         \n",
            "_________________________________________________________________\n",
            "dense_4 (Dense)              (None, 1)                 65        \n",
            "=================================================================\n",
            "Total params: 20,801\n",
            "Trainable params: 20,801\n",
            "Non-trainable params: 0\n",
            "_________________________________________________________________\n"
          ],
          "name": "stdout"
        }
      ]
    },
    {
      "cell_type": "code",
      "metadata": {
        "id": "MoLMKaB_7G6x"
      },
      "source": [
        "model.compile(optimizer = 'rmsprop', loss = 'binary_crossentropy', metrics=['acc'])"
      ],
      "id": "MoLMKaB_7G6x",
      "execution_count": 15,
      "outputs": []
    },
    {
      "cell_type": "code",
      "metadata": {
        "colab": {
          "base_uri": "https://localhost:8080/"
        },
        "id": "nOcAL4xX-BhC",
        "outputId": "fb613eaf-db1e-44d2-e73a-c4fd5ca23485"
      },
      "source": [
        "history = model.fit(X_train, Y_train, epochs = 50, batch_size = 128)"
      ],
      "id": "nOcAL4xX-BhC",
      "execution_count": 16,
      "outputs": [
        {
          "output_type": "stream",
          "text": [
            "Epoch 1/50\n",
            "157/157 [==============================] - 1s 3ms/step - loss: 0.5302 - acc: 0.7062\n",
            "Epoch 2/50\n",
            "157/157 [==============================] - 0s 3ms/step - loss: 0.1577 - acc: 0.9412\n",
            "Epoch 3/50\n",
            "157/157 [==============================] - 0s 3ms/step - loss: 0.0543 - acc: 0.9826\n",
            "Epoch 4/50\n",
            "157/157 [==============================] - 0s 2ms/step - loss: 0.0313 - acc: 0.9906\n",
            "Epoch 5/50\n",
            "157/157 [==============================] - 0s 2ms/step - loss: 0.0185 - acc: 0.9944\n",
            "Epoch 6/50\n",
            "157/157 [==============================] - 0s 3ms/step - loss: 0.0158 - acc: 0.9954\n",
            "Epoch 7/50\n",
            "157/157 [==============================] - 0s 3ms/step - loss: 0.0134 - acc: 0.9969\n",
            "Epoch 8/50\n",
            "157/157 [==============================] - 0s 3ms/step - loss: 0.0112 - acc: 0.9973\n",
            "Epoch 9/50\n",
            "157/157 [==============================] - 0s 3ms/step - loss: 0.0089 - acc: 0.9979\n",
            "Epoch 10/50\n",
            "157/157 [==============================] - 0s 2ms/step - loss: 0.0084 - acc: 0.9977\n",
            "Epoch 11/50\n",
            "157/157 [==============================] - 0s 3ms/step - loss: 0.0119 - acc: 0.9981\n",
            "Epoch 12/50\n",
            "157/157 [==============================] - 0s 3ms/step - loss: 0.0092 - acc: 0.9979\n",
            "Epoch 13/50\n",
            "157/157 [==============================] - 0s 2ms/step - loss: 0.0091 - acc: 0.9981\n",
            "Epoch 14/50\n",
            "157/157 [==============================] - 0s 2ms/step - loss: 0.0081 - acc: 0.9987\n",
            "Epoch 15/50\n",
            "157/157 [==============================] - 0s 2ms/step - loss: 0.0092 - acc: 0.9980\n",
            "Epoch 16/50\n",
            "157/157 [==============================] - 0s 2ms/step - loss: 0.0071 - acc: 0.9987\n",
            "Epoch 17/50\n",
            "157/157 [==============================] - 0s 2ms/step - loss: 0.0062 - acc: 0.9990\n",
            "Epoch 18/50\n",
            "157/157 [==============================] - 0s 2ms/step - loss: 0.0074 - acc: 0.9987\n",
            "Epoch 19/50\n",
            "157/157 [==============================] - 0s 3ms/step - loss: 0.0067 - acc: 0.9992\n",
            "Epoch 20/50\n",
            "157/157 [==============================] - 0s 3ms/step - loss: 0.0058 - acc: 0.9988\n",
            "Epoch 21/50\n",
            "157/157 [==============================] - 0s 3ms/step - loss: 0.0070 - acc: 0.9987\n",
            "Epoch 22/50\n",
            "157/157 [==============================] - 0s 3ms/step - loss: 0.0065 - acc: 0.9989\n",
            "Epoch 23/50\n",
            "157/157 [==============================] - 0s 3ms/step - loss: 0.0064 - acc: 0.9990\n",
            "Epoch 24/50\n",
            "157/157 [==============================] - 0s 2ms/step - loss: 0.0070 - acc: 0.9994\n",
            "Epoch 25/50\n",
            "157/157 [==============================] - 0s 3ms/step - loss: 0.0065 - acc: 0.9991\n",
            "Epoch 26/50\n",
            "157/157 [==============================] - 0s 3ms/step - loss: 0.0047 - acc: 0.9991\n",
            "Epoch 27/50\n",
            "157/157 [==============================] - 0s 2ms/step - loss: 0.0071 - acc: 0.9992\n",
            "Epoch 28/50\n",
            "157/157 [==============================] - 0s 2ms/step - loss: 0.0053 - acc: 0.9991\n",
            "Epoch 29/50\n",
            "157/157 [==============================] - 0s 3ms/step - loss: 0.0040 - acc: 0.9992\n",
            "Epoch 30/50\n",
            "157/157 [==============================] - 0s 3ms/step - loss: 0.0082 - acc: 0.9991\n",
            "Epoch 31/50\n",
            "157/157 [==============================] - 0s 2ms/step - loss: 0.0081 - acc: 0.9992\n",
            "Epoch 32/50\n",
            "157/157 [==============================] - 0s 2ms/step - loss: 0.0076 - acc: 0.9994\n",
            "Epoch 33/50\n",
            "157/157 [==============================] - 0s 2ms/step - loss: 0.0077 - acc: 0.9991\n",
            "Epoch 34/50\n",
            "157/157 [==============================] - 0s 2ms/step - loss: 0.0031 - acc: 0.9995\n",
            "Epoch 35/50\n",
            "157/157 [==============================] - 0s 2ms/step - loss: 0.0055 - acc: 0.9992\n",
            "Epoch 36/50\n",
            "157/157 [==============================] - 0s 3ms/step - loss: 0.0074 - acc: 0.9993\n",
            "Epoch 37/50\n",
            "157/157 [==============================] - 0s 2ms/step - loss: 0.0067 - acc: 0.9995\n",
            "Epoch 38/50\n",
            "157/157 [==============================] - 0s 2ms/step - loss: 0.0055 - acc: 0.9994\n",
            "Epoch 39/50\n",
            "157/157 [==============================] - 0s 2ms/step - loss: 0.0083 - acc: 0.9995\n",
            "Epoch 40/50\n",
            "157/157 [==============================] - 0s 2ms/step - loss: 0.0073 - acc: 0.9992\n",
            "Epoch 41/50\n",
            "157/157 [==============================] - 0s 2ms/step - loss: 0.0052 - acc: 0.9995\n",
            "Epoch 42/50\n",
            "157/157 [==============================] - 0s 3ms/step - loss: 0.0105 - acc: 0.9995\n",
            "Epoch 43/50\n",
            "157/157 [==============================] - 0s 2ms/step - loss: 0.0052 - acc: 0.9994\n",
            "Epoch 44/50\n",
            "157/157 [==============================] - 0s 3ms/step - loss: 0.0065 - acc: 0.9994\n",
            "Epoch 45/50\n",
            "157/157 [==============================] - 0s 2ms/step - loss: 0.0097 - acc: 0.9994\n",
            "Epoch 46/50\n",
            "157/157 [==============================] - 0s 3ms/step - loss: 0.0076 - acc: 0.9994\n",
            "Epoch 47/50\n",
            "157/157 [==============================] - 0s 3ms/step - loss: 0.0048 - acc: 0.9995\n",
            "Epoch 48/50\n",
            "157/157 [==============================] - 0s 2ms/step - loss: 0.0050 - acc: 0.9995\n",
            "Epoch 49/50\n",
            "157/157 [==============================] - 0s 3ms/step - loss: 0.0096 - acc: 0.9995\n",
            "Epoch 50/50\n",
            "157/157 [==============================] - 0s 3ms/step - loss: 0.0047 - acc: 0.9994\n"
          ],
          "name": "stdout"
        }
      ]
    },
    {
      "cell_type": "code",
      "metadata": {
        "colab": {
          "base_uri": "https://localhost:8080/"
        },
        "id": "t6QF05Vn-It6",
        "outputId": "8d67d615-d531-4e81-9103-67c47d7a34e2"
      },
      "source": [
        "score = model.evaluate(X_test, Y_test)\n",
        "print(score)"
      ],
      "id": "t6QF05Vn-It6",
      "execution_count": 17,
      "outputs": [
        {
          "output_type": "stream",
          "text": [
            "7/7 [==============================] - 0s 2ms/step - loss: 3.0745e-04 - acc: 1.0000\n",
            "[0.00030745461117476225, 1.0]\n"
          ],
          "name": "stdout"
        }
      ]
    },
    {
      "cell_type": "code",
      "metadata": {
        "colab": {
          "base_uri": "https://localhost:8080/",
          "height": 232
        },
        "id": "ZHNNStVyB7BO",
        "outputId": "9e338b67-332d-4efb-bc39-91db9cb56a6b"
      },
      "source": [
        "print(model(X_test[0:1]))\n",
        "plt.imshow(np.reshape(X_test[0:1], (8, 16)))\n",
        "plt.show()"
      ],
      "id": "ZHNNStVyB7BO",
      "execution_count": 18,
      "outputs": [
        {
          "output_type": "stream",
          "text": [
            "tf.Tensor([[1.]], shape=(1, 1), dtype=float32)\n"
          ],
          "name": "stdout"
        },
        {
          "output_type": "display_data",
          "data": {
            "image/png": "[encoded data removed]",
            "text/plain": [
              "<Figure size 432x288 with 1 Axes>"
            ]
          },
          "metadata": {
            "tags": [],
            "needs_background": "light"
          }
        }
      ]
    },
    {
      "cell_type": "code",
      "metadata": {
        "colab": {
          "base_uri": "https://localhost:8080/",
          "height": 232
        },
        "id": "x7M9_UmkCDuI",
        "outputId": "9ecac1d1-6e30-4753-c3a9-2d04ac11792b"
      },
      "source": [
        "print(model(X_test[1:2]))\n",
        "plt.imshow(np.reshape(X_test[1:2], (8, 16)))\n",
        "plt.show()"
      ],
      "id": "x7M9_UmkCDuI",
      "execution_count": 19,
      "outputs": [
        {
          "output_type": "stream",
          "text": [
            "tf.Tensor([[0.]], shape=(1, 1), dtype=float32)\n"
          ],
          "name": "stdout"
        },
        {
          "output_type": "display_data",
          "data": {
            "image/png": "[encoded data removed]",
            "text/plain": [
              "<Figure size 432x288 with 1 Axes>"
            ]
          },
          "metadata": {
            "tags": [],
            "needs_background": "light"
          }
        }
      ]
    },
    {
      "cell_type": "code",
      "metadata": {
        "colab": {
          "base_uri": "https://localhost:8080/",
          "height": 281
        },
        "id": "fnmE3l6i-PCX",
        "outputId": "0434eb03-7d7f-4b43-964e-faeda11c68ca"
      },
      "source": [
        "os.chdir(CURR_RESULT_DIR)\n",
        "\n",
        "model.save('model.h5')\n",
        "\n",
        "fig, ax = plt.subplots(2, 1)\n",
        "ax[0].plot(history.history['loss'])\n",
        "ax[0].set_title('Loss')\n",
        "\n",
        "ax[1].plot(history.history['acc'])\n",
        "ax[1].set_title('Acc')\n",
        "\n",
        "plt.savefig('result' + '.png')\n",
        "plt.show()"
      ],
      "id": "fnmE3l6i-PCX",
      "execution_count": 20,
      "outputs": [
        {
          "output_type": "display_data",
          "data": {
            "image/png": "[encoded data removed]",
            "text/plain": [
              "<Figure size 432x288 with 2 Axes>"
            ]
          },
          "metadata": {
            "tags": [],
            "needs_background": "light"
          }
        }
      ]
    }
  ]
}