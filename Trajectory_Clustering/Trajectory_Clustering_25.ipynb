{
  "nbformat": 4,
  "nbformat_minor": 5,
  "metadata": {
    "kernelspec": {
      "display_name": "Python 3",
      "language": "python",
      "name": "python3"
    },
    "language_info": {
      "codemirror_mode": {
        "name": "ipython",
        "version": 3
      },
      "file_extension": ".py",
      "mimetype": "text/x-python",
      "name": "python",
      "nbconvert_exporter": "python",
      "pygments_lexer": "ipython3",
      "version": "3.8.8"
    },
    "colab": {
      "name": "Trajectory_Clustering_25.ipynb",
      "provenance": [],
      "collapsed_sections": [],
      "include_colab_link": true
    }
  },
  "cells": [
    {
      "cell_type": "markdown",
      "metadata": {
        "id": "view-in-github",
        "colab_type": "text"
      },
      "source": [
        "<a href=\"https://colab.research.google.com/github/Taejin1221/Lab_Experiment/blob/main/Trajectory_Clustering/Trajectory_Clustering_25.ipynb\" target=\"_parent\"><img src=\"https://colab.research.google.com/assets/colab-badge.svg\" alt=\"Open In Colab\"/></a>"
      ]
    },
    {
      "cell_type": "markdown",
      "metadata": {
        "id": "4f560faa-4956-4fba-b929-add66c5750b6"
      },
      "source": [
        "# Load modules and Set constants"
      ],
      "id": "4f560faa-4956-4fba-b929-add66c5750b6"
    },
    {
      "cell_type": "code",
      "metadata": {
        "id": "535ff0e4-903d-42fd-a578-a189fda5fc73"
      },
      "source": [
        "import os, cv2, glob\n",
        "import numpy as np\n",
        "\n",
        "import matplotlib.pyplot as plt"
      ],
      "id": "535ff0e4-903d-42fd-a578-a189fda5fc73",
      "execution_count": null,
      "outputs": []
    },
    {
      "cell_type": "code",
      "metadata": {
        "colab": {
          "base_uri": "https://localhost:8080/"
        },
        "id": "BQZbg-TyjyRw",
        "outputId": "09d2b83c-12b2-4255-bb7a-4624853d18b9"
      },
      "source": [
        "from google.colab import drive\n",
        "drive.mount('/content/drive')"
      ],
      "id": "BQZbg-TyjyRw",
      "execution_count": null,
      "outputs": [
        {
          "output_type": "stream",
          "text": [
            "Drive already mounted at /content/drive; to attempt to forcibly remount, call drive.mount(\"/content/drive\", force_remount=True).\n"
          ],
          "name": "stdout"
        }
      ]
    },
    {
      "cell_type": "code",
      "metadata": {
        "id": "af6c1e33-ae07-4cde-b5ee-6d28ed48821c",
        "colab": {
          "base_uri": "https://localhost:8080/"
        },
        "outputId": "e8018018-4304-4701-a294-49587c956e80"
      },
      "source": [
        "WIDTH, HEIGHT = 8, 8\n",
        "CONCAT_WIDTH, CONCAT_HEIGHT = WIDTH + WIDTH, HEIGHT\n",
        "\n",
        "EXPERIMENT_DATA = {\n",
        "    'name' : 'Trajectory_Clusetring',\n",
        "    'number' : '25',\n",
        "    'date' : '07-05-2021',\n",
        "    'description' : 'Clustering with CNN\\n'\n",
        "    }\n",
        "\n",
        "ROOT_DIR = os.path.join('/content')\n",
        "\n",
        "DATA_DIR = os.path.join(ROOT_DIR, 'Bitmap')\n",
        "\n",
        "EXPERIMENT_DIR = os.path.join(ROOT_DIR, 'drive', 'MyDrive', 'University', 'PiLab', 'Experiment')\n",
        "RESULT_DIR = os.path.join(EXPERIMENT_DIR, 'Results')\n",
        "\n",
        "os.chdir(RESULT_DIR)\n",
        "curr_result_name = f\"{EXPERIMENT_DATA['name']}_{EXPERIMENT_DATA['number']}_{EXPERIMENT_DATA['date']}_Data\"\n",
        "if (curr_result_name not in os.listdir()):\n",
        "    os.mkdir(curr_result_name)\n",
        "\n",
        "CURR_RESULT_DIR = os.path.join(RESULT_DIR, curr_result_name)\n",
        "os.chdir(CURR_RESULT_DIR)\n",
        "\n",
        "with open('Description.txt', 'w') as f:\n",
        "    f.write(EXPERIMENT_DATA['description'])\n",
        "\n",
        "print(f'ROOT_DIR:        {ROOT_DIR}')\n",
        "print(f'DATA_DIR:        {DATA_DIR}')\n",
        "print(f'EXPERIMENT_DIR:  {EXPERIMENT_DIR}')\n",
        "print(f'RESULT_DIR:      {RESULT_DIR}')\n",
        "print(f'CURR_RESULT_DIR: {CURR_RESULT_DIR}')"
      ],
      "id": "af6c1e33-ae07-4cde-b5ee-6d28ed48821c",
      "execution_count": null,
      "outputs": [
        {
          "output_type": "stream",
          "text": [
            "ROOT_DIR:        /content\n",
            "DATA_DIR:        /content/Bitmap\n",
            "EXPERIMENT_DIR:  /content/drive/MyDrive/University/PiLab/Experiment\n",
            "RESULT_DIR:      /content/drive/MyDrive/University/PiLab/Experiment/Results\n",
            "CURR_RESULT_DIR: /content/drive/MyDrive/University/PiLab/Experiment/Results/Trajectory_Clusetring_25_07-05-2021_Data\n"
          ],
          "name": "stdout"
        }
      ]
    },
    {
      "cell_type": "markdown",
      "metadata": {
        "id": "9da2c293-b65e-4f92-85b1-20da8e7e7c2b"
      },
      "source": [
        "# Load Bitmaps"
      ],
      "id": "9da2c293-b65e-4f92-85b1-20da8e7e7c2b"
    },
    {
      "cell_type": "code",
      "metadata": {
        "id": "pxrGnHDkn9sn"
      },
      "source": [
        "import zipfile\n",
        "\n",
        "os.chdir(ROOT_DIR)\n",
        "zipfile.ZipFile(\"Bitmap.zip\").extractall()"
      ],
      "id": "pxrGnHDkn9sn",
      "execution_count": null,
      "outputs": []
    },
    {
      "cell_type": "code",
      "metadata": {
        "id": "ad5a5d37-02c4-4f56-aeb8-9a2de7c98f46",
        "colab": {
          "base_uri": "https://localhost:8080/"
        },
        "outputId": "5e16352b-6319-4a2f-c3e2-83f58c4ecb29"
      },
      "source": [
        "os.chdir(DATA_DIR)\n",
        "print(sorted(glob.glob('*png'))[:10])"
      ],
      "id": "ad5a5d37-02c4-4f56-aeb8-9a2de7c98f46",
      "execution_count": null,
      "outputs": [
        {
          "output_type": "stream",
          "text": [
            "['0th data.png', '1000000th data.png', '1000064th data.png', '1000128th data.png', '1000192th data.png', '1000256th data.png', '1000320th data.png', '100032th data.png', '1000384th data.png', '1000448th data.png']\n"
          ],
          "name": "stdout"
        }
      ]
    },
    {
      "cell_type": "code",
      "metadata": {
        "id": "90fe9270-3fd7-4c09-ac85-1dcf9120a4dd",
        "colab": {
          "base_uri": "https://localhost:8080/",
          "height": 103
        },
        "outputId": "bdcc0707-86b9-401c-c5a8-e04b9899f032"
      },
      "source": [
        "os.chdir(DATA_DIR)\n",
        "\n",
        "file_names = list(sorted(glob.glob('*png')))\n",
        "\n",
        "bitmap_data = [ ]\n",
        "for file in file_names:\n",
        "    bitmap_data.append(cv2.imread(file, cv2.IMREAD_GRAYSCALE))\n",
        "\n",
        "plt.gray()\n",
        "fig, ax = plt.subplots(1, 4, sharex = True, sharey = True)\n",
        "ax[0].imshow(bitmap_data[0])\n",
        "ax[1].imshow(bitmap_data[1])\n",
        "ax[2].imshow(bitmap_data[2])\n",
        "ax[3].imshow(cv2.hconcat([bitmap_data[0], bitmap_data[1]]))\n",
        "\n",
        "plt.show()"
      ],
      "id": "90fe9270-3fd7-4c09-ac85-1dcf9120a4dd",
      "execution_count": null,
      "outputs": [
        {
          "output_type": "display_data",
          "data": {
            "text/plain": [
              "<Figure size 432x288 with 0 Axes>"
            ]
          },
          "metadata": {
            "tags": []
          }
        },
        {
          "output_type": "display_data",
          "data": {
            "image/png": "[encoded data removed]",
            "text/plain": [
              "<Figure size 432x288 with 4 Axes>"
            ]
          },
          "metadata": {
            "tags": [],
            "needs_background": "light"
          }
        }
      ]
    },
    {
      "cell_type": "markdown",
      "metadata": {
        "id": "UjNWvJlp0b37"
      },
      "source": [
        "# Create Dataset"
      ],
      "id": "UjNWvJlp0b37"
    },
    {
      "cell_type": "code",
      "metadata": {
        "id": "4MZa_foE0bT5"
      },
      "source": [
        "X_TRAIN_SIZE = 100\n",
        "X_TEST_SIZE = 10\n",
        "\n",
        "X_train, Y_train = [ ], [ ]\n",
        "for i in range(X_TRAIN_SIZE):\n",
        "    for j in range(X_TRAIN_SIZE):\n",
        "        X_train.append(cv2.hconcat([bitmap_data[i], bitmap_data[j]]))\n",
        "        if (i == j):\n",
        "            Y_train.append(1)\n",
        "        else:\n",
        "            Y_train.append(0)\n",
        "\n",
        "for i in range(10_000):\n",
        "    X_train.append(cv2.hconcat([bitmap_data[i], bitmap_data[i]]))\n",
        "    Y_train.append(1)\n",
        "\n",
        "X_test, Y_test = [ ], [ ]\n",
        "for i in range(X_TRAIN_SIZE, X_TRAIN_SIZE + X_TEST_SIZE):\n",
        "    for j in range(X_TRAIN_SIZE, X_TRAIN_SIZE + X_TEST_SIZE):\n",
        "        X_test.append(cv2.hconcat([bitmap_data[i], bitmap_data[j]]))\n",
        "        if (i == j):\n",
        "            Y_test.append(1)\n",
        "        else:\n",
        "            Y_test.append(0)\n",
        "\n",
        "for i in range(100):\n",
        "    X_test.append(cv2.hconcat([bitmap_data[i], bitmap_data[i]]))\n",
        "    Y_test.append(1)"
      ],
      "id": "4MZa_foE0bT5",
      "execution_count": null,
      "outputs": []
    },
    {
      "cell_type": "code",
      "metadata": {
        "id": "Kqx7Xyai2bSt"
      },
      "source": [
        "X_train = np.array(X_train).astype('float32') / 255.\n",
        "X_train = np.reshape(X_train, (-1, CONCAT_HEIGHT, CONCAT_WIDTH, 1))\n",
        "\n",
        "X_test = np.array(X_test).astype('float32') / 255\n",
        "X_test = np.reshape(X_test, (-1, CONCAT_HEIGHT, CONCAT_WIDTH, 1))\n",
        "\n",
        "Y_train = np.array(Y_train)\n",
        "Y_test = np.array(Y_test)"
      ],
      "id": "Kqx7Xyai2bSt",
      "execution_count": null,
      "outputs": []
    },
    {
      "cell_type": "code",
      "metadata": {
        "colab": {
          "base_uri": "https://localhost:8080/"
        },
        "id": "E0OvKvnG4Y3p",
        "outputId": "257e5d36-aff1-4687-8209-43f9325b75e5"
      },
      "source": [
        "print(X_train.shape, Y_train.shape)\n",
        "print(X_test.shape, Y_test.shape)"
      ],
      "id": "E0OvKvnG4Y3p",
      "execution_count": null,
      "outputs": [
        {
          "output_type": "stream",
          "text": [
            "(20000, 8, 16, 1) (20000,)\n",
            "(200, 8, 16, 1) (200,)\n"
          ],
          "name": "stdout"
        }
      ]
    },
    {
      "cell_type": "markdown",
      "metadata": {
        "id": "863539bc-56b1-4575-a382-5dbd0aef863b"
      },
      "source": [
        "# Construct Network"
      ],
      "id": "863539bc-56b1-4575-a382-5dbd0aef863b"
    },
    {
      "cell_type": "code",
      "metadata": {
        "id": "473f7c0f-66e0-4fcb-aa94-6d5cc0f582bf"
      },
      "source": [
        "import tensorflow as tf\n",
        "from tensorflow import keras\n",
        "from tensorflow.keras import layers"
      ],
      "id": "473f7c0f-66e0-4fcb-aa94-6d5cc0f582bf",
      "execution_count": null,
      "outputs": []
    },
    {
      "cell_type": "code",
      "metadata": {
        "id": "Q_PW1lf63eOu"
      },
      "source": [
        "model = keras.Sequential()\n",
        "model.add(layers.Conv2D(32, (3, 3), padding = 'same', activation = 'relu', input_shape = (8, 16, 1)))\n",
        "model.add(layers.MaxPooling2D((2, 2), padding = 'same'))\n",
        "model.add(layers.Dropout(0.3))\n",
        "\n",
        "model.add(layers.Conv2D(64, (3, 3), padding = 'same', activation = 'relu'))\n",
        "model.add(layers.MaxPooling2D((2, 2), padding = 'same'))\n",
        "model.add(layers.Dropout(0.3))\n",
        "\n",
        "model.add(layers.Conv2D(128, (3, 3), padding = 'same', activation = 'relu'))\n",
        "model.add(layers.MaxPooling2D((2, 2), padding = 'same'))\n",
        "model.add(layers.Dropout(0.3))\n",
        "\n",
        "model.add(layers.Flatten())\n",
        "model.add(layers.Dense(256, activation = 'relu'))\n",
        "model.add(layers.Dropout(0.5))\n",
        "\n",
        "model.add(layers.Dense(1, activation = 'sigmoid'))"
      ],
      "id": "Q_PW1lf63eOu",
      "execution_count": null,
      "outputs": []
    },
    {
      "cell_type": "code",
      "metadata": {
        "colab": {
          "base_uri": "https://localhost:8080/"
        },
        "id": "E6rNEEgZ6fi7",
        "outputId": "cdd79eb9-485d-49e8-8da5-dd5f808e45fb"
      },
      "source": [
        "model.summary()"
      ],
      "id": "E6rNEEgZ6fi7",
      "execution_count": null,
      "outputs": [
        {
          "output_type": "stream",
          "text": [
            "Model: \"sequential\"\n",
            "_________________________________________________________________\n",
            "Layer (type)                 Output Shape              Param #   \n",
            "=================================================================\n",
            "conv2d (Conv2D)              (None, 8, 16, 32)         320       \n",
            "_________________________________________________________________\n",
            "max_pooling2d (MaxPooling2D) (None, 4, 8, 32)          0         \n",
            "_________________________________________________________________\n",
            "dropout (Dropout)            (None, 4, 8, 32)          0         \n",
            "_________________________________________________________________\n",
            "conv2d_1 (Conv2D)            (None, 4, 8, 64)          18496     \n",
            "_________________________________________________________________\n",
            "max_pooling2d_1 (MaxPooling2 (None, 2, 4, 64)          0         \n",
            "_________________________________________________________________\n",
            "dropout_1 (Dropout)          (None, 2, 4, 64)          0         \n",
            "_________________________________________________________________\n",
            "conv2d_2 (Conv2D)            (None, 2, 4, 128)         73856     \n",
            "_________________________________________________________________\n",
            "max_pooling2d_2 (MaxPooling2 (None, 1, 2, 128)         0         \n",
            "_________________________________________________________________\n",
            "dropout_2 (Dropout)          (None, 1, 2, 128)         0         \n",
            "_________________________________________________________________\n",
            "flatten (Flatten)            (None, 256)               0         \n",
            "_________________________________________________________________\n",
            "dense (Dense)                (None, 256)               65792     \n",
            "_________________________________________________________________\n",
            "dropout_3 (Dropout)          (None, 256)               0         \n",
            "_________________________________________________________________\n",
            "dense_1 (Dense)              (None, 1)                 257       \n",
            "=================================================================\n",
            "Total params: 158,721\n",
            "Trainable params: 158,721\n",
            "Non-trainable params: 0\n",
            "_________________________________________________________________\n"
          ],
          "name": "stdout"
        }
      ]
    },
    {
      "cell_type": "code",
      "metadata": {
        "id": "MoLMKaB_7G6x"
      },
      "source": [
        "model.compile(optimizer = 'rmsprop', loss = 'binary_crossentropy', metrics=['accuracy'])"
      ],
      "id": "MoLMKaB_7G6x",
      "execution_count": null,
      "outputs": []
    },
    {
      "cell_type": "code",
      "metadata": {
        "colab": {
          "base_uri": "https://localhost:8080/"
        },
        "id": "nOcAL4xX-BhC",
        "outputId": "f1809949-9f90-409a-d83f-f50605375f82"
      },
      "source": [
        "history = model.fit(X_train, Y_train, epochs = 50, batch_size = 128)"
      ],
      "id": "nOcAL4xX-BhC",
      "execution_count": null,
      "outputs": [
        {
          "output_type": "stream",
          "text": [
            "Epoch 1/50\n",
            "157/157 [==============================] - 7s 37ms/step - loss: 0.5777 - accuracy: 0.6682\n",
            "Epoch 2/50\n",
            "157/157 [==============================] - 6s 36ms/step - loss: 0.2579 - accuracy: 0.8952\n",
            "Epoch 3/50\n",
            "157/157 [==============================] - 6s 36ms/step - loss: 0.1494 - accuracy: 0.9434\n",
            "Epoch 4/50\n",
            "157/157 [==============================] - 6s 35ms/step - loss: 0.1068 - accuracy: 0.9590\n",
            "Epoch 5/50\n",
            "157/157 [==============================] - 6s 36ms/step - loss: 0.0827 - accuracy: 0.9687\n",
            "Epoch 6/50\n",
            "157/157 [==============================] - 6s 36ms/step - loss: 0.0744 - accuracy: 0.9732\n",
            "Epoch 7/50\n",
            "157/157 [==============================] - 5s 35ms/step - loss: 0.0607 - accuracy: 0.9783\n",
            "Epoch 8/50\n",
            "157/157 [==============================] - 6s 35ms/step - loss: 0.0537 - accuracy: 0.9811\n",
            "Epoch 9/50\n",
            "157/157 [==============================] - 5s 35ms/step - loss: 0.0502 - accuracy: 0.9815\n",
            "Epoch 10/50\n",
            "157/157 [==============================] - 6s 36ms/step - loss: 0.0474 - accuracy: 0.9829\n",
            "Epoch 11/50\n",
            "157/157 [==============================] - 6s 35ms/step - loss: 0.0438 - accuracy: 0.9836\n",
            "Epoch 12/50\n",
            "157/157 [==============================] - 6s 35ms/step - loss: 0.0412 - accuracy: 0.9855\n",
            "Epoch 13/50\n",
            "157/157 [==============================] - 6s 35ms/step - loss: 0.0387 - accuracy: 0.9855\n",
            "Epoch 14/50\n",
            "157/157 [==============================] - 6s 35ms/step - loss: 0.0381 - accuracy: 0.9863\n",
            "Epoch 15/50\n",
            "157/157 [==============================] - 5s 35ms/step - loss: 0.0360 - accuracy: 0.9873\n",
            "Epoch 16/50\n",
            "157/157 [==============================] - 6s 36ms/step - loss: 0.0340 - accuracy: 0.9880\n",
            "Epoch 17/50\n",
            "157/157 [==============================] - 6s 36ms/step - loss: 0.0319 - accuracy: 0.9884\n",
            "Epoch 18/50\n",
            "157/157 [==============================] - 6s 35ms/step - loss: 0.0319 - accuracy: 0.9889\n",
            "Epoch 19/50\n",
            "157/157 [==============================] - 6s 35ms/step - loss: 0.0335 - accuracy: 0.9880\n",
            "Epoch 20/50\n",
            "157/157 [==============================] - 5s 35ms/step - loss: 0.0330 - accuracy: 0.9880\n",
            "Epoch 21/50\n",
            "157/157 [==============================] - 6s 35ms/step - loss: 0.0307 - accuracy: 0.9893\n",
            "Epoch 22/50\n",
            "157/157 [==============================] - 5s 35ms/step - loss: 0.0292 - accuracy: 0.9900\n",
            "Epoch 23/50\n",
            "157/157 [==============================] - 6s 35ms/step - loss: 0.0281 - accuracy: 0.9899\n",
            "Epoch 24/50\n",
            "157/157 [==============================] - 6s 35ms/step - loss: 0.0287 - accuracy: 0.9892\n",
            "Epoch 25/50\n",
            "157/157 [==============================] - 5s 35ms/step - loss: 0.0267 - accuracy: 0.9904\n",
            "Epoch 26/50\n",
            "157/157 [==============================] - 6s 35ms/step - loss: 0.0264 - accuracy: 0.9907\n",
            "Epoch 27/50\n",
            "157/157 [==============================] - 6s 36ms/step - loss: 0.0265 - accuracy: 0.9908\n",
            "Epoch 28/50\n",
            "157/157 [==============================] - 6s 36ms/step - loss: 0.0250 - accuracy: 0.9919\n",
            "Epoch 29/50\n",
            "157/157 [==============================] - 5s 35ms/step - loss: 0.0254 - accuracy: 0.9910\n",
            "Epoch 30/50\n",
            "157/157 [==============================] - 5s 35ms/step - loss: 0.0266 - accuracy: 0.9912\n",
            "Epoch 31/50\n",
            "157/157 [==============================] - 6s 35ms/step - loss: 0.0228 - accuracy: 0.9919\n",
            "Epoch 32/50\n",
            "157/157 [==============================] - 6s 35ms/step - loss: 0.0241 - accuracy: 0.9911\n",
            "Epoch 33/50\n",
            "157/157 [==============================] - 5s 34ms/step - loss: 0.0256 - accuracy: 0.9913\n",
            "Epoch 34/50\n",
            "157/157 [==============================] - 5s 35ms/step - loss: 0.0236 - accuracy: 0.9913\n",
            "Epoch 35/50\n",
            "157/157 [==============================] - 5s 35ms/step - loss: 0.0260 - accuracy: 0.9905\n",
            "Epoch 36/50\n",
            "157/157 [==============================] - 5s 34ms/step - loss: 0.0275 - accuracy: 0.9912\n",
            "Epoch 37/50\n",
            "157/157 [==============================] - 5s 35ms/step - loss: 0.0252 - accuracy: 0.9913\n",
            "Epoch 38/50\n",
            "157/157 [==============================] - 5s 35ms/step - loss: 0.0236 - accuracy: 0.9918\n",
            "Epoch 39/50\n",
            "157/157 [==============================] - 5s 35ms/step - loss: 0.0245 - accuracy: 0.9915\n",
            "Epoch 40/50\n",
            "157/157 [==============================] - 5s 34ms/step - loss: 0.0235 - accuracy: 0.9922\n",
            "Epoch 41/50\n",
            "157/157 [==============================] - 5s 35ms/step - loss: 0.0229 - accuracy: 0.9931\n",
            "Epoch 42/50\n",
            "157/157 [==============================] - 5s 34ms/step - loss: 0.0215 - accuracy: 0.9930\n",
            "Epoch 43/50\n",
            "157/157 [==============================] - 6s 35ms/step - loss: 0.0227 - accuracy: 0.9928\n",
            "Epoch 44/50\n",
            "157/157 [==============================] - 5s 35ms/step - loss: 0.0238 - accuracy: 0.9919\n",
            "Epoch 45/50\n",
            "157/157 [==============================] - 5s 35ms/step - loss: 0.0229 - accuracy: 0.9926\n",
            "Epoch 46/50\n",
            "157/157 [==============================] - 6s 35ms/step - loss: 0.0200 - accuracy: 0.9932\n",
            "Epoch 47/50\n",
            "157/157 [==============================] - 6s 35ms/step - loss: 0.0220 - accuracy: 0.9927\n",
            "Epoch 48/50\n",
            "157/157 [==============================] - 6s 35ms/step - loss: 0.0230 - accuracy: 0.9923\n",
            "Epoch 49/50\n",
            "157/157 [==============================] - 6s 35ms/step - loss: 0.0216 - accuracy: 0.9926\n",
            "Epoch 50/50\n",
            "157/157 [==============================] - 5s 35ms/step - loss: 0.0231 - accuracy: 0.9922\n"
          ],
          "name": "stdout"
        }
      ]
    },
    {
      "cell_type": "code",
      "metadata": {
        "colab": {
          "base_uri": "https://localhost:8080/"
        },
        "id": "t6QF05Vn-It6",
        "outputId": "de23ee94-e203-4ae6-b14a-c049d32896e2"
      },
      "source": [
        "score = model.evaluate(X_test, Y_test)\n",
        "print(score)"
      ],
      "id": "t6QF05Vn-It6",
      "execution_count": null,
      "outputs": [
        {
          "output_type": "stream",
          "text": [
            "7/7 [==============================] - 0s 3ms/step - loss: 0.4211 - accuracy: 0.9200\n",
            "[0.4211329221725464, 0.9200000166893005]\n"
          ],
          "name": "stdout"
        }
      ]
    },
    {
      "cell_type": "code",
      "metadata": {
        "colab": {
          "base_uri": "https://localhost:8080/",
          "height": 232
        },
        "id": "ZHNNStVyB7BO",
        "outputId": "59476549-34a1-4e0e-cd80-0a0ab4a0de3b"
      },
      "source": [
        "print(model(X_test[0:1]))\n",
        "plt.imshow(np.reshape(X_test[0:1], (8, 16)))\n",
        "plt.show()"
      ],
      "id": "ZHNNStVyB7BO",
      "execution_count": null,
      "outputs": [
        {
          "output_type": "stream",
          "text": [
            "tf.Tensor([[0.9999007]], shape=(1, 1), dtype=float32)\n"
          ],
          "name": "stdout"
        },
        {
          "output_type": "display_data",
          "data": {
            "image/png": "[encoded data removed]",
            "text/plain": [
              "<Figure size 432x288 with 1 Axes>"
            ]
          },
          "metadata": {
            "tags": [],
            "needs_background": "light"
          }
        }
      ]
    },
    {
      "cell_type": "code",
      "metadata": {
        "colab": {
          "base_uri": "https://localhost:8080/",
          "height": 232
        },
        "id": "x7M9_UmkCDuI",
        "outputId": "a90d6a96-28d3-4178-c006-c706f6aae9bb"
      },
      "source": [
        "print(model(X_test[1:2]))\n",
        "plt.imshow(np.reshape(X_test[1:2], (8, 16)))\n",
        "plt.show()"
      ],
      "id": "x7M9_UmkCDuI",
      "execution_count": null,
      "outputs": [
        {
          "output_type": "stream",
          "text": [
            "tf.Tensor([[5.53452e-10]], shape=(1, 1), dtype=float32)\n"
          ],
          "name": "stdout"
        },
        {
          "output_type": "display_data",
          "data": {
            "image/png": "[encoded data removed]",
            "text/plain": [
              "<Figure size 432x288 with 1 Axes>"
            ]
          },
          "metadata": {
            "tags": [],
            "needs_background": "light"
          }
        }
      ]
    },
    {
      "cell_type": "code",
      "metadata": {
        "colab": {
          "base_uri": "https://localhost:8080/",
          "height": 281
        },
        "id": "fnmE3l6i-PCX",
        "outputId": "b5423604-e67c-47f4-96f1-6a230c315f4f"
      },
      "source": [
        "os.chdir(CURR_RESULT_DIR)\n",
        "\n",
        "model.save('model.h5')\n",
        "\n",
        "fig, ax = plt.subplots(2, 1)\n",
        "ax[0].plot(history.history['loss'])\n",
        "ax[0].set_title('Loss')\n",
        "\n",
        "ax[1].plot(history.history['accuracy'])\n",
        "ax[1].set_title('Acc')\n",
        "\n",
        "plt.savefig('result' + '.png')\n",
        "plt.show()"
      ],
      "id": "fnmE3l6i-PCX",
      "execution_count": null,
      "outputs": [
        {
          "output_type": "display_data",
          "data": {
            "image/png": "[encoded data removed]",
            "text/plain": [
              "<Figure size 432x288 with 2 Axes>"
            ]
          },
          "metadata": {
            "tags": [],
            "needs_background": "light"
          }
        }
      ]
    }
  ]
}