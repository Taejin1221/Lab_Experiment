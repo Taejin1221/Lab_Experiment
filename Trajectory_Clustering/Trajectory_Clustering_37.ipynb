{
 "cells": [
  {
   "cell_type": "markdown",
   "id": "4f560faa-4956-4fba-b929-add66c5750b6",
   "metadata": {},
   "source": [
    "# Load modules and Set constants"
   ]
  },
  {
   "cell_type": "code",
   "execution_count": 1,
   "id": "535ff0e4-903d-42fd-a578-a189fda5fc73",
   "metadata": {},
   "outputs": [],
   "source": [
    "import os, cv2, glob\n",
    "import numpy as np\n",
    "import pandas as pd\n",
    "import pickle as pkl\n",
    "\n",
    "import matplotlib.pyplot as plt"
   ]
  },
  {
   "cell_type": "code",
   "execution_count": 2,
   "id": "af6c1e33-ae07-4cde-b5ee-6d28ed48821c",
   "metadata": {},
   "outputs": [
    {
     "name": "stdout",
     "output_type": "stream",
     "text": [
      "ROOT_DIR:          C:\\GitHub\\Lab_Experiment\\Trajectory_Clustering\n",
      "GEOLIFE_DIR:       C:\\Dataset\\Geolife\n",
      "LOW_DIMENSION_DIR: C:\\Dataset\\Geolife\\Low_Dimension\n",
      "IMAGE_DIR:         C:\\Dataset\\Geolife\\Image_Files\n",
      "RESULT_DIR:        C:\\GitHub\\Lab_Experiment\\Results\n",
      "CURR_RESULT_DIR:   C:\\GitHub\\Lab_Experiment\\Results\\Trajectory_Clusetring_37_09-06-2021_Results\n"
     ]
    }
   ],
   "source": [
    "WIDTH, HEIGHT =256, 256\n",
    "\n",
    "EXPERIMENT_DATA = {\n",
    "    'name' : 'Trajectory_Clusetring',\n",
    "    'number' : '37',\n",
    "    'date' : '09-06-2021',\n",
    "    'description' : 'Compute Mean Squared Error of same groups\\n'\n",
    "    }\n",
    "\n",
    "ROOT_DIR = os.path.join('C:\\\\', 'GitHub', 'Lab_Experiment', 'Trajectory_Clustering')\n",
    "\n",
    "GEOLIFE_DIR = os.path.join('C:\\\\', 'Dataset', 'Geolife')\n",
    "LOW_DIMENSION_DIR = os.path.join(GEOLIFE_DIR, 'Low_Dimension')\n",
    "IMAGE_DIR = os.path.join(GEOLIFE_DIR, 'Image_Files')\n",
    "\n",
    "RESULT_DIR = os.path.join( 'C:\\\\', 'GitHub', 'Lab_Experiment', 'Results')\n",
    "\n",
    "os.chdir(RESULT_DIR)\n",
    "curr_result_name = f\"{EXPERIMENT_DATA['name']}_{EXPERIMENT_DATA['number']}_{EXPERIMENT_DATA['date']}_Results\"\n",
    "if (curr_result_name not in os.listdir()):\n",
    "    os.mkdir(curr_result_name)\n",
    "\n",
    "CURR_RESULT_DIR = os.path.join(RESULT_DIR, curr_result_name)\n",
    "os.chdir(CURR_RESULT_DIR)\n",
    "\n",
    "with open('Description.txt', 'w') as f:\n",
    "    f.write(EXPERIMENT_DATA['description'])\n",
    "\n",
    "print(f'ROOT_DIR:          {ROOT_DIR}')\n",
    "print(f'GEOLIFE_DIR:       {GEOLIFE_DIR}')\n",
    "print(f'LOW_DIMENSION_DIR: {LOW_DIMENSION_DIR}')\n",
    "print(f'IMAGE_DIR:         {IMAGE_DIR}')\n",
    "print(f'RESULT_DIR:        {RESULT_DIR}')\n",
    "print(f'CURR_RESULT_DIR:   {CURR_RESULT_DIR}')"
   ]
  },
  {
   "cell_type": "markdown",
   "id": "9da2c293-b65e-4f92-85b1-20da8e7e7c2b",
   "metadata": {},
   "source": [
    "# Load Data"
   ]
  },
  {
   "cell_type": "code",
   "execution_count": 3,
   "id": "57ee1e91-f359-4168-a0c9-429c94f02e68",
   "metadata": {},
   "outputs": [],
   "source": [
    "os.chdir(IMAGE_DIR)\n",
    "file_names = sorted(glob.glob('*png'))"
   ]
  },
  {
   "cell_type": "code",
   "execution_count": 4,
   "id": "963babd2-d4c1-462a-876a-54ff4b75926e",
   "metadata": {},
   "outputs": [],
   "source": [
    "group1 = set([17333, 8009, 8561, 5894, 13593, 12020, 2311, 3792, 13869, 17068])\n",
    "group2 = set([14586, 9973, 3725, 17410])\n",
    "group3 = set([13948, 15894, 13593, 1433, 7550])\n",
    "\n",
    "groups = [group1, group2, group3]"
   ]
  },
  {
   "cell_type": "code",
   "execution_count": 5,
   "id": "84c5258d-fbf0-49e7-8c95-ac7aabbd11d5",
   "metadata": {},
   "outputs": [],
   "source": [
    "trajectory_images = [ ]\n",
    "for idx, group in enumerate(groups):\n",
    "    trajectory_images.append([])\n",
    "    for file in group:\n",
    "        trajectory_images[idx].append(cv2.imread(file_names[file], cv2.IMREAD_GRAYSCALE))"
   ]
  },
  {
   "cell_type": "code",
   "execution_count": 6,
   "id": "69c3c35d-c3b6-4c53-998c-a188b414f3a7",
   "metadata": {},
   "outputs": [],
   "source": [
    "X_train1 = np.array(trajectory_images[0]).astype('float32') / 255.\n",
    "X_train1 = np.reshape(X_train1, (-1, HEIGHT, WIDTH, 1))\n",
    "\n",
    "X_train2 = np.array(trajectory_images[1]).astype('float32') / 255.\n",
    "X_train2 = np.reshape(X_train2, (-1, HEIGHT, WIDTH, 1))\n",
    "\n",
    "X_train3 = np.array(trajectory_images[2]).astype('float32') / 255.\n",
    "X_train3 = np.reshape(X_train3, (-1, HEIGHT, WIDTH, 1))"
   ]
  },
  {
   "cell_type": "markdown",
   "id": "863539bc-56b1-4575-a382-5dbd0aef863b",
   "metadata": {},
   "source": [
    "# Load Models"
   ]
  },
  {
   "cell_type": "code",
   "execution_count": 7,
   "id": "473f7c0f-66e0-4fcb-aa94-6d5cc0f582bf",
   "metadata": {},
   "outputs": [],
   "source": [
    "import tensorflow as tf\n",
    "from tensorflow import keras"
   ]
  },
  {
   "cell_type": "code",
   "execution_count": 8,
   "id": "ee936b5f-8ea6-48b4-b14d-c9613f745f70",
   "metadata": {},
   "outputs": [
    {
     "name": "stdout",
     "output_type": "stream",
     "text": [
      "WARNING:tensorflow:No training configuration found in the save file, so the model was *not* compiled. Compile it manually.\n"
     ]
    }
   ],
   "source": [
    "os.chdir(os.path.join(ROOT_DIR, 'Models', 'Crop_Img'))\n",
    "encoder = keras.models.load_model('encoder.h5')\n",
    "# decoder =  keras.models.load_model('decoder.h5')\n",
    "auto_encoder = keras.models.load_model('auto_encoder.h5')"
   ]
  },
  {
   "cell_type": "markdown",
   "id": "ca9a13f2-d1a7-486c-ab5c-0f5430366f82",
   "metadata": {},
   "source": [
    "# Get similar data"
   ]
  },
  {
   "cell_type": "code",
   "execution_count": 12,
   "id": "6a7d8510-0f81-4872-a806-1eda02426ce6",
   "metadata": {},
   "outputs": [
    {
     "data": {
      "image/png": "[encoded data removed]",
      "text/plain": [
       "<Figure size 432x288 with 1 Axes>"
      ]
     },
     "metadata": {
      "needs_background": "light"
     },
     "output_type": "display_data"
    }
   ],
   "source": [
    "os.chdir(CURR_RESULT_DIR)\n",
    "\n",
    "plt.gray()\n",
    "plt.imshow(trajectory_images[0][0])\n",
    "plt.savefig('First_Image.png', dpi = 100)\n",
    "plt.show()"
   ]
  },
  {
   "cell_type": "code",
   "execution_count": 15,
   "id": "300b7601-f274-407b-99b0-59463664b975",
   "metadata": {},
   "outputs": [],
   "source": [
    "def load_low_dimension_data(dir_name: str) -> list:\n",
    "    low_dimension = []\n",
    "\n",
    "    os.chdir(os.path.join(LOW_DIMENSION_DIR, dir_name))\n",
    "    for data in sorted(glob.glob('*data')):\n",
    "        with open(data, 'rb') as f:\n",
    "             low_dimension.append(pkl.load(f))\n",
    "                \n",
    "    return np.array(low_dimension)"
   ]
  },
  {
   "cell_type": "code",
   "execution_count": 41,
   "id": "d71b0c88-b934-46ca-9d3b-1d784e7f9407",
   "metadata": {},
   "outputs": [],
   "source": [
    "from scipy.spatial import distance\n",
    "\n",
    "def get_MSE(list1: np.array, list2: np.array) -> float:\n",
    "    similarities = [ ]\n",
    "    for low_dim1, low_dim2 in zip(list1, list2):\n",
    "        similarities.append(distance.cosine(low_dim1, low_dim2))\n",
    "\n",
    "    return np.square(sum(similarities)) / len(similarities)"
   ]
  },
  {
   "cell_type": "code",
   "execution_count": 17,
   "id": "aace0a64-d83b-48f0-8bf3-09d86ec511eb",
   "metadata": {},
   "outputs": [
    {
     "name": "stdout",
     "output_type": "stream",
     "text": [
      "Index(['ImageNumber', ' LowDimNumber'], dtype='object')\n"
     ]
    },
    {
     "data": {
      "text/html": [
       "<div>\n",
       "<style scoped>\n",
       "    .dataframe tbody tr th:only-of-type {\n",
       "        vertical-align: middle;\n",
       "    }\n",
       "\n",
       "    .dataframe tbody tr th {\n",
       "        vertical-align: top;\n",
       "    }\n",
       "\n",
       "    .dataframe thead th {\n",
       "        text-align: right;\n",
       "    }\n",
       "</style>\n",
       "<table border=\"1\" class=\"dataframe\">\n",
       "  <thead>\n",
       "    <tr style=\"text-align: right;\">\n",
       "      <th></th>\n",
       "      <th>ImageNumber</th>\n",
       "      <th>LowDimNumber</th>\n",
       "    </tr>\n",
       "  </thead>\n",
       "  <tbody>\n",
       "    <tr>\n",
       "      <th>0</th>\n",
       "      <td>1</td>\n",
       "      <td>0</td>\n",
       "    </tr>\n",
       "    <tr>\n",
       "      <th>1</th>\n",
       "      <td>10</td>\n",
       "      <td>64</td>\n",
       "    </tr>\n",
       "    <tr>\n",
       "      <th>2</th>\n",
       "      <td>100</td>\n",
       "      <td>128</td>\n",
       "    </tr>\n",
       "    <tr>\n",
       "      <th>3</th>\n",
       "      <td>1000</td>\n",
       "      <td>192</td>\n",
       "    </tr>\n",
       "    <tr>\n",
       "      <th>4</th>\n",
       "      <td>10000</td>\n",
       "      <td>256</td>\n",
       "    </tr>\n",
       "  </tbody>\n",
       "</table>\n",
       "</div>"
      ],
      "text/plain": [
       "   ImageNumber   LowDimNumber\n",
       "0            1              0\n",
       "1           10             64\n",
       "2          100            128\n",
       "3         1000            192\n",
       "4        10000            256"
      ]
     },
     "execution_count": 17,
     "metadata": {},
     "output_type": "execute_result"
    }
   ],
   "source": [
    "map_table = pd.read_csv(GEOLIFE_DIR + '\\Map_Table.csv', header = 0)\n",
    "print(map_table.keys())\n",
    "map_table.head()"
   ]
  },
  {
   "cell_type": "code",
   "execution_count": 36,
   "id": "24483cf3-aee0-487c-90c3-de9266cf46a3",
   "metadata": {},
   "outputs": [],
   "source": [
    "def match_image_to_lowDim(img_name: str) -> int:\n",
    "    front = int(img_name.split('.')[0][len('Geolife_trajectory'):])\n",
    "    \n",
    "    return str(map_table[map_table['ImageNumber'] == front].iloc[0][' LowDimNumber'])"
   ]
  },
  {
   "cell_type": "code",
   "execution_count": 48,
   "id": "bc6837a7-3aa8-4ee6-b3df-3d16acc42e9c",
   "metadata": {},
   "outputs": [
    {
     "name": "stdout",
     "output_type": "stream",
     "text": [
      "[[0.0, 0.4732642954583801, 0.4556793123277034, 0.9341172797131492, 0.6429010624594975, 0.3970917991255268, 0.6531133482896259, 0.5960843277745402, 0.2058625310728479, 0.408583614698955], [0.4732642954583801, 0.0, 0.623144331991913, 0.926282476633205, 0.730005028057267, 0.5219808156399728, 0.6764575903091163, 0.6815078506643362, 0.467019416155795, 0.6229943875527519], [0.4556793123277034, 0.623144331991913, 0.0, 1.126012867502466, 0.8946819473459853, 0.6466567674999704, 0.744801840646248, 0.6232404503611826, 0.6968416146253651, 0.5794756265375778], [0.9341172797131492, 0.926282476633205, 1.126012867502466, 0.0, 1.0490277626375026, 0.6003132313605675, 0.8876758601366732, 0.9736439923381477, 0.919969868594672, 1.1337508250193198], [0.6429010624594975, 0.730005028057267, 0.8946819473459853, 1.0490277626375026, 0.0, 0.6638148443410208, 0.7309179144739666, 0.7983619688595422, 0.717053898502003, 0.8374637020265601], [0.3970917991255268, 0.5219808156399728, 0.6466567674999704, 0.6003132313605675, 0.6638148443410208, 0.0, 0.507524997434107, 0.554001090203017, 0.5152177674188521, 0.664806453666281], [0.6531133482896259, 0.6764575903091163, 0.744801840646248, 0.8876758601366732, 0.7309179144739666, 0.507524997434107, 0.0, 0.5701143580436012, 0.788836334167347, 0.8543021727842659], [0.5960843277745402, 0.6815078506643362, 0.6232404503611826, 0.9736439923381477, 0.7983619688595422, 0.554001090203017, 0.5701143580436012, 0.0, 0.7423499451527218, 0.7190634593440617], [0.2058625310728479, 0.467019416155795, 0.6968416146253651, 0.919969868594672, 0.717053898502003, 0.5152177674188521, 0.788836334167347, 0.7423499451527218, 0.0, 0.45188200106619636], [0.408583614698955, 0.6229943875527519, 0.5794756265375778, 1.1337508250193198, 0.8374637020265601, 0.664806453666281, 0.8543021727842659, 0.7190634593440617, 0.45188200106619636, 0.0]]\n"
     ]
    }
   ],
   "source": [
    "similar_images = []\n",
    "for idx, i in enumerate(group1):\n",
    "    img_name = file_names[i]\n",
    "    base_low_dimension = load_low_dimension_data(match_image_to_lowDim(img_name) + 'th data')\n",
    "\n",
    "    similar_images.append([])    \n",
    "    for j in group1:\n",
    "        img_name = file_names[j]\n",
    "        lowDim_name = match_image_to_lowDim(img_name)\n",
    "\n",
    "        curr_low_dimension = load_low_dimension_data(lowDim_name + 'th data')\n",
    "\n",
    "        similar_images[idx].append(get_MSE(base_low_dimension, curr_low_dimension))\n",
    "\n",
    "print(similar_images)\n",
    "\n",
    "os.chdir(CURR_RESULT_DIR)\n",
    "with open('MSE_of_Group1.txt', 'wt') as f:\n",
    "    for i in range(len(similar_images)):\n",
    "        for j in range(len(similar_images[i])):\n",
    "            f.write(f'{similar_images[i][j]:.3f}, ')\n",
    "        f.write('\\n')"
   ]
  },
  {
   "cell_type": "code",
   "execution_count": 49,
   "id": "a65c3d4a-743e-4c83-9adf-a5c6823abb3f",
   "metadata": {},
   "outputs": [
    {
     "name": "stdout",
     "output_type": "stream",
     "text": [
      "[[0.0, 1.1284260701742719, 0.8667217986172782, 1.1196876683452053], [1.1284260701742719, 0.0, 0.6488950683518846, 0.811015182628696], [0.8667217986172782, 0.6488950683518846, 0.0, 0.5550805042165345], [1.1196876683452053, 0.811015182628696, 0.5550805042165345, 0.0]]\n"
     ]
    }
   ],
   "source": [
    "similar_images = []\n",
    "for idx, i in enumerate(group2):\n",
    "    img_name = file_names[i]\n",
    "    base_low_dimension = load_low_dimension_data(match_image_to_lowDim(img_name) + 'th data')\n",
    "\n",
    "    similar_images.append([])    \n",
    "    for j in group2:\n",
    "        img_name = file_names[j]\n",
    "        lowDim_name = match_image_to_lowDim(img_name)\n",
    "\n",
    "        curr_low_dimension = load_low_dimension_data(lowDim_name + 'th data')\n",
    "\n",
    "        similar_images[idx].append(get_MSE(base_low_dimension, curr_low_dimension))\n",
    "\n",
    "print(similar_images)\n",
    "\n",
    "os.chdir(CURR_RESULT_DIR)\n",
    "with open('MSE_of_Group2.txt', 'wt') as f:\n",
    "    for i in range(len(similar_images)):\n",
    "        for j in range(len(similar_images[i])):\n",
    "            f.write(f'{similar_images[i][j]:.3f}, ')\n",
    "        f.write('\\n')"
   ]
  },
  {
   "cell_type": "code",
   "execution_count": 50,
   "id": "660254a7-0519-4eca-9e88-61e25c26c718",
   "metadata": {},
   "outputs": [
    {
     "name": "stdout",
     "output_type": "stream",
     "text": [
      "[[0.0, 0.5019183102805025, 0.4603675433551837, 0.5431205199596723, 0.21518864516295638], [0.5019183102805025, 0.0, 0.6577134783193341, 0.5971416031733432, 0.4186815036906266], [0.4603675433551837, 0.6577134783193341, 0.0, 0.7549168819946885, 0.4418836209269097], [0.5431205199596723, 0.5971416031733432, 0.7549168819946885, 0.0, 0.31021524091805747], [0.21518864516295638, 0.4186815036906266, 0.4418836209269097, 0.31021524091805747, 0.0]]\n"
     ]
    }
   ],
   "source": [
    "similar_images = []\n",
    "for idx, i in enumerate(group3):\n",
    "    img_name = file_names[i]\n",
    "    base_low_dimension = load_low_dimension_data(match_image_to_lowDim(img_name) + 'th data')\n",
    "\n",
    "    similar_images.append([])    \n",
    "    for j in group3:\n",
    "        img_name = file_names[j]\n",
    "        lowDim_name = match_image_to_lowDim(img_name)\n",
    "\n",
    "        curr_low_dimension = load_low_dimension_data(lowDim_name + 'th data')\n",
    "\n",
    "        similar_images[idx].append(get_MSE(base_low_dimension, curr_low_dimension))\n",
    "\n",
    "print(similar_images)\n",
    "\n",
    "os.chdir(CURR_RESULT_DIR)\n",
    "with open('MSE_of_Group3.txt', 'wt') as f:\n",
    "    for i in range(len(similar_images)):\n",
    "        for j in range(len(similar_images[i])):\n",
    "            f.write(f'{similar_images[i][j]:.3f}, ')\n",
    "        f.write('\\n')"
   ]
  }
 ],
 "metadata": {
  "kernelspec": {
   "display_name": "Python 3",
   "language": "python",
   "name": "python3"
  },
  "language_info": {
   "codemirror_mode": {
    "name": "ipython",
    "version": 3
   },
   "file_extension": ".py",
   "mimetype": "text/x-python",
   "name": "python",
   "nbconvert_exporter": "python",
   "pygments_lexer": "ipython3",
   "version": "3.8.8"
  }
 },
 "nbformat": 4,
 "nbformat_minor": 5
}
