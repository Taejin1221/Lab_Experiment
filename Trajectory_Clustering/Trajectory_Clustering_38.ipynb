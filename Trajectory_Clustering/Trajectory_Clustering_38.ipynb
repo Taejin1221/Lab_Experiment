{
 "cells": [
  {
   "cell_type": "markdown",
   "id": "4f560faa-4956-4fba-b929-add66c5750b6",
   "metadata": {},
   "source": [
    "# Load modules and Set constants"
   ]
  },
  {
   "cell_type": "code",
   "execution_count": 1,
   "id": "535ff0e4-903d-42fd-a578-a189fda5fc73",
   "metadata": {},
   "outputs": [],
   "source": [
    "import os, cv2, glob\n",
    "import numpy as np\n",
    "import pandas as pd\n",
    "import pickle as pkl\n",
    "\n",
    "import matplotlib.pyplot as plt"
   ]
  },
  {
   "cell_type": "code",
   "execution_count": 2,
   "id": "af6c1e33-ae07-4cde-b5ee-6d28ed48821c",
   "metadata": {},
   "outputs": [
    {
     "name": "stdout",
     "output_type": "stream",
     "text": [
      "ROOT_DIR:          C:\\GitHub\\Lab_Experiment\\Trajectory_Clustering\n",
      "GEOLIFE_DIR:       C:\\Dataset\\Geolife\n",
      "LOW_DIMENSION_DIR: C:\\Dataset\\Geolife\\Low_Dimension\n",
      "IMAGE_DIR:         C:\\Dataset\\Geolife\\Image_Files\n",
      "RESULT_DIR:        C:\\GitHub\\Lab_Experiment\\Results\n",
      "CURR_RESULT_DIR:   C:\\GitHub\\Lab_Experiment\\Results\\Trajectory_Clusetring_38_09-06-2021_Results\n"
     ]
    }
   ],
   "source": [
    "WIDTH, HEIGHT =256, 256\n",
    "\n",
    "EXPERIMENT_DATA = {\n",
    "    'name' : 'Trajectory_Clusetring',\n",
    "    'number' : '38',\n",
    "    'date' : '09-06-2021',\n",
    "    'description' : 'Compare previous MSE values with current MSE values'\n",
    "    }\n",
    "\n",
    "ROOT_DIR = os.path.join('C:\\\\', 'GitHub', 'Lab_Experiment', 'Trajectory_Clustering')\n",
    "\n",
    "GEOLIFE_DIR = os.path.join('C:\\\\', 'Dataset', 'Geolife')\n",
    "LOW_DIMENSION_DIR = os.path.join(GEOLIFE_DIR, 'Low_Dimension')\n",
    "IMAGE_DIR = os.path.join(GEOLIFE_DIR, 'Image_Files')\n",
    "\n",
    "RESULT_DIR = os.path.join( 'C:\\\\', 'GitHub', 'Lab_Experiment', 'Results')\n",
    "\n",
    "os.chdir(RESULT_DIR)\n",
    "curr_result_name = f\"{EXPERIMENT_DATA['name']}_{EXPERIMENT_DATA['number']}_{EXPERIMENT_DATA['date']}_Results\"\n",
    "if (curr_result_name not in os.listdir()):\n",
    "    os.mkdir(curr_result_name)\n",
    "\n",
    "CURR_RESULT_DIR = os.path.join(RESULT_DIR, curr_result_name)\n",
    "os.chdir(CURR_RESULT_DIR)\n",
    "\n",
    "with open('Description.txt', 'w') as f:\n",
    "    f.write(EXPERIMENT_DATA['description'])\n",
    "\n",
    "print(f'ROOT_DIR:          {ROOT_DIR}')\n",
    "print(f'GEOLIFE_DIR:       {GEOLIFE_DIR}')\n",
    "print(f'LOW_DIMENSION_DIR: {LOW_DIMENSION_DIR}')\n",
    "print(f'IMAGE_DIR:         {IMAGE_DIR}')\n",
    "print(f'RESULT_DIR:        {RESULT_DIR}')\n",
    "print(f'CURR_RESULT_DIR:   {CURR_RESULT_DIR}')"
   ]
  },
  {
   "cell_type": "markdown",
   "id": "bf66b920-c074-4437-b76c-6b5356273ead",
   "metadata": {},
   "source": [
    "# Check"
   ]
  },
  {
   "cell_type": "code",
   "execution_count": 8,
   "id": "6dd310ee-5124-4cd3-aaca-4b04aa855c2b",
   "metadata": {},
   "outputs": [
    {
     "name": "stdout",
     "output_type": "stream",
     "text": [
      "<map object at 0x000001938E8B3C10>\n",
      "['0.000', '0.473', '0.456', '0.934', '0.643', '0.397', '0.653', '0.596', '0.206', '0.409']\n"
     ]
    }
   ],
   "source": [
    "with open(f'MSE_of_Group{i}.txt', 'rt') as f:\n",
    "    values = f.readline().split(', ')[:-1]\n",
    "    print(map(float, values))\n",
    "    print(values)"
   ]
  },
  {
   "cell_type": "code",
   "execution_count": 9,
   "id": "506f88ac-a648-40ae-a1ac-bc2c52d94af9",
   "metadata": {},
   "outputs": [
    {
     "name": "stdout",
     "output_type": "stream",
     "text": [
      "[0.4767, 0.77875, 0.344]\n"
     ]
    }
   ],
   "source": [
    "os.chdir(CURR_RESULT_DIR)\n",
    "\n",
    "groups_average = []\n",
    "for i in range(1, 4):\n",
    "    with open(f'MSE_of_Group{i}.txt', 'rt') as f:\n",
    "        values = f.readline().split(', ')[:-1]\n",
    "        list1 = list(map(float, values))\n",
    "        groups_average.append(sum(list1) / len(list1))\n",
    "\n",
    "print(groups_average)"
   ]
  },
  {
   "cell_type": "code",
   "execution_count": 10,
   "id": "56018a9b-1ee6-4a9c-aa2a-cdafe04de973",
   "metadata": {},
   "outputs": [
    {
     "name": "stdout",
     "output_type": "stream",
     "text": [
      "0.5673744324027826\n"
     ]
    }
   ],
   "source": [
    "df = pd.read_csv('MSE_RESULT_0.01.csv', header = 0)\n",
    "\n",
    "print(df['MSE'].mean())"
   ]
  },
  {
   "cell_type": "code",
   "execution_count": 11,
   "id": "6690c828-16b3-43af-b56b-a7867ab0fd3d",
   "metadata": {},
   "outputs": [
    {
     "name": "stdout",
     "output_type": "stream",
     "text": [
      "0.5748486975895107\n"
     ]
    }
   ],
   "source": [
    "df = pd.read_csv('MSE_RESULT_0.005.csv', header = 0)\n",
    "\n",
    "print(df['MSE'].mean())"
   ]
  }
 ],
 "metadata": {
  "kernelspec": {
   "display_name": "Python 3",
   "language": "python",
   "name": "python3"
  },
  "language_info": {
   "codemirror_mode": {
    "name": "ipython",
    "version": 3
   },
   "file_extension": ".py",
   "mimetype": "text/x-python",
   "name": "python",
   "nbconvert_exporter": "python",
   "pygments_lexer": "ipython3",
   "version": "3.8.8"
  }
 },
 "nbformat": 4,
 "nbformat_minor": 5
}
