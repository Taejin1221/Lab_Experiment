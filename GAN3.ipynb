{
  "nbformat": 4,
  "nbformat_minor": 0,
  "metadata": {
    "colab": {
      "name": "GAN.ipynb",
      "provenance": [],
      "collapsed_sections": [],
      "toc_visible": true,
      "mount_file_id": "198tNlaQSPc1fM1Lkt96_MCOlLiP09_SY",
      "authorship_tag": "ABX9TyM/s3LM5qEXRSD2Ir5nHoma",
      "include_colab_link": true
    },
    "kernelspec": {
      "name": "python3",
      "display_name": "Python 3"
    },
    "accelerator": "GPU"
  },
  "cells": [
    {
      "cell_type": "markdown",
      "metadata": {
        "id": "view-in-github",
        "colab_type": "text"
      },
      "source": [
        "<a href=\"https://colab.research.google.com/github/Taejin1221/Lab_Experiment/blob/main/GAN3.ipynb\" target=\"_parent\"><img src=\"https://colab.research.google.com/assets/colab-badge.svg\" alt=\"Open In Colab\"/></a>"
      ]
    },
    {
      "cell_type": "markdown",
      "metadata": {
        "id": "2ir0MzpcMsuH"
      },
      "source": [
        "# Import Modules"
      ]
    },
    {
      "cell_type": "code",
      "metadata": {
        "id": "C8ArzIVRLo_5"
      },
      "source": [
        "import glob, time, cv2, os\n",
        "import numpy as np\n",
        "from IPython import display\n",
        "import matplotlib.pyplot as plt"
      ],
      "execution_count": null,
      "outputs": []
    },
    {
      "cell_type": "code",
      "metadata": {
        "id": "gzcOKcYOBJMq"
      },
      "source": [
        "CURR_DIR = '/content'\n",
        "\n",
        "X_DATA_DIR =  'train_x_data'\n",
        "Y_DATA_DIR = 'train_y_data'\n",
        "TEST_DIR = 'test_data'\n",
        "\n",
        "DRIVE_DIR = 'drive/MyDrive'\n",
        "RESULT_DIR = 'Results'"
      ],
      "execution_count": null,
      "outputs": []
    },
    {
      "cell_type": "code",
      "metadata": {
        "id": "IOGio1_EBKL3"
      },
      "source": [
        "IMG_SIZE = 256"
      ],
      "execution_count": null,
      "outputs": []
    },
    {
      "cell_type": "markdown",
      "metadata": {
        "id": "1KjYfu9MMih-"
      },
      "source": [
        "# Make Data"
      ]
    },
    {
      "cell_type": "code",
      "metadata": {
        "id": "4EPR2-XV7NGg"
      },
      "source": [
        "x_data = np.linspace( -10, 10, 50 )\n",
        "\n",
        "y_data1 = x_data\n",
        "y_data2 = x_data ** 2\n",
        "y_data3 = x_data ** 3 \n",
        "\n",
        "Y_data = [ y_data1, y_data2, y_data3 ]"
      ],
      "execution_count": null,
      "outputs": []
    },
    {
      "cell_type": "code",
      "metadata": {
        "id": "7cGIJqsmIWlL"
      },
      "source": [
        "file_list = os.listdir(  )\n",
        "\n",
        "if ( X_DATA_DIR not in file_list ):\n",
        "    os.mkdir( X_DATA_DIR )\n",
        "\n",
        "if ( Y_DATA_DIR not in file_list ):\n",
        "    os.mkdir( Y_DATA_DIR )\n",
        "\n",
        "if ( TEST_DIR not in file_list ):\n",
        "    os.mkdir( TEST_DIR )"
      ],
      "execution_count": null,
      "outputs": []
    },
    {
      "cell_type": "code",
      "metadata": {
        "id": "xHgpwaaYmx2a"
      },
      "source": [
        "X_DATA_DIR = os.path.join( CURR_DIR, X_DATA_DIR )\r\n",
        "Y_DATA_DIR = os.path.join( CURR_DIR, Y_DATA_DIR )\r\n",
        "TEST_DIR = os.path.join( CURR_DIR, TEST_DIR )"
      ],
      "execution_count": null,
      "outputs": []
    },
    {
      "cell_type": "code",
      "metadata": {
        "id": "JOBgcczT7PgW",
        "colab": {
          "base_uri": "https://localhost:8080/",
          "height": 757
        },
        "outputId": "61898d17-206e-4d5d-90a7-e0a2a94629bb"
      },
      "source": [
        "n = len( Y_data ) * 10\n",
        "\n",
        "figSize = ( IMG_SIZE / 100, IMG_SIZE / 100 )\n",
        "\n",
        "os.chdir( X_DATA_DIR )\n",
        "for i in range( n ):\n",
        "    plt.figure( figsize = figSize, dpi = 100 )\n",
        "\n",
        "    plt.plot( x_data, Y_data[i // 10], 'k.' )\n",
        "    plt.axis( [ -10, 10, -50, 50 ] )\n",
        "    plt.axis( 'off' )\n",
        "\n",
        "    fileName = '0' + str( i ) if i < 10 else i\n",
        "    plt.savefig( f'graph_x_{ fileName }.png'  )\n",
        "    plt.clf()\n",
        "    plt.close()\n",
        "\n",
        "os.chdir( Y_DATA_DIR )\n",
        "for i in range( n ):\n",
        "    plt.figure( figsize = figSize, dpi = 100 )\n",
        "\n",
        "    plt.plot( x_data, Y_data[i // 10], 'k-' )\n",
        "    plt.axis( [ -10, 10, -50, 50 ] )\n",
        "    plt.axis( 'off' )\n",
        "\n",
        "    fileName = '0' + str( i ) if i < 10 else i\n",
        "    plt.savefig( f'graph_y_{ fileName }.png'  )\n",
        "    plt.clf()\n",
        "    plt.close"
      ],
      "execution_count": null,
      "outputs": [
        {
          "output_type": "stream",
          "text": [
            "/usr/local/lib/python3.6/dist-packages/ipykernel_launcher.py:20: RuntimeWarning: More than 20 figures have been opened. Figures created through the pyplot interface (`matplotlib.pyplot.figure`) are retained until explicitly closed and may consume too much memory. (To control this warning, see the rcParam `figure.max_open_warning`).\n",
            "/usr/local/lib/python3.6/dist-packages/ipykernel_launcher.py:20: RuntimeWarning: More than 20 figures have been opened. Figures created through the pyplot interface (`matplotlib.pyplot.figure`) are retained until explicitly closed and may consume too much memory. (To control this warning, see the rcParam `figure.max_open_warning`).\n",
            "/usr/local/lib/python3.6/dist-packages/ipykernel_launcher.py:20: RuntimeWarning: More than 20 figures have been opened. Figures created through the pyplot interface (`matplotlib.pyplot.figure`) are retained until explicitly closed and may consume too much memory. (To control this warning, see the rcParam `figure.max_open_warning`).\n",
            "/usr/local/lib/python3.6/dist-packages/ipykernel_launcher.py:20: RuntimeWarning: More than 20 figures have been opened. Figures created through the pyplot interface (`matplotlib.pyplot.figure`) are retained until explicitly closed and may consume too much memory. (To control this warning, see the rcParam `figure.max_open_warning`).\n",
            "/usr/local/lib/python3.6/dist-packages/ipykernel_launcher.py:20: RuntimeWarning: More than 20 figures have been opened. Figures created through the pyplot interface (`matplotlib.pyplot.figure`) are retained until explicitly closed and may consume too much memory. (To control this warning, see the rcParam `figure.max_open_warning`).\n",
            "/usr/local/lib/python3.6/dist-packages/ipykernel_launcher.py:20: RuntimeWarning: More than 20 figures have been opened. Figures created through the pyplot interface (`matplotlib.pyplot.figure`) are retained until explicitly closed and may consume too much memory. (To control this warning, see the rcParam `figure.max_open_warning`).\n",
            "/usr/local/lib/python3.6/dist-packages/ipykernel_launcher.py:20: RuntimeWarning: More than 20 figures have been opened. Figures created through the pyplot interface (`matplotlib.pyplot.figure`) are retained until explicitly closed and may consume too much memory. (To control this warning, see the rcParam `figure.max_open_warning`).\n",
            "/usr/local/lib/python3.6/dist-packages/ipykernel_launcher.py:20: RuntimeWarning: More than 20 figures have been opened. Figures created through the pyplot interface (`matplotlib.pyplot.figure`) are retained until explicitly closed and may consume too much memory. (To control this warning, see the rcParam `figure.max_open_warning`).\n",
            "/usr/local/lib/python3.6/dist-packages/ipykernel_launcher.py:20: RuntimeWarning: More than 20 figures have been opened. Figures created through the pyplot interface (`matplotlib.pyplot.figure`) are retained until explicitly closed and may consume too much memory. (To control this warning, see the rcParam `figure.max_open_warning`).\n",
            "/usr/local/lib/python3.6/dist-packages/ipykernel_launcher.py:20: RuntimeWarning: More than 20 figures have been opened. Figures created through the pyplot interface (`matplotlib.pyplot.figure`) are retained until explicitly closed and may consume too much memory. (To control this warning, see the rcParam `figure.max_open_warning`).\n"
          ],
          "name": "stderr"
        },
        {
          "output_type": "display_data",
          "data": {
            "text/plain": [
              "<Figure size 256x256 with 0 Axes>"
            ]
          },
          "metadata": {
            "tags": []
          }
        },
        {
          "output_type": "display_data",
          "data": {
            "text/plain": [
              "<Figure size 256x256 with 0 Axes>"
            ]
          },
          "metadata": {
            "tags": []
          }
        },
        {
          "output_type": "display_data",
          "data": {
            "text/plain": [
              "<Figure size 256x256 with 0 Axes>"
            ]
          },
          "metadata": {
            "tags": []
          }
        },
        {
          "output_type": "display_data",
          "data": {
            "text/plain": [
              "<Figure size 256x256 with 0 Axes>"
            ]
          },
          "metadata": {
            "tags": []
          }
        },
        {
          "output_type": "display_data",
          "data": {
            "text/plain": [
              "<Figure size 256x256 with 0 Axes>"
            ]
          },
          "metadata": {
            "tags": []
          }
        },
        {
          "output_type": "display_data",
          "data": {
            "text/plain": [
              "<Figure size 256x256 with 0 Axes>"
            ]
          },
          "metadata": {
            "tags": []
          }
        },
        {
          "output_type": "display_data",
          "data": {
            "text/plain": [
              "<Figure size 256x256 with 0 Axes>"
            ]
          },
          "metadata": {
            "tags": []
          }
        },
        {
          "output_type": "display_data",
          "data": {
            "text/plain": [
              "<Figure size 256x256 with 0 Axes>"
            ]
          },
          "metadata": {
            "tags": []
          }
        },
        {
          "output_type": "display_data",
          "data": {
            "text/plain": [
              "<Figure size 256x256 with 0 Axes>"
            ]
          },
          "metadata": {
            "tags": []
          }
        },
        {
          "output_type": "display_data",
          "data": {
            "text/plain": [
              "<Figure size 256x256 with 0 Axes>"
            ]
          },
          "metadata": {
            "tags": []
          }
        },
        {
          "output_type": "display_data",
          "data": {
            "text/plain": [
              "<Figure size 256x256 with 0 Axes>"
            ]
          },
          "metadata": {
            "tags": []
          }
        },
        {
          "output_type": "display_data",
          "data": {
            "text/plain": [
              "<Figure size 256x256 with 0 Axes>"
            ]
          },
          "metadata": {
            "tags": []
          }
        },
        {
          "output_type": "display_data",
          "data": {
            "text/plain": [
              "<Figure size 256x256 with 0 Axes>"
            ]
          },
          "metadata": {
            "tags": []
          }
        },
        {
          "output_type": "display_data",
          "data": {
            "text/plain": [
              "<Figure size 256x256 with 0 Axes>"
            ]
          },
          "metadata": {
            "tags": []
          }
        },
        {
          "output_type": "display_data",
          "data": {
            "text/plain": [
              "<Figure size 256x256 with 0 Axes>"
            ]
          },
          "metadata": {
            "tags": []
          }
        },
        {
          "output_type": "display_data",
          "data": {
            "text/plain": [
              "<Figure size 256x256 with 0 Axes>"
            ]
          },
          "metadata": {
            "tags": []
          }
        },
        {
          "output_type": "display_data",
          "data": {
            "text/plain": [
              "<Figure size 256x256 with 0 Axes>"
            ]
          },
          "metadata": {
            "tags": []
          }
        },
        {
          "output_type": "display_data",
          "data": {
            "text/plain": [
              "<Figure size 256x256 with 0 Axes>"
            ]
          },
          "metadata": {
            "tags": []
          }
        },
        {
          "output_type": "display_data",
          "data": {
            "text/plain": [
              "<Figure size 256x256 with 0 Axes>"
            ]
          },
          "metadata": {
            "tags": []
          }
        },
        {
          "output_type": "display_data",
          "data": {
            "text/plain": [
              "<Figure size 256x256 with 0 Axes>"
            ]
          },
          "metadata": {
            "tags": []
          }
        },
        {
          "output_type": "display_data",
          "data": {
            "text/plain": [
              "<Figure size 256x256 with 0 Axes>"
            ]
          },
          "metadata": {
            "tags": []
          }
        },
        {
          "output_type": "display_data",
          "data": {
            "text/plain": [
              "<Figure size 256x256 with 0 Axes>"
            ]
          },
          "metadata": {
            "tags": []
          }
        },
        {
          "output_type": "display_data",
          "data": {
            "text/plain": [
              "<Figure size 256x256 with 0 Axes>"
            ]
          },
          "metadata": {
            "tags": []
          }
        },
        {
          "output_type": "display_data",
          "data": {
            "text/plain": [
              "<Figure size 256x256 with 0 Axes>"
            ]
          },
          "metadata": {
            "tags": []
          }
        },
        {
          "output_type": "display_data",
          "data": {
            "text/plain": [
              "<Figure size 256x256 with 0 Axes>"
            ]
          },
          "metadata": {
            "tags": []
          }
        },
        {
          "output_type": "display_data",
          "data": {
            "text/plain": [
              "<Figure size 256x256 with 0 Axes>"
            ]
          },
          "metadata": {
            "tags": []
          }
        },
        {
          "output_type": "display_data",
          "data": {
            "text/plain": [
              "<Figure size 256x256 with 0 Axes>"
            ]
          },
          "metadata": {
            "tags": []
          }
        },
        {
          "output_type": "display_data",
          "data": {
            "text/plain": [
              "<Figure size 256x256 with 0 Axes>"
            ]
          },
          "metadata": {
            "tags": []
          }
        },
        {
          "output_type": "display_data",
          "data": {
            "text/plain": [
              "<Figure size 256x256 with 0 Axes>"
            ]
          },
          "metadata": {
            "tags": []
          }
        },
        {
          "output_type": "display_data",
          "data": {
            "text/plain": [
              "<Figure size 256x256 with 0 Axes>"
            ]
          },
          "metadata": {
            "tags": []
          }
        }
      ]
    },
    {
      "cell_type": "code",
      "metadata": {
        "id": "nCaLyVaZ7Ri6",
        "colab": {
          "base_uri": "https://localhost:8080/",
          "height": 71
        },
        "outputId": "80186c97-088d-4f3f-a14a-dea46dfa84ee"
      },
      "source": [
        "dataSize = len( x_data )\n",
        "os.chdir( TEST_DIR )\n",
        "\n",
        "plt.figure( figsize = figSize, dpi = 100 )\n",
        "\n",
        "plt.plot( [ -2, 0, 2 ], [ -2, 0, 2 ], 'k.' )\n",
        "plt.axis( [ -10, 10, -50, 50 ] )\n",
        "plt.axis( 'off' )\n",
        "\n",
        "plt.savefig( f'graph_test_0.png'  )\n",
        "plt.clf()\n",
        "\n",
        "\n",
        "plt.figure( figsize = figSize, dpi = 100 )\n",
        "\n",
        "plt.plot( [ -2, 0, 2 ], [ 4, 0, 4 ], 'k.' )\n",
        "plt.axis( 'off' )\n",
        "\n",
        "plt.savefig( f'graph_test_1.png'  )\n",
        "plt.clf()\n",
        "\n",
        "\n",
        "plt.figure( figsize = figSize, dpi = 100 )\n",
        "\n",
        "plt.plot( [ -2, 0, 2 ], [ -8, 0, 8 ], 'k.' )\n",
        "plt.axis( 'off' )\n",
        "\n",
        "plt.savefig( f'graph_test_2.png'  )\n",
        "plt.clf()\n"
      ],
      "execution_count": null,
      "outputs": [
        {
          "output_type": "display_data",
          "data": {
            "text/plain": [
              "<Figure size 256x256 with 0 Axes>"
            ]
          },
          "metadata": {
            "tags": []
          }
        },
        {
          "output_type": "display_data",
          "data": {
            "text/plain": [
              "<Figure size 256x256 with 0 Axes>"
            ]
          },
          "metadata": {
            "tags": []
          }
        },
        {
          "output_type": "display_data",
          "data": {
            "text/plain": [
              "<Figure size 256x256 with 0 Axes>"
            ]
          },
          "metadata": {
            "tags": []
          }
        }
      ]
    },
    {
      "cell_type": "markdown",
      "metadata": {
        "id": "xzp0v_erBDaC"
      },
      "source": [
        "# Load Data"
      ]
    },
    {
      "cell_type": "code",
      "metadata": {
        "id": "ed5IUDLeMdSc"
      },
      "source": [
        "x_data, y_data = [ ], [ ]\n",
        "x_test = [ ]\n",
        "\n",
        "os.chdir( X_DATA_DIR )\n",
        "files = glob.glob( '*png' )\n",
        "for file in files:\n",
        "    x_data.append( 255 - cv2.imread( file, 0 ) )\n",
        "\n",
        "os.chdir( Y_DATA_DIR )\n",
        "files = glob.glob( '*png' )\n",
        "for file in files:\n",
        "    y_data.append( 255 - cv2.imread( file, 0 ) )\n",
        "\n",
        "os.chdir( TEST_DIR )\n",
        "files = glob.glob( '*png' )\n",
        "for file in files:\n",
        "    x_test.append( 255 - cv2.imread( file, 0 ) )"
      ],
      "execution_count": null,
      "outputs": []
    },
    {
      "cell_type": "code",
      "metadata": {
        "colab": {
          "base_uri": "https://localhost:8080/",
          "height": 273
        },
        "id": "3ggCCceoMaeY",
        "outputId": "2ed30483-7aec-4dbb-dd47-44a152694e14"
      },
      "source": [
        "from google.colab.patches import cv2_imshow\n",
        "\n",
        "cv2_imshow( x_data[0] )"
      ],
      "execution_count": null,
      "outputs": [
        {
          "output_type": "display_data",
          "data": {
            "image/png": "[encoded data removed]",
            "text/plain": [
              "<PIL.Image.Image image mode=L size=256x256 at 0x7F4289016208>"
            ]
          },
          "metadata": {
            "tags": []
          }
        }
      ]
    },
    {
      "cell_type": "code",
      "metadata": {
        "id": "EfrEfsPJ_asf"
      },
      "source": [
        "x_data = np.array( x_data ).astype( 'float32' )\n",
        "y_data = np.array( y_data ).astype( 'float32' )\n",
        "x_test = np.array( x_test ).astype( 'float32' )\n",
        "\n",
        "x_data = ( x_data - 127.5 ) / 127.5\n",
        "y_data = ( y_data - 127.5 ) / 127.5\n",
        "x_test = ( x_test - 127.5 ) / 127.5\n",
        "\n",
        "x_data = np.reshape( x_data, ( len( x_data ), IMG_SIZE, IMG_SIZE, 1 ) )\n",
        "y_data = np.reshape( y_data, ( len( y_data ), IMG_SIZE, IMG_SIZE, 1 ) )\n",
        "x_test = np.reshape( x_test, ( len( x_test ), IMG_SIZE, IMG_SIZE, 1 ) )"
      ],
      "execution_count": null,
      "outputs": []
    },
    {
      "cell_type": "code",
      "metadata": {
        "colab": {
          "base_uri": "https://localhost:8080/"
        },
        "id": "V6KDeGudBwUr",
        "outputId": "1e9506e5-15c1-41d6-8cae-a903a0a3fa11"
      },
      "source": [
        "x_data.shape"
      ],
      "execution_count": null,
      "outputs": [
        {
          "output_type": "execute_result",
          "data": {
            "text/plain": [
              "(30, 256, 256, 1)"
            ]
          },
          "metadata": {
            "tags": []
          },
          "execution_count": 12
        }
      ]
    },
    {
      "cell_type": "markdown",
      "metadata": {
        "id": "fo4B8Nd-NBKZ"
      },
      "source": [
        "# Build Models"
      ]
    },
    {
      "cell_type": "code",
      "metadata": {
        "id": "Av8962le7keX"
      },
      "source": [
        "import tensorflow as tf\n",
        "from tensorflow import keras\n",
        "from tensorflow.keras import layers"
      ],
      "execution_count": null,
      "outputs": []
    },
    {
      "cell_type": "code",
      "metadata": {
        "id": "Etp3cQtV_o4C"
      },
      "source": [
        "BUFFER_SIZE = 30\n",
        "BATCH_SIZE = 10\n",
        "train_dataset = tf.data.Dataset.from_tensor_slices(x_data).shuffle(BUFFER_SIZE).batch(BATCH_SIZE)"
      ],
      "execution_count": null,
      "outputs": []
    },
    {
      "cell_type": "markdown",
      "metadata": {
        "id": "BclHsCvaND9x"
      },
      "source": [
        "## Build Generator Model"
      ]
    },
    {
      "cell_type": "code",
      "metadata": {
        "id": "iK8p37IYMd9z"
      },
      "source": [
        "generator = keras.Sequential( name = 'generator' )\n",
        "\n",
        "generator.add( layers.Input( [ IMG_SIZE, IMG_SIZE, 1 ] ) )\n",
        "\n",
        "# output shape ( 128, 128, 32 )\n",
        "generator.add( layers.Conv2DTranspose( 32, ( 5, 5 ), padding = 'same', use_bias = False ) )\n",
        "generator.add( layers.BatchNormalization( ) )\n",
        "generator.add( layers.LeakyReLU( ) )\n",
        "\n",
        "# output shape ( 64, 64, 64 )\n",
        "generator.add( layers.Conv2DTranspose( 64, ( 5, 5 ), padding = 'same', use_bias = False ) )\n",
        "generator.add( layers.BatchNormalization( ) )\n",
        "generator.add( layers.LeakyReLU( ) )\n",
        "\n",
        " # output shape ( 128, 128, 64 )\n",
        "generator.add( layers.Conv2DTranspose( 128, ( 5, 5 ), padding = 'same', use_bias = False ) )\n",
        "generator.add( layers.BatchNormalization( ) )\n",
        "generator.add( layers.LeakyReLU( ) )\n",
        "\n",
        "# output shape ( 256, 256, 32 )\n",
        "generator.add( layers.Conv2DTranspose( 256, ( 5, 5 ), padding = 'same', use_bias = False ) )\n",
        "generator.add( layers.BatchNormalization( ) )\n",
        "generator.add( layers.LeakyReLU( ) )\n",
        "\n",
        "# output shape ( 256, 256, 1 )\n",
        "generator.add( layers.Conv2DTranspose( 1, ( 5, 5 ), padding = 'same', use_bias = False, activation = 'tanh' ) )"
      ],
      "execution_count": null,
      "outputs": []
    },
    {
      "cell_type": "code",
      "metadata": {
        "id": "scITGONbOf_N"
      },
      "source": [
        "# generator.compile( )\n",
        "# generator.summary()"
      ],
      "execution_count": null,
      "outputs": []
    },
    {
      "cell_type": "code",
      "metadata": {
        "colab": {
          "base_uri": "https://localhost:8080/",
          "height": 287
        },
        "id": "FWA0TGM7FIDj",
        "outputId": "7764ab17-8bb2-433a-cf9d-e30969c7a9f7"
      },
      "source": [
        "noise = tf.random.normal( [ 1, IMG_SIZE, IMG_SIZE, 1 ] )\n",
        "generated_image = generator( noise, training = False )\n",
        "\n",
        "plt.imshow( generated_image[ 0, :, :, 0 ], cmap = 'gray' )"
      ],
      "execution_count": null,
      "outputs": [
        {
          "output_type": "execute_result",
          "data": {
            "text/plain": [
              "<matplotlib.image.AxesImage at 0x7f42404a82e8>"
            ]
          },
          "metadata": {
            "tags": []
          },
          "execution_count": 17
        },
        {
          "output_type": "display_data",
          "data": {
            "image/png": "[encoded data removed]",
            "text/plain": [
              "<Figure size 432x288 with 1 Axes>"
            ]
          },
          "metadata": {
            "tags": [],
            "needs_background": "light"
          }
        }
      ]
    },
    {
      "cell_type": "code",
      "metadata": {
        "colab": {
          "base_uri": "https://localhost:8080/"
        },
        "id": "-89zYlDHObUY",
        "outputId": "f6833524-23e5-406f-9dfa-6c3a0749ad3b"
      },
      "source": [
        "generated_image.shape"
      ],
      "execution_count": null,
      "outputs": [
        {
          "output_type": "execute_result",
          "data": {
            "text/plain": [
              "TensorShape([1, 256, 256, 1])"
            ]
          },
          "metadata": {
            "tags": []
          },
          "execution_count": 18
        }
      ]
    },
    {
      "cell_type": "markdown",
      "metadata": {
        "id": "5lsNI6l7NHS_"
      },
      "source": [
        "## Build Discriminator Model"
      ]
    },
    {
      "cell_type": "code",
      "metadata": {
        "id": "59HyNNqKNJa3"
      },
      "source": [
        "discriminator = keras.Sequential( name = 'discriminator' )\n",
        "\n",
        "discriminator.add( layers.Conv2D( 32, ( 5, 5 ), strides = ( 2, 2 ), padding = 'same',\n",
        "                                 input_shape = [ IMG_SIZE, IMG_SIZE, 1 ] ) )\n",
        "discriminator.add( layers.LeakyReLU( ) )\n",
        "discriminator.add( layers.Dropout( 0.3 ) )\n",
        "\n",
        "discriminator.add( layers.Conv2D( 64, ( 5, 5 ), strides = ( 2, 2 ), padding = 'same' ) )\n",
        "discriminator.add( layers.LeakyReLU( ) )\n",
        "discriminator.add( layers.Dropout( 0.3 ) )\n",
        "\n",
        "discriminator.add( layers.Conv2D( 128, ( 5, 5 ), strides = ( 2, 2 ), padding = 'same' ) )\n",
        "discriminator.add( layers.LeakyReLU( ) )\n",
        "discriminator.add( layers.Dropout( 0.3 ) )\n",
        "\n",
        "discriminator.add( layers.Flatten( ) )\n",
        "discriminator.add( layers.Dense( 1 ) )"
      ],
      "execution_count": null,
      "outputs": []
    },
    {
      "cell_type": "code",
      "metadata": {
        "colab": {
          "base_uri": "https://localhost:8080/"
        },
        "id": "1EI_1S-8Hfiu",
        "outputId": "fe7eecf8-ae37-46f1-d8ac-43e57ee218ca"
      },
      "source": [
        "decision = discriminator( generated_image )\n",
        "print( decision )"
      ],
      "execution_count": null,
      "outputs": [
        {
          "output_type": "stream",
          "text": [
            "tf.Tensor([[0.00161264]], shape=(1, 1), dtype=float32)\n"
          ],
          "name": "stdout"
        }
      ]
    },
    {
      "cell_type": "markdown",
      "metadata": {
        "id": "aFnEebFfJF1f"
      },
      "source": [
        "# Train the models"
      ]
    },
    {
      "cell_type": "markdown",
      "metadata": {
        "id": "HB-qjfM9JZXy"
      },
      "source": [
        "## Define loss and optimizers"
      ]
    },
    {
      "cell_type": "code",
      "metadata": {
        "id": "nCI0SIKBHlCr"
      },
      "source": [
        "cross_entropy = keras.losses.BinaryCrossentropy( from_logits = True )"
      ],
      "execution_count": null,
      "outputs": []
    },
    {
      "cell_type": "code",
      "metadata": {
        "id": "DgUSGNCNITO-"
      },
      "source": [
        "def discriminator_loss( real_output, fake_output ):\n",
        "    real_loss = cross_entropy( tf.ones_like( real_output ), real_output )\n",
        "    fake_loss = cross_entropy( tf.zeros_like( fake_output ), fake_output )\n",
        "\n",
        "    total_loss = real_loss + fake_loss\n",
        "    \n",
        "    return total_loss\n",
        "\n",
        "def generator_loss( fake_output ):\n",
        "    return cross_entropy( tf.ones_like( fake_output ), fake_output )"
      ],
      "execution_count": null,
      "outputs": []
    },
    {
      "cell_type": "code",
      "metadata": {
        "id": "pCGCUVSkI57q"
      },
      "source": [
        "generator_optimizer = tf.keras.optimizers.Adam( 1e-4 )\n",
        "discriminator_optimizer = tf.keras.optimizers.Adam( 1e-4 )"
      ],
      "execution_count": null,
      "outputs": []
    },
    {
      "cell_type": "markdown",
      "metadata": {
        "id": "ePMCxm0GJcAJ"
      },
      "source": [
        "## Define Hyperparameter"
      ]
    },
    {
      "cell_type": "code",
      "metadata": {
        "id": "MC6cFLL8JDM1"
      },
      "source": [
        "EPOCHS = 1000\n",
        "noise_dim = 100\n",
        "num_examples_to_generate = 16"
      ],
      "execution_count": null,
      "outputs": []
    },
    {
      "cell_type": "markdown",
      "metadata": {
        "id": "89WGTyVzKgP-"
      },
      "source": [
        "## Define Train Function"
      ]
    },
    {
      "cell_type": "code",
      "metadata": {
        "id": "8UNXBqzV3LBc"
      },
      "source": [
        "def generate_and_save_images( epochs ):\n",
        "    predictions = generator( x_test, training = False )\n",
        "\n",
        "    fig, ax = plt.subplots( 1, 3, figsize = ( 16, 12 ) )\n",
        "    for i in range( predictions.shape[0] ):\n",
        "        ax[i].imshow( tf.reshape( predictions[i], ( IMG_SIZE, IMG_SIZE ) ) )\n",
        "\n",
        "    plt.savefig( 'Result_at_epoch_{:04d}.png'.format( epochs ) )\n",
        "    plt.show()"
      ],
      "execution_count": null,
      "outputs": []
    },
    {
      "cell_type": "code",
      "metadata": {
        "id": "tqQpnzlkKf2H"
      },
      "source": [
        "@tf.function\n",
        "def train_step( images ):\n",
        "    noise = tf.random.normal( [ BATCH_SIZE, IMG_SIZE, IMG_SIZE, 1 ] )\n",
        "\n",
        "    with tf.GradientTape( ) as gen_tape, tf.GradientTape( ) as disc_tape:\n",
        "      generated_images = generator( noise, training = True )\n",
        "\n",
        "      real_output = discriminator( images, training = True )\n",
        "      fake_output = discriminator( generated_images, training = True )\n",
        "\n",
        "      gen_loss = generator_loss( fake_output )\n",
        "      disc_loss = discriminator_loss( real_output, fake_output )\n",
        "\n",
        "    gradients_of_generator = gen_tape.gradient( gen_loss, generator.trainable_variables )\n",
        "    gradients_of_discriminator = disc_tape.gradient( disc_loss, discriminator.trainable_variables )\n",
        "\n",
        "    generator_optimizer.apply_gradients( zip( gradients_of_generator, generator.trainable_variables ) )\n",
        "    discriminator_optimizer.apply_gradients( zip( gradients_of_discriminator, discriminator.trainable_variables ) )\n",
        "\n",
        "def train( dataset, epochs ):\n",
        "    plt.gray()\n",
        "    os.chdir( os.path.join( CURR_DIR, DRIVE_DIR ) )\n",
        "    if ( RESULT_DIR not in os.listdir() ):\n",
        "        os.mkdir( RESULT_DIR )\n",
        "    os.chdir( RESULT_DIR )\n",
        "\n",
        "    for epoch in range( epochs ):\n",
        "        start = time.time( )\n",
        "\n",
        "        for image_batch in dataset:\n",
        "            train_step( image_batch )\n",
        "\n",
        "        if ( epoch % 50 == 0 ):\n",
        "            display.clear_output(wait=True)\n",
        "            generate_and_save_images( epoch )\n",
        "\n",
        "        print( 'Time for epoch {:02d} is {:.4f} sec'.format( epoch + 1, time.time( ) - start ) )"
      ],
      "execution_count": null,
      "outputs": []
    },
    {
      "cell_type": "code",
      "metadata": {
        "colab": {
          "base_uri": "https://localhost:8080/",
          "height": 1000
        },
        "id": "LA0NIrgo6xbk",
        "outputId": "70628e50-707d-45e4-b082-53e139c15a55"
      },
      "source": [
        "train( train_dataset, EPOCHS )"
      ],
      "execution_count": null,
      "outputs": [
        {
          "output_type": "display_data",
          "data": {
            "image/png": "[encoded data removed]",
            "text/plain": [
              "<Figure size 1152x864 with 3 Axes>"
            ]
          },
          "metadata": {
            "tags": [],
            "needs_background": "light"
          }
        },
        {
          "output_type": "stream",
          "text": [
            "Time for epoch 951 is 3.03456449508667 sec\n",
            "Time for epoch 952 is 1.314375877380371 sec\n",
            "Time for epoch 953 is 1.9317889213562012 sec\n",
            "Time for epoch 954 is 1.9244871139526367 sec\n",
            "Time for epoch 955 is 1.9217636585235596 sec\n",
            "Time for epoch 956 is 1.9256038665771484 sec\n",
            "Time for epoch 957 is 1.9272372722625732 sec\n",
            "Time for epoch 958 is 1.9260239601135254 sec\n",
            "Time for epoch 959 is 1.9298062324523926 sec\n",
            "Time for epoch 960 is 1.923827886581421 sec\n",
            "Time for epoch 961 is 1.923572063446045 sec\n",
            "Time for epoch 962 is 1.9215717315673828 sec\n",
            "Time for epoch 963 is 1.9282844066619873 sec\n",
            "Time for epoch 964 is 1.9200797080993652 sec\n",
            "Time for epoch 965 is 1.922327995300293 sec\n",
            "Time for epoch 966 is 1.924417495727539 sec\n",
            "Time for epoch 967 is 1.922806978225708 sec\n",
            "Time for epoch 968 is 1.9254229068756104 sec\n",
            "Time for epoch 969 is 1.9178135395050049 sec\n",
            "Time for epoch 970 is 1.918851375579834 sec\n",
            "Time for epoch 971 is 1.9177627563476562 sec\n",
            "Time for epoch 972 is 1.9205267429351807 sec\n",
            "Time for epoch 973 is 1.9194223880767822 sec\n",
            "Time for epoch 974 is 1.9142658710479736 sec\n",
            "Time for epoch 975 is 1.9155795574188232 sec\n",
            "Time for epoch 976 is 1.9127323627471924 sec\n",
            "Time for epoch 977 is 1.9146313667297363 sec\n",
            "Time for epoch 978 is 1.9154021739959717 sec\n",
            "Time for epoch 979 is 1.9176666736602783 sec\n",
            "Time for epoch 980 is 1.9147250652313232 sec\n",
            "Time for epoch 981 is 1.9127223491668701 sec\n",
            "Time for epoch 982 is 1.914930820465088 sec\n",
            "Time for epoch 983 is 1.9093754291534424 sec\n",
            "Time for epoch 984 is 1.913398265838623 sec\n",
            "Time for epoch 985 is 1.9181382656097412 sec\n",
            "Time for epoch 986 is 1.9092867374420166 sec\n",
            "Time for epoch 987 is 1.9140386581420898 sec\n",
            "Time for epoch 988 is 1.9053428173065186 sec\n",
            "Time for epoch 989 is 1.9046096801757812 sec\n",
            "Time for epoch 990 is 1.906787395477295 sec\n",
            "Time for epoch 991 is 1.9035756587982178 sec\n",
            "Time for epoch 992 is 1.9046821594238281 sec\n",
            "Time for epoch 993 is 1.9039897918701172 sec\n",
            "Time for epoch 994 is 1.9356577396392822 sec\n",
            "Time for epoch 995 is 1.8909885883331299 sec\n",
            "Time for epoch 996 is 1.9120233058929443 sec\n",
            "Time for epoch 997 is 1.9057669639587402 sec\n",
            "Time for epoch 998 is 1.9090468883514404 sec\n",
            "Time for epoch 999 is 1.9306490421295166 sec\n",
            "Time for epoch 1000 is 1.8839547634124756 sec\n"
          ],
          "name": "stdout"
        }
      ]
    },
    {
      "cell_type": "markdown",
      "metadata": {
        "id": "uT2iXgY-CXp7"
      },
      "source": [
        "# Test Model"
      ]
    },
    {
      "cell_type": "code",
      "metadata": {
        "colab": {
          "base_uri": "https://localhost:8080/",
          "height": 670
        },
        "id": "FOhm27aMCWm7",
        "outputId": "46ba9811-a641-41d2-ed71-06d46e4b2d0c"
      },
      "source": [
        "predicted_images = generator( x_test )\n",
        "\n",
        "fig, ax = plt.subplots( 2, 3, True, True, figsize = ( 16, 12 ) )\n",
        "for i in range( len( x_test ) ):\n",
        "    ax[0][i].imshow( x_test[i].reshape( 256, 256 ) )\n",
        "\n",
        "    ax[1][i].imshow( tf.reshape( predicted_images[i], ( 256, 256 ) ) )\n",
        "plt.savefig( 'Result_Final.png' )"
      ],
      "execution_count": null,
      "outputs": [
        {
          "output_type": "display_data",
          "data": {
            "image/png": "[encoded data removed]",
            "text/plain": [
              "<Figure size 1152x864 with 6 Axes>"
            ]
          },
          "metadata": {
            "tags": [],
            "needs_background": "light"
          }
        }
      ]
    }
  ]
}